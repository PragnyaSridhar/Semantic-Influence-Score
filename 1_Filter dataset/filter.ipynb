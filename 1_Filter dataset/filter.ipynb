{
  "nbformat": 4,
  "nbformat_minor": 0,
  "metadata": {
    "colab": {
      "name": "Copy of CN-gen_read.ipynb",
      "provenance": [],
      "collapsed_sections": []
    },
    "kernelspec": {
      "name": "python3",
      "display_name": "Python 3"
    }
  },
  "cells": [
    {
      "cell_type": "code",
      "metadata": {
        "id": "SgIMGluLu5xV"
      },
      "source": [
        "import json\n",
        "def file_reader(fname):\n",
        "  for row in open(fname):\n",
        "    yield (row)"
      ],
      "execution_count": null,
      "outputs": []
    },
    {
      "cell_type": "code",
      "metadata": {
        "id": "5_6V0vQ_vXrc"
      },
      "source": [
        "data = file_reader('/content/drive/MyDrive/Citation/Article.json')"
      ],
      "execution_count": null,
      "outputs": []
    },
    {
      "cell_type": "markdown",
      "metadata": {
        "id": "gW9EzEdVn23j"
      },
      "source": [
        "### Journals considered\n",
        "<table>\n",
        "<tr>\n",
        "<th>Conference/Journal</th>\n",
        "<th>ID</th>\n",
        "</tr>\n",
        "<tr>\n",
        "<td>International Conference on Learning Representations</td>\n",
        "<td>2584161585</td>\n",
        "</tr>\n",
        "<tr>\n",
        "<td>Neural Information Processing Systems</td>\n",
        "<td>1127325140</td>\n",
        "</tr>\n",
        "<tr>\n",
        "<td>International Conference on Machine Learning (ICML)</td>\n",
        "<td>1180662882</td>\n",
        "</tr>\n",
        "<tr>\n",
        "<td>The Journal of Machine Learning Research</td>\n",
        "<td>118988714</td>\n",
        "</tr>\n",
        "<tr>\n",
        "<td>Conference on Learning Theory (COLT)</td>\n",
        "<td>1177622950</td>\n",
        "</tr>\n",
        "<tr>\n",
        "<td>Expert Systems with Applications</td>\n",
        "<td>13144211</td>\n",
        "</tr>\n",
        "<tr>\n",
        "<td>IEEE Transactions On Systems, Man And Cybernetics Part B, Cybernetics</td>\n",
        "<td>76152103</td>\n",
        "</tr>\n",
        "<tr>\n",
        "<td>Applied Soft Computing</td>\n",
        "<td>140556538</td>\n",
        "</tr>\n",
        "<tr>\n",
        "<td>IEEE Transactions on Fuzzy Systems</td>\n",
        "<td>134177497</td>\n",
        "</tr>\n",
        "<tr>\n",
        "<td>Knowledge-Based Systems</td>\n",
        "<td>10169007</td>\n",
        "</tr>\n",
        "<tr>\n",
        "<td>Neural Computing and Applications</td>\n",
        "<td>147897268</td>\n",
        "</tr>\n",
        "<tr>\n",
        "<td>Engineering Applications of Artificial Intelligence</td>\n",
        "<td>900972176</td>\n",
        "</tr>\n",
        "<tr>\n",
        "<td>Robotics and Autonomous Systems</td>\n",
        "<td>133768115</td>\n",
        "</tr>\n",
        "<tr>\n",
        "<td>Journal of Intelligent & Fuzzy Systems</td>\n",
        "<td>179157397</td>\n",
        "</tr>\n",
        "<tr>\n",
        "<td>Neural network</td>\n",
        "<td>123019304</td>\n",
        "</tr>\n",
        "<tr>\n",
        "<td>AAAI Paper</td>\n",
        "<td>1184914352</td>\n",
        "</tr>\n",
        "</table>\n",
        "\n"
      ]
    },
    {
      "cell_type": "code",
      "metadata": {
        "id": "8sBA7mfvu0ki"
      },
      "source": [
        "la = [2584161585,1127325140,1180662882,118988714,1177622950]\n",
        "lb = [13144211,76152103,140556538,134177497,10169007,147897268,900972176,133768115,179157397]\n",
        "lc = [123019304,1184914352]\n",
        "l = la+lb+lc"
      ],
      "execution_count": null,
      "outputs": []
    },
    {
      "cell_type": "code",
      "metadata": {
        "id": "4rdrY4dlrKZ4"
      },
      "source": [
        "def get_data_from_list(data_list,param):\n",
        "  ret = ''\n",
        "  i=0\n",
        "  for dictionary in data_list:\n",
        "    ret+=dictionary[param]\n",
        "    if(i==1):\n",
        "      ret+=' ; '\n",
        "    i=1\n",
        "  return(ret)"
      ],
      "execution_count": null,
      "outputs": []
    },
    {
      "cell_type": "code",
      "metadata": {
        "id": "5zxAs7dptGH0"
      },
      "source": [
        "def get_fos(data_list):\n",
        "  ret = ''\n",
        "  for d in data_list:\n",
        "    ret+=d['name']+'='+str(d['w'])+' ; '\n",
        "  return(ret)  "
      ],
      "execution_count": null,
      "outputs": []
    },
    {
      "cell_type": "code",
      "metadata": {
        "id": "afs1z9G7MWGd"
      },
      "source": [
        "ret = {'title':[],'authors':[],'n_citation':[],'doi':[],'url':[],'pdf':[],'conf':[],'fos':[],'year':[],'pool':[]}\n",
        "\n",
        "def get_content_from_journalList(data,list_of_journals,la,lb,lc):\n",
        "  d = next(data)\n",
        "  d = json.loads(next(data))\n",
        "  i=1\n",
        "  j=0\n",
        "  while(d):\n",
        "    # print(d['venue'])\n",
        "    if('venue' in d.keys() and 'id' in d['venue'].keys()):\n",
        "      if d['venue']['id'] in list_of_journals:\n",
        "        # print('in')\n",
        "        if(d['venue']['id'] in la):\n",
        "          ret['pool'].append('A')\n",
        "        if(d['venue']['id'] in lb):\n",
        "          ret['pool'].append('B')\n",
        "        if(d['venue']['id'] in lc):\n",
        "          ret['pool'].append('C')\n",
        "        ret['title'].append(d['title'])\n",
        "        ret['authors'].append(get_data_from_list(d['authors'],'name'))\n",
        "        ret['n_citation'].append(d['n_citation'])\n",
        "        ret['conf'].append(d['venue']['raw'])\n",
        "        ret['doi'].append(d.get('doi',''))\n",
        "        ret['url'].append(d.get('url',''))\n",
        "        ret['pdf'].append(d.get('pdf',''))\n",
        "        ret['fos'].append(get_fos(d['fos']))\n",
        "        ret['year'].append(d['year'])\n",
        "        # return(ret)\n",
        "        j+=1\n",
        "    # print('here')\n",
        "    try:\n",
        "      d = json.loads(next(data)[1:])\n",
        "    except ValueError:\n",
        "      break\n",
        "    # print('k')\n",
        "    # print(i)\n",
        "    i+=1\n",
        "    # print('la')\n",
        "    # if(len(ret['title'])==2):\n",
        "    #   break\n",
        "  return(ret)"
      ],
      "execution_count": null,
      "outputs": []
    },
    {
      "cell_type": "code",
      "metadata": {
        "id": "AahcqiBYvzYd"
      },
      "source": [
        "data = file_reader('/content/drive/MyDrive/Citation/Article.json')\n",
        "# Ignore the JSON Decoder error that comes\n",
        "r = get_content_from_journalList(data,l,la,lb,lc)"
      ],
      "execution_count": null,
      "outputs": []
    },
    {
      "cell_type": "code",
      "metadata": {
        "colab": {
          "base_uri": "https://localhost:8080/"
        },
        "id": "EwIZKSK9v3Lk",
        "outputId": "024bcfda-8f08-4316-ab49-f96aa29ae53e"
      },
      "source": [
        "print(len(ret['title']))"
      ],
      "execution_count": null,
      "outputs": [
        {
          "output_type": "stream",
          "text": [
            "87188\n"
          ],
          "name": "stdout"
        }
      ]
    },
    {
      "cell_type": "code",
      "metadata": {
        "id": "o3pqRxUCwdb9"
      },
      "source": [
        "for key in ret.keys():\n",
        "  if(len(ret[key])!=87188):\n",
        "    print(key)"
      ],
      "execution_count": null,
      "outputs": []
    },
    {
      "cell_type": "code",
      "metadata": {
        "colab": {
          "base_uri": "https://localhost:8080/",
          "height": 530
        },
        "id": "niXQTBOwX4ne",
        "outputId": "a5b7fe8d-058d-4e3b-b712-28895c892666"
      },
      "source": [
        "import pandas as pd\n",
        "df = pd.DataFrame(ret)\n",
        "df.head()"
      ],
      "execution_count": null,
      "outputs": [
        {
          "output_type": "execute_result",
          "data": {
            "text/html": [
              "<div>\n",
              "<style scoped>\n",
              "    .dataframe tbody tr th:only-of-type {\n",
              "        vertical-align: middle;\n",
              "    }\n",
              "\n",
              "    .dataframe tbody tr th {\n",
              "        vertical-align: top;\n",
              "    }\n",
              "\n",
              "    .dataframe thead th {\n",
              "        text-align: right;\n",
              "    }\n",
              "</style>\n",
              "<table border=\"1\" class=\"dataframe\">\n",
              "  <thead>\n",
              "    <tr style=\"text-align: right;\">\n",
              "      <th></th>\n",
              "      <th>title</th>\n",
              "      <th>authors</th>\n",
              "      <th>n_citation</th>\n",
              "      <th>doi</th>\n",
              "      <th>url</th>\n",
              "      <th>pdf</th>\n",
              "      <th>conf</th>\n",
              "      <th>fos</th>\n",
              "      <th>year</th>\n",
              "      <th>pool</th>\n",
              "    </tr>\n",
              "  </thead>\n",
              "  <tbody>\n",
              "    <tr>\n",
              "      <th>0</th>\n",
              "      <td>Von Mises-Fisher Clustering Models</td>\n",
              "      <td>Siddharth GopalYiming Yang ;</td>\n",
              "      <td>37</td>\n",
              "      <td></td>\n",
              "      <td></td>\n",
              "      <td></td>\n",
              "      <td>International Conference on Machine Learning</td>\n",
              "      <td>Cluster (physics)=0.40898 ; Data mining=0.4425...</td>\n",
              "      <td>2014</td>\n",
              "      <td>A</td>\n",
              "    </tr>\n",
              "    <tr>\n",
              "      <th>1</th>\n",
              "      <td>Search lessons learned from crossword puzzles</td>\n",
              "      <td>Matthew L. GinsbergMichael Frank ; Michael P. ...</td>\n",
              "      <td>66</td>\n",
              "      <td></td>\n",
              "      <td></td>\n",
              "      <td></td>\n",
              "      <td>National Conference on Artificial Intelligence</td>\n",
              "      <td>Local consistency=0.54546 ; Computer science=0...</td>\n",
              "      <td>1990</td>\n",
              "      <td>C</td>\n",
              "    </tr>\n",
              "    <tr>\n",
              "      <th>2</th>\n",
              "      <td>Conceptual Indexing: Practical Large-Scale AI ...</td>\n",
              "      <td>William A. Woods</td>\n",
              "      <td>4</td>\n",
              "      <td></td>\n",
              "      <td></td>\n",
              "      <td></td>\n",
              "      <td>National Conference on Artificial Intelligence</td>\n",
              "      <td>Procedural knowledge=0.61697 ; Data science=0....</td>\n",
              "      <td>2000</td>\n",
              "      <td>C</td>\n",
              "    </tr>\n",
              "    <tr>\n",
              "      <th>3</th>\n",
              "      <td>Automated identification of thoracolumbar vert...</td>\n",
              "      <td>Tao WuBing Jian ; Xiang Sean Zhou ;</td>\n",
              "      <td>4</td>\n",
              "      <td>10.1007/978-3-642-24319-6_16</td>\n",
              "      <td></td>\n",
              "      <td></td>\n",
              "      <td>International Conference on Machine Learning</td>\n",
              "      <td>Matching pursuit=0.48492 ; Field of view=0.416...</td>\n",
              "      <td>2011</td>\n",
              "      <td>A</td>\n",
              "    </tr>\n",
              "    <tr>\n",
              "      <th>4</th>\n",
              "      <td>Adaptive localization in a dynamic WiFi enviro...</td>\n",
              "      <td>Sinno Jialin PanJames T. Kwok ; Qiang Yang ; J...</td>\n",
              "      <td>65</td>\n",
              "      <td></td>\n",
              "      <td></td>\n",
              "      <td></td>\n",
              "      <td>National Conference on Artificial Intelligence</td>\n",
              "      <td>Activity recognition=0.53406 ; Wireless=0.5040...</td>\n",
              "      <td>2007</td>\n",
              "      <td>C</td>\n",
              "    </tr>\n",
              "  </tbody>\n",
              "</table>\n",
              "</div>"
            ],
            "text/plain": [
              "                                               title  ... pool\n",
              "0                 Von Mises-Fisher Clustering Models  ...    A\n",
              "1      Search lessons learned from crossword puzzles  ...    C\n",
              "2  Conceptual Indexing: Practical Large-Scale AI ...  ...    C\n",
              "3  Automated identification of thoracolumbar vert...  ...    A\n",
              "4  Adaptive localization in a dynamic WiFi enviro...  ...    C\n",
              "\n",
              "[5 rows x 10 columns]"
            ]
          },
          "metadata": {
            "tags": []
          },
          "execution_count": 54
        }
      ]
    },
    {
      "cell_type": "code",
      "metadata": {
        "id": "NEBWxBxokfty"
      },
      "source": [
        "df.to_csv('all_papers_from_aminer.csv')\n",
        "!cp 'all_papers_from_aminer.csv' '/content/drive/MyDrive/Citation'"
      ],
      "execution_count": null,
      "outputs": []
    },
    {
      "cell_type": "code",
      "metadata": {
        "id": "sdOCRyE5XZA0"
      },
      "source": [
        "ret = {'title':[],'authors':[],'n_citation':[],'doi':[],'url':[],'pdf':[],'conf':[],'fos':[],'year':[],'pool':[]}\n",
        "\n",
        "def get_content_from_journal(data,journal_id,pool):\n",
        "  d = next(data)\n",
        "  d = json.loads(next(data))\n",
        "  i=1\n",
        "  j=0\n",
        "  while(d):\n",
        "    # print(d['venue'])\n",
        "    if('venue' in d.keys() and 'id' in d['venue'].keys()):\n",
        "      if (d['venue']['id']==journal_id):\n",
        "        # print('in')\n",
        "        ret['pool'].append(pool)\n",
        "        ret['title'].append(d['title'])\n",
        "        ret['authors'].append(get_data_from_list(d['authors'],'name'))\n",
        "        ret['n_citation'].append(d['n_citation'])\n",
        "        ret['conf'].append(d['venue']['raw'])\n",
        "        ret['doi'].append(d.get('doi',''))\n",
        "        ret['url'].append(d.get('url',''))\n",
        "        ret['pdf'].append(d.get('pdf',''))\n",
        "        ret['fos'].append(get_fos(d['fos']))\n",
        "        ret['year'].append(d['year'])\n",
        "        # return(ret)\n",
        "        j+=1\n",
        "    # print('here')\n",
        "    try:\n",
        "      d = json.loads(next(data)[1:])\n",
        "    except ValueError:\n",
        "      break\n",
        "    # print('k')\n",
        "    # print(i)\n",
        "    i+=1\n",
        "    # print('la')\n",
        "    # if(len(ret['title'])==2):\n",
        "    #   break\n",
        "  return(ret)"
      ],
      "execution_count": null,
      "outputs": []
    },
    {
      "cell_type": "code",
      "metadata": {
        "id": "3SKzL5RNXlTC"
      },
      "source": [
        "journal = 'IEEE Transactions on Neural Networks and Learning Systems'\n",
        "journal_id = 42080949\n",
        "data = file_reader('/content/drive/MyDrive/Citation/Article.json')\n",
        "content = get_content_from_journal(data,journal_id,'A')"
      ],
      "execution_count": null,
      "outputs": []
    },
    {
      "cell_type": "code",
      "metadata": {
        "colab": {
          "base_uri": "https://localhost:8080/"
        },
        "id": "rVgcPV-WXuRI",
        "outputId": "5675b4f6-013c-48d2-b192-e8737e70f763"
      },
      "source": [
        "len(ret['title'])"
      ],
      "execution_count": null,
      "outputs": [
        {
          "output_type": "execute_result",
          "data": {
            "text/plain": [
              "5481"
            ]
          },
          "metadata": {
            "tags": []
          },
          "execution_count": 43
        }
      ]
    },
    {
      "cell_type": "code",
      "metadata": {
        "id": "4u1OTIEcY3tt"
      },
      "source": [
        "import json\n",
        "def file_reader2(fname):\n",
        "  for row in open(fname):\n",
        "    if(journal.lower() in row.lower()):\n",
        "        yield (row)"
      ],
      "execution_count": null,
      "outputs": []
    },
    {
      "cell_type": "code",
      "metadata": {
        "id": "BcLyh02ubFCu"
      },
      "source": [
        "data2 = file_reader2('/content/drive/MyDrive/Citation/Article.json')\n",
        "d = next(data2)"
      ],
      "execution_count": null,
      "outputs": []
    },
    {
      "cell_type": "code",
      "metadata": {
        "colab": {
          "base_uri": "https://localhost:8080/",
          "height": 564
        },
        "id": "K6eWEEY9e2Ks",
        "outputId": "b125f9cf-78cd-4908-c7ef-8632de3a1abc"
      },
      "source": [
        "import pandas as pd\n",
        "df = pd.DataFrame(ret)\n",
        "df.head()"
      ],
      "execution_count": null,
      "outputs": [
        {
          "output_type": "execute_result",
          "data": {
            "text/html": [
              "<div>\n",
              "<style scoped>\n",
              "    .dataframe tbody tr th:only-of-type {\n",
              "        vertical-align: middle;\n",
              "    }\n",
              "\n",
              "    .dataframe tbody tr th {\n",
              "        vertical-align: top;\n",
              "    }\n",
              "\n",
              "    .dataframe thead th {\n",
              "        text-align: right;\n",
              "    }\n",
              "</style>\n",
              "<table border=\"1\" class=\"dataframe\">\n",
              "  <thead>\n",
              "    <tr style=\"text-align: right;\">\n",
              "      <th></th>\n",
              "      <th>title</th>\n",
              "      <th>authors</th>\n",
              "      <th>n_citation</th>\n",
              "      <th>doi</th>\n",
              "      <th>url</th>\n",
              "      <th>pdf</th>\n",
              "      <th>conf</th>\n",
              "      <th>fos</th>\n",
              "      <th>year</th>\n",
              "      <th>pool</th>\n",
              "    </tr>\n",
              "  </thead>\n",
              "  <tbody>\n",
              "    <tr>\n",
              "      <th>0</th>\n",
              "      <td>Hierarchical Temporal Memory Based on Spin-Neu...</td>\n",
              "      <td>Deliang FanMrigank Sharad ; Abhronil Sengupta ...</td>\n",
              "      <td>30</td>\n",
              "      <td>10.1109/TNNLS.2015.2462731</td>\n",
              "      <td></td>\n",
              "      <td></td>\n",
              "      <td>IEEE Transactions on Neural Networks</td>\n",
              "      <td>Memristor=0.49117 ; Hierarchical temporal memo...</td>\n",
              "      <td>2016</td>\n",
              "      <td>A</td>\n",
              "    </tr>\n",
              "    <tr>\n",
              "      <th>1</th>\n",
              "      <td>An Asynchronous Recurrent Network of Cellular ...</td>\n",
              "      <td>Takashi MatsubaraHiroyuki Torikai ;</td>\n",
              "      <td>13</td>\n",
              "      <td>10.1109/TNNLS.2015.2425893</td>\n",
              "      <td></td>\n",
              "      <td></td>\n",
              "      <td>IEEE Transactions on Neural Networks</td>\n",
              "      <td>Asynchronous communication=0.52221 ; Cellular ...</td>\n",
              "      <td>2016</td>\n",
              "      <td>A</td>\n",
              "    </tr>\n",
              "    <tr>\n",
              "      <th>2</th>\n",
              "      <td>Sparse LSSVM in Primal Using Cholesky Factoriz...</td>\n",
              "      <td>Shuisheng Zhou</td>\n",
              "      <td>19</td>\n",
              "      <td>10.1109/TNNLS.2015.2424684</td>\n",
              "      <td></td>\n",
              "      <td></td>\n",
              "      <td>IEEE Transactions on Neural Networks</td>\n",
              "      <td>Kernel (linear algebra)=0.50229 ; Pattern reco...</td>\n",
              "      <td>2016</td>\n",
              "      <td>A</td>\n",
              "    </tr>\n",
              "    <tr>\n",
              "      <th>3</th>\n",
              "      <td>Data Generators for Learning Systems Based on ...</td>\n",
              "      <td>Marko Robnik-Sikonja</td>\n",
              "      <td>16</td>\n",
              "      <td>10.1109/TNNLS.2015.2429711</td>\n",
              "      <td></td>\n",
              "      <td></td>\n",
              "      <td>IEEE Transactions on Neural Networks</td>\n",
              "      <td>Data modeling=0.5959 ; Data mining=0.48055 ; D...</td>\n",
              "      <td>2016</td>\n",
              "      <td>A</td>\n",
              "    </tr>\n",
              "    <tr>\n",
              "      <th>4</th>\n",
              "      <td>Tree Ensembles on the Induced Discrete Space</td>\n",
              "      <td>Olcay Taner Yildiz</td>\n",
              "      <td>1</td>\n",
              "      <td>10.1109/TNNLS.2015.2430277</td>\n",
              "      <td></td>\n",
              "      <td></td>\n",
              "      <td>IEEE Transactions on Neural Networks</td>\n",
              "      <td>Decision tree=0.536 ; Feature vector=0.50997 ;...</td>\n",
              "      <td>2016</td>\n",
              "      <td>A</td>\n",
              "    </tr>\n",
              "  </tbody>\n",
              "</table>\n",
              "</div>"
            ],
            "text/plain": [
              "                                               title  ... pool\n",
              "0  Hierarchical Temporal Memory Based on Spin-Neu...  ...    A\n",
              "1  An Asynchronous Recurrent Network of Cellular ...  ...    A\n",
              "2  Sparse LSSVM in Primal Using Cholesky Factoriz...  ...    A\n",
              "3  Data Generators for Learning Systems Based on ...  ...    A\n",
              "4       Tree Ensembles on the Induced Discrete Space  ...    A\n",
              "\n",
              "[5 rows x 10 columns]"
            ]
          },
          "metadata": {
            "tags": []
          },
          "execution_count": 44
        }
      ]
    },
    {
      "cell_type": "code",
      "metadata": {
        "colab": {
          "base_uri": "https://localhost:8080/"
        },
        "id": "8FAqzt-bngSi",
        "outputId": "3a56e92d-a498-40d0-ff92-a33d48d1bc78"
      },
      "source": [
        "df['n_citation'].isna().sum()"
      ],
      "execution_count": null,
      "outputs": [
        {
          "output_type": "execute_result",
          "data": {
            "text/plain": [
              "0"
            ]
          },
          "metadata": {
            "tags": []
          },
          "execution_count": 45
        }
      ]
    },
    {
      "cell_type": "code",
      "metadata": {
        "colab": {
          "base_uri": "https://localhost:8080/"
        },
        "id": "PZg2LWFtnrvM",
        "outputId": "705427cd-eab6-4f25-d692-573694bfeeef"
      },
      "source": [
        "df.astype({'n_citation': 'int32'}).dtypes"
      ],
      "execution_count": null,
      "outputs": [
        {
          "output_type": "execute_result",
          "data": {
            "text/plain": [
              "title         object\n",
              "authors       object\n",
              "n_citation     int32\n",
              "doi           object\n",
              "url           object\n",
              "pdf           object\n",
              "conf          object\n",
              "fos           object\n",
              "year           int64\n",
              "pool          object\n",
              "dtype: object"
            ]
          },
          "metadata": {
            "tags": []
          },
          "execution_count": 46
        }
      ]
    },
    {
      "cell_type": "code",
      "metadata": {
        "colab": {
          "base_uri": "https://localhost:8080/"
        },
        "id": "WSRYZTLAoi52",
        "outputId": "6de1f62f-4558-4cc7-e408-3985e7be1015"
      },
      "source": [
        "x = df[df['n_citation']>=100]\n",
        "len(x)"
      ],
      "execution_count": null,
      "outputs": [
        {
          "output_type": "execute_result",
          "data": {
            "text/plain": [
              "787"
            ]
          },
          "metadata": {
            "tags": []
          },
          "execution_count": 58
        }
      ]
    },
    {
      "cell_type": "code",
      "metadata": {
        "id": "AdYioJuOonH-"
      },
      "source": [
        "df3 = pd.read_csv('/content/drive/MyDrive/Citation/filtered_Aminer_dataset.csv')"
      ],
      "execution_count": null,
      "outputs": []
    },
    {
      "cell_type": "code",
      "metadata": {
        "colab": {
          "base_uri": "https://localhost:8080/"
        },
        "id": "hiGvSv7JoyiJ",
        "outputId": "0e3b6e91-7017-4294-c8ab-2afded63b184"
      },
      "source": [
        "len(df3)"
      ],
      "execution_count": null,
      "outputs": [
        {
          "output_type": "execute_result",
          "data": {
            "text/plain": [
              "4906"
            ]
          },
          "metadata": {
            "tags": []
          },
          "execution_count": 63
        }
      ]
    },
    {
      "cell_type": "code",
      "metadata": {
        "id": "n2KzfzA3or4s"
      },
      "source": [
        "df3 = df3.append(x)"
      ],
      "execution_count": null,
      "outputs": []
    },
    {
      "cell_type": "code",
      "metadata": {
        "colab": {
          "base_uri": "https://localhost:8080/"
        },
        "id": "CRRA0fhqovdn",
        "outputId": "133d3a89-92a6-4fc4-f5ed-058f93c3953b"
      },
      "source": [
        "len(df3)"
      ],
      "execution_count": null,
      "outputs": [
        {
          "output_type": "execute_result",
          "data": {
            "text/plain": [
              "5693"
            ]
          },
          "metadata": {
            "tags": []
          },
          "execution_count": 65
        }
      ]
    },
    {
      "cell_type": "code",
      "metadata": {
        "id": "4U-1GWuCowET"
      },
      "source": [
        "df3.to_csv('filtered_Aminer_dataset.csv')\n",
        "!cp 'filtered_Aminer_dataset.csv' '/content/drive/MyDrive/Citation'"
      ],
      "execution_count": null,
      "outputs": []
    },
    {
      "cell_type": "markdown",
      "metadata": {
        "id": "rdDUXp8Dp3QA"
      },
      "source": [
        "#### Make Test dataset\n",
        "IJCNN code = 1140449422"
      ]
    },
    {
      "cell_type": "code",
      "metadata": {
        "id": "5C-RHMhNpHV3"
      },
      "source": [
        "journal_id = 1140449422\n",
        "data = file_reader('/content/drive/MyDrive/Citation/Article.json')\n",
        "content = get_content_from_journal(data,journal_id,'A')"
      ],
      "execution_count": null,
      "outputs": []
    },
    {
      "cell_type": "code",
      "metadata": {
        "id": "cRORVG8ar_SL"
      },
      "source": [
        "import pandas as pd\n",
        "df = pd.DataFrame(ret)\n",
        "df.to_csv('test_ijcnn.csv')\n",
        "!cp 'test_ijcnn.csv' '/content/drive/MyDrive/Citation'"
      ],
      "execution_count": null,
      "outputs": []
    },
    {
      "cell_type": "code",
      "metadata": {
        "id": "GmQcPmr6t6lF"
      },
      "source": [
        ""
      ],
      "execution_count": null,
      "outputs": []
    }
  ]
}
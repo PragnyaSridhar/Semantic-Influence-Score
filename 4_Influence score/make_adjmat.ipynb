{
  "nbformat": 4,
  "nbformat_minor": 0,
  "metadata": {
    "colab": {
      "name": "CN:adjmat_swati.ipynb",
      "provenance": [],
      "collapsed_sections": []
    },
    "kernelspec": {
      "name": "python3",
      "display_name": "Python 3"
    },
    "language_info": {
      "name": "python"
    }
  },
  "cells": [
    {
      "cell_type": "code",
      "metadata": {
        "id": "c6mrG0qWTzTg"
      },
      "source": [
        "import pandas as pd\n",
        "import numpy as np"
      ],
      "execution_count": null,
      "outputs": []
    },
    {
      "cell_type": "code",
      "metadata": {
        "id": "Bg-W7UsaT6If"
      },
      "source": [
        "df = pd.read_csv('/content/drive/MyDrive/SAHA PROJECT - connectedpapers zip files/one_dataset_v2.csv')"
      ],
      "execution_count": null,
      "outputs": []
    },
    {
      "cell_type": "code",
      "metadata": {
        "colab": {
          "base_uri": "https://localhost:8080/"
        },
        "id": "m6-98XFHii8M",
        "outputId": "c09dbd82-f22e-4a50-fb55-95e3511e636d"
      },
      "source": [
        "df.columns"
      ],
      "execution_count": null,
      "outputs": [
        {
          "output_type": "execute_result",
          "data": {
            "text/plain": [
              "Index(['Unnamed: 0', 'Unnamed: 0.1', 'Unnamed: 0.1.1', 'title', 'authors',\n",
              "       'n_citation', 'doi', 'url', 'pdf', 'conf', 'fos', 'year', 'pool',\n",
              "       'topic', 'labels', 'bib name', 'dIDs', 'ddIDs'],\n",
              "      dtype='object')"
            ]
          },
          "metadata": {
            "tags": []
          },
          "execution_count": 88
        }
      ]
    },
    {
      "cell_type": "markdown",
      "metadata": {
        "id": "YmJowniUYPhG"
      },
      "source": [
        "## direction base to der to derofder\n",
        "## So row is src and col is dest I think"
      ]
    },
    {
      "cell_type": "code",
      "metadata": {
        "id": "F_ZwZ4yKXuPv"
      },
      "source": [
        "def flatten(l):\n",
        "  return [x for y in l for x in y]\n",
        "\n",
        "def str2list(s,pattern=' #;# '):\n",
        "  s = s.split(pattern)\n",
        "  s = [x.strip() for x in s]\n",
        "\n",
        "  s = [x.strip(\"'\") for x in s]\n",
        "  s = [x.strip('\"') for x in s]\n",
        "  return(s)\n",
        "\n",
        "\n",
        "def make_adjmat(row):\n",
        "  src = [row['Unnamed: 0']]\n",
        "  ds = str2list(row['dIDs'])\n",
        "  dds = str2list(row['ddIDs'])\n",
        "  assert len(ds)==len(dds)\n",
        "  \n",
        "  dds = [str2list(x,' #$# ') for x in dds]\n",
        "\n",
        "  all_papers = set(src + ds+ flatten(dds))\n",
        "  ind = dict()\n",
        "\n",
        "  i = 0\n",
        "  for pap in all_papers:\n",
        "    ind[pap] = i\n",
        "    i+=1\n",
        "  \n",
        "  sparse = []\n",
        "  sparse_ind = []\n",
        "\n",
        "  for d in ds:\n",
        "    sparse.append((src[0],d))\n",
        "    sparse_ind.append((ind[src[0]],ind[d]))\n",
        "  \n",
        "  for i in range(len(ds)):\n",
        "    d = ds[i]\n",
        "    dd = dds[i]\n",
        "    for derofder in dd:\n",
        "      sparse.append((d,derofder))\n",
        "      sparse_ind.append((ind[d],ind[derofder]))\n",
        "\n",
        "  mat = np.zeros((len(all_papers),len(all_papers)),dtype=np.int32)\n",
        "  mat = mat.tolist()\n",
        "  for tup in sparse_ind:\n",
        "    mat[tup[0]][tup[1]] = 1\n",
        "  # print(mat)\n",
        "\n",
        "  df = pd.DataFrame(mat, index=all_papers, columns=all_papers)\n",
        "\n",
        "  return df"
      ],
      "execution_count": null,
      "outputs": []
    },
    {
      "cell_type": "code",
      "metadata": {
        "id": "wP866TEdUFlj"
      },
      "source": [
        "dict_init_heats = {'bIDs':[],'heat':[]}\n",
        "for index,row in df.iterrows():\n",
        "  if (isinstance(row['dIDs'],float)):\n",
        "    continue\n",
        "  else:\n",
        "    try:\n",
        "      a = make_adjmat(row)\n",
        "      a.to_csv('/content/drive/MyDrive/SAHA PROJECT - connectedpapers zip files/Influence_score/adj_mat/'+str(row['Unnamed: 0'])+'.csv')\n",
        "\n",
        "      dict_init_heats['bIDs'].append(row['Unnamed: 0'])\n",
        "      dict_init_heats['heat'].append(len(str2list(row['dIDs'])))\n",
        "    except:\n",
        "      pass\n"
      ],
      "execution_count": null,
      "outputs": []
    },
    {
      "cell_type": "code",
      "metadata": {
        "colab": {
          "base_uri": "https://localhost:8080/"
        },
        "id": "3rNJKJWEbzt4",
        "outputId": "e76bc71a-258b-42a4-b6ef-91017ce2fa68"
      },
      "source": [
        "len(dict_init_heats['bIDs'])"
      ],
      "execution_count": null,
      "outputs": [
        {
          "output_type": "execute_result",
          "data": {
            "text/plain": [
              "3697"
            ]
          },
          "metadata": {
            "tags": []
          },
          "execution_count": 91
        }
      ]
    },
    {
      "cell_type": "code",
      "metadata": {
        "id": "Hzr_b5QqEBYg"
      },
      "source": [
        "df = pd.DataFrame(dict_init_heats)\n",
        "df.to_csv('/content/drive/MyDrive/SAHA PROJECT - connectedpapers zip files/Influence_score/initial_heats.csv')"
      ],
      "execution_count": null,
      "outputs": []
    },
    {
      "cell_type": "code",
      "metadata": {
        "id": "Gna2zi8OFVbF"
      },
      "source": [
        "!mv '/content/drive/MyDrive/SAHA PROJECT - connectedpapers zip files/adj_mat' '/content/drive/MyDrive/SAHA PROJECT - connectedpapers zip files/Influence_score/adj_mat'"
      ],
      "execution_count": null,
      "outputs": []
    },
    {
      "cell_type": "code",
      "metadata": {
        "colab": {
          "base_uri": "https://localhost:8080/"
        },
        "id": "eC28DgNcKqQT",
        "outputId": "118aee66-4b52-4561-edaa-d38673e81f14"
      },
      "source": [
        "import os\n",
        "indices_w_graph = os.listdir('/content/drive/MyDrive/SAHA PROJECT - connectedpapers zip files/Influence_score/adj_mat')\n",
        "indices_w_graph = [int(x.split('.')[0]) for x in indices_w_graph]\n",
        "len(indices_w_graph)"
      ],
      "execution_count": null,
      "outputs": [
        {
          "output_type": "execute_result",
          "data": {
            "text/plain": [
              "3697"
            ]
          },
          "metadata": {
            "tags": []
          },
          "execution_count": 75
        }
      ]
    },
    {
      "cell_type": "code",
      "metadata": {
        "id": "x4bqFpxtN0Gs"
      },
      "source": [
        ""
      ],
      "execution_count": null,
      "outputs": []
    }
  ]
}
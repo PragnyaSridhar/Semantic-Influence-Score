{
  "nbformat": 4,
  "nbformat_minor": 0,
  "metadata": {
    "kernelspec": {
      "display_name": "Python 3",
      "language": "python",
      "name": "python3"
    },
    "language_info": {
      "codemirror_mode": {
        "name": "ipython",
        "version": 3
      },
      "file_extension": ".py",
      "mimetype": "text/x-python",
      "name": "python",
      "nbconvert_exporter": "python",
      "pygments_lexer": "ipython3",
      "version": "3.7.1"
    },
    "colab": {
      "name": "Normalized H Score.ipynb",
      "provenance": []
    }
  },
  "cells": [
    {
      "cell_type": "code",
      "metadata": {
        "id": "pkHo4LJuKwSv"
      },
      "source": [
        "import numpy as np\n",
        "import pandas as pd\n",
        "from sklearn import preprocessing"
      ],
      "execution_count": null,
      "outputs": []
    },
    {
      "cell_type": "code",
      "metadata": {
        "colab": {
          "base_uri": "https://localhost:8080/"
        },
        "id": "C07khIX9KwS-",
        "outputId": "5f3b802b-23b5-4a5d-bd37-5a4b547e3cb6"
      },
      "source": [
        "conf = pd.read_csv('/content/drive/MyDrive/SAHA PROJECT - connectedpapers zip files/Venue/metrics.csv')\n",
        "cj = conf[conf['Category']=='J']\n",
        "cc = conf[conf['Category']=='C']\n",
        "\n",
        "J = list(cj['H5-index'])\n",
        "J = np.array(J, dtype=np.float64)\n",
        "\n",
        "H_mean_J = np.mean(J)\n",
        "\n",
        "C = list(cc['H5-index'])\n",
        "C = np.array(C, dtype=np.float64)\n",
        "\n",
        "H_mean_C = np.mean(C)\n",
        "\n",
        "print(\"H_mean_J:\",H_mean_J)\n",
        "\n",
        "print(\"H_mean_C:\",H_mean_C)"
      ],
      "execution_count": null,
      "outputs": [
        {
          "output_type": "stream",
          "text": [
            "H_mean_J: 92.25\n",
            "H_mean_C: 123.6\n"
          ],
          "name": "stdout"
        }
      ]
    },
    {
      "cell_type": "code",
      "metadata": {
        "colab": {
          "base_uri": "https://localhost:8080/"
        },
        "id": "y2pe9nxhKwTA",
        "outputId": "fa5b96c5-6e72-49a4-beee-7101337e47b0"
      },
      "source": [
        "A = np.concatenate((J,C))\n",
        "\n",
        "A = A.reshape((-1,1))\n",
        "\n",
        "print(A.shape)\n",
        "\n",
        "H_Normalized_All = preprocessing.normalize(A, axis=0)\n",
        "\n",
        "print(H_Normalized_All)\n",
        "print(H_Normalized_All.shape)\n",
        "\n",
        "# print(np.mean(A))\n",
        "\n",
        "# print(np.std(A))\n",
        "\n",
        "\n",
        "# A1 = (A - np.mean(A))/np.std(A)\n",
        "\n",
        "# print(A1)"
      ],
      "execution_count": null,
      "outputs": [
        {
          "output_type": "stream",
          "text": [
            "(17, 1)\n",
            "[[0.18862257]\n",
            " [0.17778219]\n",
            " [0.14526106]\n",
            " [0.24065638]\n",
            " [0.12141223]\n",
            " [0.1235803 ]\n",
            " [0.18428642]\n",
            " [0.10840378]\n",
            " [0.20813525]\n",
            " [0.23198408]\n",
            " [0.24065638]\n",
            " [0.42927895]\n",
            " [0.11707608]\n",
            " [0.27317751]\n",
            " [0.37074091]\n",
            " [0.44011933]\n",
            " [0.13875683]]\n",
            "(17, 1)\n"
          ],
          "name": "stdout"
        }
      ]
    },
    {
      "cell_type": "code",
      "metadata": {
        "colab": {
          "base_uri": "https://localhost:8080/"
        },
        "id": "cnuU9q-tR-bo",
        "outputId": "743d8a93-7091-4ab9-f671-ff6022c5c5aa"
      },
      "source": [
        "Hnorm = np.reshape(H_Normalized_All,(1,-1))\n",
        "Hnorm = Hnorm[0]\n",
        "Hnorm.shape"
      ],
      "execution_count": null,
      "outputs": [
        {
          "output_type": "execute_result",
          "data": {
            "text/plain": [
              "(17,)"
            ]
          },
          "metadata": {
            "tags": []
          },
          "execution_count": 48
        }
      ]
    },
    {
      "cell_type": "code",
      "metadata": {
        "id": "DUkRtBpKRqnm"
      },
      "source": [
        "d = dict()\n",
        "\n",
        "J = list(cj['venue'])\n",
        "for i in range(len(J)):\n",
        "  j = J[i]\n",
        "  d[j] = Hnorm[i]\n",
        "\n",
        "C = list(cc['venue'])\n",
        "for i in range(len(C)):\n",
        "  c = C[i]\n",
        "  d[c] = Hnorm[i+len(J)-1]"
      ],
      "execution_count": null,
      "outputs": []
    },
    {
      "cell_type": "code",
      "metadata": {
        "colab": {
          "base_uri": "https://localhost:8080/"
        },
        "id": "gbtWGFiyTr_I",
        "outputId": "32af47b2-ad9f-4bf5-f144-8cd51fb84944"
      },
      "source": [
        "norm_vals = []\n",
        "venues = list(conf['venue'])\n",
        "\n",
        "for v in venues:\n",
        "  norm_vals.append(d[v])\n",
        "len(norm_vals)"
      ],
      "execution_count": null,
      "outputs": [
        {
          "output_type": "execute_result",
          "data": {
            "text/plain": [
              "17"
            ]
          },
          "metadata": {
            "tags": []
          },
          "execution_count": 50
        }
      ]
    },
    {
      "cell_type": "code",
      "metadata": {
        "id": "sgBWbVUWT4gv"
      },
      "source": [
        "conf['Norm H5-index'] = norm_vals\n",
        "conf.to_csv('/content/drive/MyDrive/SAHA PROJECT - connectedpapers zip files/Venue/metrics.csv',index=False)"
      ],
      "execution_count": null,
      "outputs": []
    },
    {
      "cell_type": "code",
      "metadata": {
        "colab": {
          "base_uri": "https://localhost:8080/"
        },
        "id": "ItVOaoiiL_PV",
        "outputId": "b1b684c4-f8d7-4e0f-d5ee-5109134a5aea"
      },
      "source": [
        "from google.colab import drive\n",
        "drive.mount('/content/drive')"
      ],
      "execution_count": null,
      "outputs": [
        {
          "output_type": "stream",
          "text": [
            "Mounted at /content/drive\n"
          ],
          "name": "stdout"
        }
      ]
    },
    {
      "cell_type": "code",
      "metadata": {
        "colab": {
          "base_uri": "https://localhost:8080/"
        },
        "id": "K67wxsjWLOVx",
        "outputId": "ab7f3fef-1659-471e-8aef-5c4e1e5d4cd2"
      },
      "source": [
        "import pandas as pd\n",
        "conf = pd.read_csv('/content/drive/MyDrive/SAHA PROJECT - connectedpapers zip files/Venue/metrics.csv')\n",
        "print(conf.columns)\n",
        "cj = conf[conf['Category']=='J']\n",
        "cc = conf[conf['Category']=='C']"
      ],
      "execution_count": null,
      "outputs": [
        {
          "output_type": "stream",
          "text": [
            "Index(['venue', 'H5-index', 'Category'], dtype='object')\n"
          ],
          "name": "stdout"
        }
      ]
    },
    {
      "cell_type": "code",
      "metadata": {
        "id": "JyY2KNixMxSA"
      },
      "source": [
        "j = list(cj['venue'])\n",
        "c = list(cc['venue'])"
      ],
      "execution_count": null,
      "outputs": []
    },
    {
      "cell_type": "code",
      "metadata": {
        "colab": {
          "base_uri": "https://localhost:8080/"
        },
        "id": "Ldawu-7TNGwh",
        "outputId": "caf26044-8489-43c8-acf6-7955720d9b2c"
      },
      "source": [
        "j"
      ],
      "execution_count": null,
      "outputs": [
        {
          "output_type": "execute_result",
          "data": {
            "text/plain": [
              "['IEEE Transactions on Systems, Man, and Cybernetics',\n",
              " 'Neural Networks',\n",
              " 'Applied Soft Computing',\n",
              " 'Engineering Applications of Artificial Intelligence',\n",
              " 'Robotics and Autonomous Systems',\n",
              " 'Knowledge Based Systems',\n",
              " 'Journal of Machine Learning Research',\n",
              " 'IEEE Transactions on Fuzzy Systems',\n",
              " 'Neural Computing and Applications',\n",
              " 'Expert Systems With Applications',\n",
              " 'Journal of Intelligent and Fuzzy Systems']"
            ]
          },
          "metadata": {
            "tags": []
          },
          "execution_count": 11
        }
      ]
    },
    {
      "cell_type": "code",
      "metadata": {
        "colab": {
          "base_uri": "https://localhost:8080/"
        },
        "id": "e_UrllhJNHbV",
        "outputId": "e36513a5-5724-43f1-fa9d-b8895db05842"
      },
      "source": [
        "c"
      ],
      "execution_count": null,
      "outputs": [
        {
          "output_type": "execute_result",
          "data": {
            "text/plain": [
              "['International Conference on Learning Representations',\n",
              " 'National Conference on Artificial Intelligence',\n",
              " 'Conference on Learning Theory',\n",
              " 'IEEE Transactions on Neural Networks',\n",
              " 'Neural Information Processing Systems',\n",
              " 'International Conference on Machine Learning']"
            ]
          },
          "metadata": {
            "tags": []
          },
          "execution_count": 12
        }
      ]
    },
    {
      "cell_type": "code",
      "metadata": {
        "id": "tyRTKBIINHsJ"
      },
      "source": [
        ""
      ],
      "execution_count": null,
      "outputs": []
    }
  ]
}
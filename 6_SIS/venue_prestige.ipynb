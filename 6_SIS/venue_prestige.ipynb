{
  "nbformat": 4,
  "nbformat_minor": 0,
  "metadata": {
    "colab": {
      "name": "CN:venue_metrics.ipynb",
      "provenance": [],
      "collapsed_sections": []
    },
    "kernelspec": {
      "name": "python3",
      "display_name": "Python 3"
    },
    "language_info": {
      "name": "python"
    }
  },
  "cells": [
    {
      "cell_type": "code",
      "metadata": {
        "id": "d4xf3Sz-SHbI"
      },
      "source": [
        "import pandas as pd"
      ],
      "execution_count": null,
      "outputs": []
    },
    {
      "cell_type": "code",
      "metadata": {
        "id": "JPgt6gR2SQ1W"
      },
      "source": [
        "df = pd.read_csv('/content/drive/MyDrive/SAHA PROJECT - connectedpapers zip files/Semantic scores/scores_dataset.csv')\n",
        "conf = set(df['conf'])"
      ],
      "execution_count": null,
      "outputs": []
    },
    {
      "cell_type": "code",
      "metadata": {
        "colab": {
          "base_uri": "https://localhost:8080/"
        },
        "id": "ngGFWOoGSR43",
        "outputId": "3f062bc8-022b-47d0-a64c-5d5c7dafaa59"
      },
      "source": [
        "for c in conf:\n",
        "  print(c)"
      ],
      "execution_count": null,
      "outputs": [
        {
          "output_type": "stream",
          "text": [
            "IEEE Transactions on Fuzzy Systems\n",
            "Journal of Machine Learning Research\n",
            "Neural Computing and Applications\n",
            "Expert Systems With Applications\n",
            "Robotics and Autonomous Systems\n",
            "Engineering Applications of Artificial Intelligence\n",
            "Conference on Learning Theory\n",
            "National Conference on Artificial Intelligence\n",
            "Knowledge Based Systems\n",
            "Journal of Intelligent and Fuzzy Systems\n",
            "International Conference on Machine Learning\n",
            "Applied Soft Computing\n",
            "International Conference on Learning Representations\n",
            "IEEE Transactions on Neural Networks\n",
            "IEEE Transactions on Systems, Man, and Cybernetics\n",
            "Neural Networks\n",
            "Neural Information Processing Systems\n"
          ],
          "name": "stdout"
        }
      ]
    },
    {
      "cell_type": "code",
      "metadata": {
        "colab": {
          "base_uri": "https://localhost:8080/"
        },
        "id": "ylkMKtMwVMg7",
        "outputId": "a493b8f2-9aa2-4e61-de31-33643d9c744c"
      },
      "source": [
        "len(df)"
      ],
      "execution_count": null,
      "outputs": [
        {
          "output_type": "execute_result",
          "data": {
            "text/plain": [
              "1258"
            ]
          },
          "metadata": {
            "tags": []
          },
          "execution_count": 4
        }
      ]
    },
    {
      "cell_type": "code",
      "metadata": {
        "colab": {
          "base_uri": "https://localhost:8080/"
        },
        "id": "yytbdGUTOiPl",
        "outputId": "efb4d813-2a78-438a-db4a-3b3c1a4d9ffd"
      },
      "source": [
        "conf = '''IEEE Transactions on Fuzzy Systems\n",
        "Journal of Machine Learning Research\n",
        "Neural Computing and Applications\n",
        "Expert Systems With Applications\n",
        "Robotics and Autonomous Systems\n",
        "Engineering Applications of Artificial Intelligence\n",
        "Conference on Learning Theory\n",
        "National Conference on Artificial Intelligence\n",
        "Knowledge Based Systems\n",
        "Journal of Intelligent and Fuzzy Systems\n",
        "International Conference on Machine Learning\n",
        "Applied Soft Computing\n",
        "International Conference on Learning Representations\n",
        "IEEE Transactions on Neural Networks\n",
        "IEEE Transactions on Systems, Man, and Cybernetics\n",
        "Neural Networks\n",
        "Neural Information Processing Systems'''\n",
        "\n",
        "conf = conf.split('\\n')\n",
        "len(conf)\n",
        "for c in list(conf):\n",
        "  print(c)"
      ],
      "execution_count": null,
      "outputs": [
        {
          "output_type": "execute_result",
          "data": {
            "text/plain": [
              "17"
            ]
          },
          "metadata": {
            "tags": []
          },
          "execution_count": 15
        }
      ]
    },
    {
      "cell_type": "code",
      "metadata": {
        "id": "V6e9oJZvmoPc"
      },
      "source": [
        "d = {'venue':list(conf),\n",
        "     'H5-index': [87,82,67,111,56,57,54,126,85,50,171,96,203,107,111,64,198],\n",
        "     'Category':['J','J','J','J','J','J','C','C','J','J','C','J','C','J','J','C','J']}"
      ],
      "execution_count": null,
      "outputs": []
    },
    {
      "cell_type": "code",
      "metadata": {
        "colab": {
          "base_uri": "https://localhost:8080/"
        },
        "id": "dZqQr8wWQasP",
        "outputId": "0bb6b2ff-d868-4712-f768-09f1485ebc89"
      },
      "source": [
        "len(d['H5-index'])"
      ],
      "execution_count": null,
      "outputs": [
        {
          "output_type": "execute_result",
          "data": {
            "text/plain": [
              "17"
            ]
          },
          "metadata": {
            "tags": []
          },
          "execution_count": 17
        }
      ]
    },
    {
      "cell_type": "code",
      "metadata": {
        "colab": {
          "base_uri": "https://localhost:8080/"
        },
        "id": "9nNU7pkeQd3L",
        "outputId": "f647762e-e232-498b-d33b-7a524d273254"
      },
      "source": [
        "len(list(conf))"
      ],
      "execution_count": null,
      "outputs": [
        {
          "output_type": "execute_result",
          "data": {
            "text/plain": [
              "37"
            ]
          },
          "metadata": {
            "tags": []
          },
          "execution_count": 12
        }
      ]
    },
    {
      "cell_type": "code",
      "metadata": {
        "id": "5FQyvSF9tEYP"
      },
      "source": [
        "df = pd.DataFrame(d)\n",
        "df.to_csv('/content/drive/MyDrive/SAHA PROJECT - connectedpapers zip files/Venue/metrics.csv',index=False)"
      ],
      "execution_count": null,
      "outputs": []
    },
    {
      "cell_type": "code",
      "metadata": {
        "id": "iLc4qhQJn74m"
      },
      "source": [
        "df2 = df[df['conf']=='IEEE Transactions on Systems, Man, and Cybernetics']"
      ],
      "execution_count": null,
      "outputs": []
    },
    {
      "cell_type": "code",
      "metadata": {
        "colab": {
          "base_uri": "https://localhost:8080/",
          "height": 585
        },
        "id": "7xGHxjpOoAzK",
        "outputId": "cf4d16dd-b624-49aa-fc5e-395752505fb8"
      },
      "source": [
        "df2.head()"
      ],
      "execution_count": null,
      "outputs": [
        {
          "output_type": "execute_result",
          "data": {
            "text/html": [
              "<div>\n",
              "<style scoped>\n",
              "    .dataframe tbody tr th:only-of-type {\n",
              "        vertical-align: middle;\n",
              "    }\n",
              "\n",
              "    .dataframe tbody tr th {\n",
              "        vertical-align: top;\n",
              "    }\n",
              "\n",
              "    .dataframe thead th {\n",
              "        text-align: right;\n",
              "    }\n",
              "</style>\n",
              "<table border=\"1\" class=\"dataframe\">\n",
              "  <thead>\n",
              "    <tr style=\"text-align: right;\">\n",
              "      <th></th>\n",
              "      <th>Unnamed: 0</th>\n",
              "      <th>title</th>\n",
              "      <th>authors</th>\n",
              "      <th>n_citation</th>\n",
              "      <th>pdf</th>\n",
              "      <th>conf</th>\n",
              "      <th>fos</th>\n",
              "      <th>year</th>\n",
              "      <th>pool</th>\n",
              "      <th>topic</th>\n",
              "      <th>labels</th>\n",
              "      <th>bib name</th>\n",
              "      <th>dIDs</th>\n",
              "      <th>ddIDs</th>\n",
              "      <th>kc len</th>\n",
              "      <th>ref int</th>\n",
              "      <th>semantic score</th>\n",
              "      <th>base heats</th>\n",
              "      <th>der heats</th>\n",
              "    </tr>\n",
              "  </thead>\n",
              "  <tbody>\n",
              "    <tr>\n",
              "      <th>189</th>\n",
              "      <td>741</td>\n",
              "      <td>Feature Correlation Hypergraph: Exploiting Hig...</td>\n",
              "      <td>Luming ZhangYue Gao ; Chaoqun Hong ; Yinfu Fen...</td>\n",
              "      <td>128</td>\n",
              "      <td>NaN</td>\n",
              "      <td>IEEE Transactions on Systems, Man, and Cyberne...</td>\n",
              "      <td>Histogram=0.50234 ; Scale-invariant feature tr...</td>\n",
              "      <td>2014</td>\n",
              "      <td>B</td>\n",
              "      <td>ML</td>\n",
              "      <td>ml</td>\n",
              "      <td>feature correlation hypergraph exploiting high...</td>\n",
              "      <td>695f45aad44683979d14a8be88a0f6ae1fa3974c  #;# ...</td>\n",
              "      <td>#;#  #;#  #;#  #;#  #;#  #;#  #;#  #;#  #;#</td>\n",
              "      <td>10.0</td>\n",
              "      <td>[0.04918032786885246, 0.06557377049180328, 0.0...</td>\n",
              "      <td>10.018199</td>\n",
              "      <td>5.000000</td>\n",
              "      <td>[5.37004076, 10.0, 10.0, 10.0, 10.0, 10.0, 10....</td>\n",
              "    </tr>\n",
              "    <tr>\n",
              "      <th>202</th>\n",
              "      <td>794</td>\n",
              "      <td>Consensus of Linear Multi-Agent Systems by Dis...</td>\n",
              "      <td>Wenfeng HuLu Liu ; Gang Feng ;</td>\n",
              "      <td>221</td>\n",
              "      <td>NaN</td>\n",
              "      <td>IEEE Transactions on Systems, Man, and Cyberne...</td>\n",
              "      <td>Consensus=0.57711 ; Asynchronous communication...</td>\n",
              "      <td>2016</td>\n",
              "      <td>B</td>\n",
              "      <td>None</td>\n",
              "      <td>dl</td>\n",
              "      <td>consensus of linear multiagent systems by dist...</td>\n",
              "      <td>26de6ac0a4258e0ac21f44b8362ff1c01b1e7819  #;# ...</td>\n",
              "      <td>'9d3bd21e9ceb49116dd1479ddd466019e91f32f1' #$#...</td>\n",
              "      <td>10.0</td>\n",
              "      <td>[0.47058823529411764, 0.4411764705882353, 0.32...</td>\n",
              "      <td>21.513616</td>\n",
              "      <td>5.092302</td>\n",
              "      <td>[5.06173043, 5.01727319, 5.02990333, 7.7086415...</td>\n",
              "    </tr>\n",
              "    <tr>\n",
              "      <th>220</th>\n",
              "      <td>859</td>\n",
              "      <td>Finite-Approximation-Error-Based Optimal Contr...</td>\n",
              "      <td>Derong LiuQinglai Wei ;</td>\n",
              "      <td>182</td>\n",
              "      <td>NaN</td>\n",
              "      <td>IEEE Transactions on Systems, Man, and Cyberne...</td>\n",
              "      <td>Dynamic programming=0.50886 ; Mathematical opt...</td>\n",
              "      <td>2013</td>\n",
              "      <td>B</td>\n",
              "      <td>None</td>\n",
              "      <td>mo</td>\n",
              "      <td>finiteapproximationerrorbased optimal control ...</td>\n",
              "      <td>0f78400987efd3ac28f31bbb25bfb36cff2b623f  #;# ...</td>\n",
              "      <td>'ed25c39b46ad4250535357e3bbe28324b3d58bf3' #$#...</td>\n",
              "      <td>10.0</td>\n",
              "      <td>[0.38235294117647056, 0.35294117647058826, 0.2...</td>\n",
              "      <td>26.976720</td>\n",
              "      <td>5.087570</td>\n",
              "      <td>[5.036356, 5.04764852, 10.0, 7.61750733, 7.547...</td>\n",
              "    </tr>\n",
              "    <tr>\n",
              "      <th>226</th>\n",
              "      <td>907</td>\n",
              "      <td>Consistency-Driven Automatic Methodology to Se...</td>\n",
              "      <td>Yucheng DongEnrique Herrera-Viedma ;</td>\n",
              "      <td>157</td>\n",
              "      <td>NaN</td>\n",
              "      <td>IEEE Transactions on Systems, Man, and Cyberne...</td>\n",
              "      <td>Rule-based machine translation=0.49337 ; Pairw...</td>\n",
              "      <td>2015</td>\n",
              "      <td>B</td>\n",
              "      <td>ML</td>\n",
              "      <td>ml</td>\n",
              "      <td>consistencydriven automatic methodology to set...</td>\n",
              "      <td>30ca550a95637b2b58fd903725476513e654ed21  #;# ...</td>\n",
              "      <td>'30ca550a95637b2b58fd903725476513e654ed21' #$#...</td>\n",
              "      <td>10.0</td>\n",
              "      <td>[0.26136363636363635, 0.18181818181818182, 0.1...</td>\n",
              "      <td>18.534933</td>\n",
              "      <td>10.000000</td>\n",
              "      <td>[5.06704269, 5.31263057, 5.06290164, 5.2006772...</td>\n",
              "    </tr>\n",
              "    <tr>\n",
              "      <th>230</th>\n",
              "      <td>918</td>\n",
              "      <td>Activity Discovery and Activity Recognition: A...</td>\n",
              "      <td>D. J. CookN. C. Krishnan ; P. Rashidi ;</td>\n",
              "      <td>124</td>\n",
              "      <td>NaN</td>\n",
              "      <td>IEEE Transactions on Systems, Man, and Cyberne...</td>\n",
              "      <td>Behavioral pattern=0.53044 ; Data set=0.4275 ;...</td>\n",
              "      <td>2013</td>\n",
              "      <td>B</td>\n",
              "      <td>ML</td>\n",
              "      <td>ml</td>\n",
              "      <td>activity discovery and activity recognition a ...</td>\n",
              "      <td>06ed3d5e8e9cba3b65b5f87ba98ff07043e73c3b  #;# ...</td>\n",
              "      <td>#;#  #;#  #;#  #;#  #;#  #;#  #;#  #;#  #;# '...</td>\n",
              "      <td>10.0</td>\n",
              "      <td>[0.04, 0.22, 0.12, 0.14, 0.26, 0.48, 0.1, 0.4,...</td>\n",
              "      <td>19.496076</td>\n",
              "      <td>5.150564</td>\n",
              "      <td>[5.0, 5.0, 5.37926603, 5.0, 10.0, 10.0, 5.0, 5...</td>\n",
              "    </tr>\n",
              "  </tbody>\n",
              "</table>\n",
              "</div>"
            ],
            "text/plain": [
              "     Unnamed: 0  ...                                          der heats\n",
              "189         741  ...  [5.37004076, 10.0, 10.0, 10.0, 10.0, 10.0, 10....\n",
              "202         794  ...  [5.06173043, 5.01727319, 5.02990333, 7.7086415...\n",
              "220         859  ...  [5.036356, 5.04764852, 10.0, 7.61750733, 7.547...\n",
              "226         907  ...  [5.06704269, 5.31263057, 5.06290164, 5.2006772...\n",
              "230         918  ...  [5.0, 5.0, 5.37926603, 5.0, 10.0, 10.0, 5.0, 5...\n",
              "\n",
              "[5 rows x 19 columns]"
            ]
          },
          "metadata": {
            "tags": []
          },
          "execution_count": 24
        }
      ]
    },
    {
      "cell_type": "code",
      "metadata": {
        "colab": {
          "base_uri": "https://localhost:8080/",
          "height": 74
        },
        "id": "JX6fzldooB2j",
        "outputId": "16f08d02-296e-4bdf-be8f-6cd4bf969a5b"
      },
      "source": [
        "list(df2['title'])[1]"
      ],
      "execution_count": null,
      "outputs": [
        {
          "output_type": "execute_result",
          "data": {
            "application/vnd.google.colaboratory.intrinsic+json": {
              "type": "string"
            },
            "text/plain": [
              "'Consensus of Linear Multi-Agent Systems by Distributed Event-Triggered Strategy'"
            ]
          },
          "metadata": {
            "tags": []
          },
          "execution_count": 26
        }
      ]
    },
    {
      "cell_type": "code",
      "metadata": {
        "id": "qfLNU88OwNXa"
      },
      "source": [
        "snip = [3.203,3.726,2.85,,,2.52,]\n",
        "\n",
        "snip = [[3.203,3.726,ICLR,AAAI,COLT,2.52,2.139,3.726,2.232,NIPS,2.902,3.147,ICML,3.206,1.895,3.139,0.793]"
      ],
      "execution_count": null,
      "outputs": []
    }
  ]
}
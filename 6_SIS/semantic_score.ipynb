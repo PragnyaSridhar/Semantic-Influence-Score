{
  "nbformat": 4,
  "nbformat_minor": 0,
  "metadata": {
    "colab": {
      "name": "CN:semantic_score.ipynb",
      "provenance": []
    },
    "kernelspec": {
      "name": "python3",
      "display_name": "Python 3"
    },
    "language_info": {
      "name": "python"
    }
  },
  "cells": [
    {
      "cell_type": "code",
      "metadata": {
        "id": "ylkeLKdpY4jA"
      },
      "source": [
        "import pandas as pd\n",
        "import numpy as np"
      ],
      "execution_count": 2,
      "outputs": []
    },
    {
      "cell_type": "markdown",
      "metadata": {
        "id": "SEcOjIddtBpe"
      },
      "source": [
        "## Add knowledge chain length to one_dataset_v2"
      ]
    },
    {
      "cell_type": "code",
      "metadata": {
        "id": "6cCvU3-QZBPg"
      },
      "source": [
        "df = pd.read_csv('/content/drive/MyDrive/SAHA PROJECT - connectedpapers zip files/one_dataset_complete.csv')"
      ],
      "execution_count": 60,
      "outputs": []
    },
    {
      "cell_type": "code",
      "metadata": {
        "colab": {
          "base_uri": "https://localhost:8080/"
        },
        "id": "Dha_CPfmZQsS",
        "outputId": "9911768c-3aa7-4308-bb34-b58a6932c301"
      },
      "source": [
        "df.columns"
      ],
      "execution_count": 61,
      "outputs": [
        {
          "output_type": "execute_result",
          "data": {
            "text/plain": [
              "Index(['Unnamed: 0', 'title', 'authors', 'n_citation', 'doi', 'url', 'pdf',\n",
              "       'conf', 'fos', 'year', 'pool', 'topic', 'labels', 'bib name', 'dIDs',\n",
              "       'ddIDs', 'kc len', 'ref int', 'semantic score', 'base heats',\n",
              "       'der heats', 'ref int d_dd', 'sim L1', 'sim L2', 'derofder heats'],\n",
              "      dtype='object')"
            ]
          },
          "metadata": {
            "tags": []
          },
          "execution_count": 61
        }
      ]
    },
    {
      "cell_type": "code",
      "metadata": {
        "id": "BQBY1BLnZzcz"
      },
      "source": [
        "cols = df.columns\n",
        "un = [x for x in cols if 'Unnamed' in x]\n",
        "\n",
        "df = df.drop(un,axis=1)"
      ],
      "execution_count": 53,
      "outputs": []
    },
    {
      "cell_type": "code",
      "metadata": {
        "id": "Eu04gdcSaG2F"
      },
      "source": [
        "df.to_csv('/content/drive/MyDrive/SAHA PROJECT - connectedpapers zip files/one_dataset_v2.csv',index=False)"
      ],
      "execution_count": null,
      "outputs": []
    },
    {
      "cell_type": "code",
      "metadata": {
        "id": "-VC9avRFaRy4"
      },
      "source": [
        "kc_len = []\n",
        "dID = list(df['dIDs'])\n",
        "\n",
        "for did in dID:\n",
        "  if(isinstance(did,float)):\n",
        "    kc_len.append('')\n",
        "  else:\n",
        "    did = did.split(' #;# ')\n",
        "    kc_len.append(len(did))"
      ],
      "execution_count": 4,
      "outputs": []
    },
    {
      "cell_type": "code",
      "metadata": {
        "id": "q6P2tJEDbYUj"
      },
      "source": [
        "df['kc len'] = kc_len\n",
        "df.to_csv('/content/drive/MyDrive/SAHA PROJECT - connectedpapers zip files/one_dataset_v2.csv',index=False)"
      ],
      "execution_count": null,
      "outputs": []
    },
    {
      "cell_type": "markdown",
      "metadata": {
        "id": "m21CH3XUtFeL"
      },
      "source": [
        "## add ref intersection scores to one_dataset_v2"
      ]
    },
    {
      "cell_type": "code",
      "metadata": {
        "id": "vjlEOI8sob3F"
      },
      "source": [
        "refint_dict = dict()\n",
        "\n",
        "def add_to_dict(path,d):\n",
        "  df = pd.read_csv(path)\n",
        "\n",
        "  for index,row in df.iterrows():\n",
        "    d[row['names']] = row['ref']\n",
        "\n",
        "  return d"
      ],
      "execution_count": null,
      "outputs": []
    },
    {
      "cell_type": "code",
      "metadata": {
        "colab": {
          "base_uri": "https://localhost:8080/"
        },
        "id": "VMER6deAtTGG",
        "outputId": "f626532f-4fbd-4575-e110-0148db74f5a7"
      },
      "source": [
        "path = '/content/drive/MyDrive/SAHA PROJECT - connectedpapers zip files/ref_int(b_d)_poolA.csv'\n",
        "refint_dict = add_to_dict(path,refint_dict)\n",
        "len(refint_dict)"
      ],
      "execution_count": null,
      "outputs": [
        {
          "output_type": "execute_result",
          "data": {
            "text/plain": [
              "1768"
            ]
          },
          "metadata": {
            "tags": []
          },
          "execution_count": 26
        }
      ]
    },
    {
      "cell_type": "code",
      "metadata": {
        "colab": {
          "base_uri": "https://localhost:8080/"
        },
        "id": "dHTtpuIvt9qm",
        "outputId": "7fc77f67-94e4-415b-8bd2-a11b61d2f817"
      },
      "source": [
        "path = '/content/drive/MyDrive/SAHA PROJECT - connectedpapers zip files/ref_int(b_d)_poolB.csv'\n",
        "refint_dict = add_to_dict(path,refint_dict)\n",
        "len(refint_dict)"
      ],
      "execution_count": null,
      "outputs": [
        {
          "output_type": "execute_result",
          "data": {
            "text/plain": [
              "4440"
            ]
          },
          "metadata": {
            "tags": []
          },
          "execution_count": 27
        }
      ]
    },
    {
      "cell_type": "code",
      "metadata": {
        "colab": {
          "base_uri": "https://localhost:8080/"
        },
        "id": "3h6hpT5PuGrn",
        "outputId": "64a3778e-6b34-40bc-b32c-fbbd6ce60126"
      },
      "source": [
        "path = '/content/drive/MyDrive/SAHA PROJECT - connectedpapers zip files/ref_int(b_d)_poolC.csv'\n",
        "refint_dict = add_to_dict(path,refint_dict)\n",
        "len(refint_dict)"
      ],
      "execution_count": null,
      "outputs": [
        {
          "output_type": "execute_result",
          "data": {
            "text/plain": [
              "5407"
            ]
          },
          "metadata": {
            "tags": []
          },
          "execution_count": 28
        }
      ]
    },
    {
      "cell_type": "code",
      "metadata": {
        "id": "G2nQzf8zu8vj"
      },
      "source": [
        "def clean(name):\n",
        "  to_remove = ['-',',',':',';','.','?','(',')','/']\n",
        "  name = name.lower()\n",
        "  name = name.strip()\n",
        "\n",
        "  for char in to_remove:\n",
        "    name = name.replace(char,'')\n",
        "  name = name.replace('&','and')\n",
        "\n",
        "  return(name)"
      ],
      "execution_count": null,
      "outputs": []
    },
    {
      "cell_type": "code",
      "metadata": {
        "id": "wAwSgUhbuKJd"
      },
      "source": [
        "df = pd.read_csv('/content/drive/MyDrive/SAHA PROJECT - connectedpapers zip files/one_dataset_v2.csv')\n",
        "names = list(df['title'])\n",
        "refint = []\n",
        "\n",
        "for t in names:\n",
        "  refint.append(refint_dict.get(clean(t),'[]'))\n",
        "\n",
        "df['ref int'] = refint\n",
        "df.to_csv('/content/drive/MyDrive/SAHA PROJECT - connectedpapers zip files/one_dataset_v2.csv')"
      ],
      "execution_count": null,
      "outputs": []
    },
    {
      "cell_type": "code",
      "metadata": {
        "id": "YxVOpLk7vjhx"
      },
      "source": [
        "def make_list(s):\n",
        "  s = s.split('[')[1]\n",
        "  s = s.split(']')[0]\n",
        "  s = s.split(', ')\n",
        "\n",
        "  if (s[0]==''):\n",
        "    return([])\n",
        "  else:\n",
        "    s = [float(x) for x in s]\n",
        "    return(s)"
      ],
      "execution_count": null,
      "outputs": []
    },
    {
      "cell_type": "code",
      "metadata": {
        "colab": {
          "base_uri": "https://localhost:8080/"
        },
        "id": "5hhOzwfduybp",
        "outputId": "6d6391df-cdd8-4b93-fc98-eb68de0321f9"
      },
      "source": [
        "df = pd.read_csv('/content/drive/MyDrive/SAHA PROJECT - connectedpapers zip files/one_dataset_v2.csv')\n",
        "count = 0\n",
        "indices = []\n",
        "ref2 = []\n",
        "\n",
        "for index,row in df.iterrows():\n",
        "  if(row['kc len']!=np.nan):\n",
        "    # try:\n",
        "      s = make_list(row['ref int'])\n",
        "      if(row['kc len']==len(s)):\n",
        "        count+=1\n",
        "        indices.append(index)\n",
        "        ref2.append(s)\n",
        "      else:\n",
        "        ref2.append('')\n",
        "print(count)\n",
        "\n",
        "df['ref int'] = ref2\n",
        "df.to_csv('/content/drive/MyDrive/SAHA PROJECT - connectedpapers zip files/one_dataset_v2.csv',index=False)"
      ],
      "execution_count": null,
      "outputs": [
        {
          "output_type": "stream",
          "text": [
            "1259\n"
          ],
          "name": "stdout"
        }
      ]
    },
    {
      "cell_type": "markdown",
      "metadata": {
        "id": "19CP8Yu9YKxW"
      },
      "source": [
        "## add heats"
      ]
    },
    {
      "cell_type": "code",
      "metadata": {
        "id": "tqGqAjg7YCC1"
      },
      "source": [
        "df_heat = pd.read_csv('/content/drive/MyDrive/SAHA PROJECT - connectedpapers zip files/Influence_score/Result.csv')\n",
        "\n",
        "heat_map = dict()\n",
        "\n",
        "def clean_rowstr(l):\n",
        "  r = [clean(x) for x in l]\n",
        "  return(r)\n",
        "\n",
        "def clean(s):\n",
        "  s = s.strip()\n",
        "  s = s.replace('\\n','')\n",
        "  s = s.replace(\"'\",'')\n",
        "\n",
        "  return(s)\n",
        "\n",
        "def make_list(string,spl = ' #;# ',Type = ''):\n",
        "  if(isinstance(string,str)):\n",
        "    string = string.split(spl)\n",
        "    if(Type!=''):\n",
        "      string = [Type(x) for x in string]\n",
        "  else:\n",
        "    string = []\n",
        "  return(string)\n",
        "\n",
        "def get_heats_in_order(row,heats):\n",
        "  base_ID = row['Unnamed: 0']\n",
        "  df = pd.read_csv('/content/drive/MyDrive/SAHA PROJECT - connectedpapers zip files/Influence_score/adj_mat/'+str(base_ID)+'.csv')\n",
        "\n",
        "  paps = []\n",
        "  for p in list(df.columns)[1:]:\n",
        "    if('Unnamed: ' not in p):\n",
        "      paps.append(p)\n",
        "    else:\n",
        "      paps.append('')\n",
        "\n",
        "  d_len = row['kc len']\n",
        "\n",
        "\n",
        "  assert(len(paps)==len(heats))\n",
        "\n",
        "  heat_dict = dict()\n",
        "  for i in range(len(paps)):\n",
        "    heat_dict[paps[i]] = heats[i]\n",
        "  heat_dict[''] = 0\n",
        "\n",
        "  ders = row['dIDs'].split(' #;# ')\n",
        "  ders = [clean(x) for x in ders]\n",
        "\n",
        "  dders = row['ddIDs'].split(' #;# ')\n",
        "  dders = [x.split(' #$# ') for x in dders]\n",
        "  dders = [clean_rowstr(x) for x in dders]\n",
        "\n",
        "  der_heat = []\n",
        "  dder_heat = []\n",
        "\n",
        "  for d in ders:\n",
        "    der_heat.append(heat_dict[d])\n",
        "\n",
        "  der_heat = [str(x) for x in der_heat]\n",
        "  der_heat = ' #;# '.join(der_heat)\n",
        "\n",
        "  for r in dders:\n",
        "    a = []\n",
        "    for dd in r:\n",
        "      a.append(heat_dict[dd])\n",
        "    a = [str(x) for x in a]\n",
        "    dder_heat.append(' #$# '.join(a))\n",
        "  dder_heat = ' #;# '.join(dder_heat)\n",
        "\n",
        "  return(der_heat,dder_heat)\n",
        "  \n",
        "\n",
        "def get_heats(s):\n",
        "  s = s.split('[')[1]\n",
        "  s = s.split(']')[0]\n",
        "  s = s.split()\n",
        "\n",
        "  s = [float(x) for x in s]\n",
        "  return(s)\n",
        "\n",
        "for index,row in df_heat.iterrows():\n",
        "  try:\n",
        "    heat_map[row['Article_ID']] = get_heats(row['Heat_values'])\n",
        "  except:\n",
        "    print(row['Heat_values'])\n",
        "    break"
      ],
      "execution_count": 69,
      "outputs": []
    },
    {
      "cell_type": "code",
      "metadata": {
        "colab": {
          "base_uri": "https://localhost:8080/"
        },
        "id": "Joai4Ed5Pqd_",
        "outputId": "e8b366d4-546c-49fb-c24a-33619b2efbec"
      },
      "source": [
        "der_heats = []\n",
        "base_heats = []\n",
        "derofder_heats = []\n",
        "\n",
        "for index,row in df.iterrows():\n",
        "  h = heat_map.get(row['Unnamed: 0'],[])\n",
        "  l = row['kc len']\n",
        "  if(len(h)>0 and l!=np.nan):\n",
        "    base_heats.append(l)\n",
        "\n",
        "    d,dd = get_heats_in_order(row,h)\n",
        "\n",
        "    der_heats.append(d)\n",
        "    derofder_heats.append(dd)\n",
        "  else:\n",
        "    base_heats.append('')\n",
        "    der_heats.append('')\n",
        "    derofder_heats.append('')\n",
        "\n",
        "len(derofder_heats)"
      ],
      "execution_count": 57,
      "outputs": [
        {
          "output_type": "execute_result",
          "data": {
            "text/plain": [
              "1258"
            ]
          },
          "metadata": {
            "tags": []
          },
          "execution_count": 57
        }
      ]
    },
    {
      "cell_type": "code",
      "metadata": {
        "id": "Byv0erWwRIcb"
      },
      "source": [
        "df['base heats'] = base_heats\n",
        "df['der heats'] = der_heats\n",
        "df['derofder heats'] = derofder_heats\n",
        "df.to_csv('/content/drive/MyDrive/SAHA PROJECT - connectedpapers zip files/one_dataset_complete.csv',index=False)"
      ],
      "execution_count": 58,
      "outputs": []
    },
    {
      "cell_type": "markdown",
      "metadata": {
        "id": "CWP4K5LnSwVA"
      },
      "source": [
        "## Compute the score"
      ]
    },
    {
      "cell_type": "code",
      "metadata": {
        "id": "d9mi06VvV-5s"
      },
      "source": [
        "df = df.drop(['semantic score'],axis=1)"
      ],
      "execution_count": null,
      "outputs": []
    },
    {
      "cell_type": "code",
      "metadata": {
        "id": "m6Pcj-h4UmJu"
      },
      "source": [
        "d_venscore = dict()\n",
        "df_ven = pd.read_csv('/content/drive/MyDrive/SAHA PROJECT - connectedpapers zip files/Venue/metrics.csv')\n",
        "\n",
        "for index,row in df_ven.iterrows():\n",
        "  d_venscore[row['venue']] = row['Norm H5-index']"
      ],
      "execution_count": 59,
      "outputs": []
    },
    {
      "cell_type": "code",
      "metadata": {
        "id": "jqBo9ZW1Mr7Y"
      },
      "source": [
        "df = pd.read_csv('/content/drive/MyDrive/SAHA PROJECT - connectedpapers zip files/one_dataset_complete.csv')\n",
        "\n",
        "scores = []\n",
        "\n",
        "def make_list(string,spl = ' #;# ',Type = ''):\n",
        "  if(isinstance(string,str)):\n",
        "    string = string.split(spl)\n",
        "    if(Type!=''):\n",
        "      try:\n",
        "        string = [Type(x) for x in string]\n",
        "      except:\n",
        "        print('$',string)\n",
        "        string = [0]\n",
        "  else:\n",
        "    string = []\n",
        "  return(string)\n",
        "\n",
        "def score(heats1,sim1,heats2,sim2,base_heat,base_ven_score,alpha1 = 1,alpha2 = 0.5,alpha3 = 0.25):\n",
        "  s = 0\n",
        "  count = 0\n",
        "  for i in range(len(heats1)):\n",
        "    h = min(heats1[i],base_heat)\n",
        "    val = h*sim1[i]\n",
        "    if(val!=0):\n",
        "      count+=1\n",
        "    s+=val\n",
        "  if(count!=0):\n",
        "    s = s/count\n",
        "  else:\n",
        "    print(';;;',s)\n",
        "\n",
        "  s2 = 0\n",
        "  count_outer = 0\n",
        "  for i in range(len(heats2)):\n",
        "    heats = heats2[i]\n",
        "    sims = sim2[i]\n",
        "    count = 0\n",
        "    sloop = 0\n",
        "    for j in range(len(heats)):\n",
        "      val = min(heats[j],base_heat)*sims[j]\n",
        "      if(val!=0):\n",
        "        count+=1\n",
        "      sloop+=val\n",
        "    if(count!=0):\n",
        "      sloop = sloop/count\n",
        "    else:\n",
        "      print('[[[',sloop)\n",
        "    if(sloop!=0):\n",
        "      count_outer+=1\n",
        "    s2+=alpha3*sloop\n",
        "  if(count_outer!=0):\n",
        "    s2 = s2/count_outer\n",
        "  else:\n",
        "    print(s2)    \n",
        "\n",
        "  s = (alpha1*s)+(alpha2*s2)\n",
        "\n",
        "  s+=base_heat*base_ven_score\n",
        "\n",
        "  return(s)\n",
        "\n",
        "for index,row in df.iterrows():\n",
        "  print(index)\n",
        "  if(isinstance(row['sim L1'],float) or isinstance(row['der heats'],float) \n",
        "    or isinstance(row['sim L2'],float) or isinstance(row['derofder heats'],float)):\n",
        "    scores.append(-1)\n",
        "    continue\n",
        "\n",
        "  heats1 = make_list(row['der heats'],Type=float)\n",
        "  sims1 = make_list(row['sim L1'],Type=float)\n",
        "\n",
        "  heats2 = make_list(row['derofder heats'])\n",
        "  heats2 = [make_list(x,' #$# ',Type=float) for x in heats2]\n",
        "  sims2 = make_list(row['sim L2'])\n",
        "  sims2 = [make_list(x,' #$# ',Type=float) for x in sims2]\n",
        "\n",
        "  venue = row['conf']\n",
        "\n",
        "  if(len(sims1)==len(heats1) and len(sims2)==len(heats2)):\n",
        "    base_heat = float(row['base heats'])\n",
        "    scores.append(score(heats1,sims1,heats2,sims2,base_heat,d_venscore[venue]))\n",
        "  else:\n",
        "    scores.append(-1)\n",
        "\n",
        "len(scores)"
      ],
      "execution_count": null,
      "outputs": []
    },
    {
      "cell_type": "code",
      "metadata": {
        "id": "n_AuO3NtTiZ0"
      },
      "source": [
        "df['semantic score'] = scores\n",
        "df.to_csv('/content/drive/MyDrive/SAHA PROJECT - connectedpapers zip files/one_dataset_complete2_norm_3wts.csv',index=False)"
      ],
      "execution_count": 106,
      "outputs": []
    },
    {
      "cell_type": "code",
      "metadata": {
        "colab": {
          "base_uri": "https://localhost:8080/"
        },
        "id": "5lYWO_l6UKb7",
        "outputId": "58748c22-ba6c-4c2e-8d7b-076b90ee7d3c"
      },
      "source": [
        "len(scores)-scores.count(-1)"
      ],
      "execution_count": null,
      "outputs": [
        {
          "output_type": "execute_result",
          "data": {
            "text/plain": [
              "1258"
            ]
          },
          "metadata": {
            "tags": []
          },
          "execution_count": 40
        }
      ]
    },
    {
      "cell_type": "code",
      "metadata": {
        "colab": {
          "base_uri": "https://localhost:8080/"
        },
        "id": "UtAGR4xnXeSh",
        "outputId": "03c3eead-1ed0-4ce2-d31b-ed95824d7d52"
      },
      "source": [
        "df2 = df[df['semantic score']!=-1]\n",
        "len(df2)"
      ],
      "execution_count": null,
      "outputs": [
        {
          "output_type": "execute_result",
          "data": {
            "text/plain": [
              "1258"
            ]
          },
          "metadata": {
            "tags": []
          },
          "execution_count": 41
        }
      ]
    },
    {
      "cell_type": "code",
      "metadata": {
        "colab": {
          "base_uri": "https://localhost:8080/"
        },
        "id": "3lYc3S_KYHWr",
        "outputId": "0c1b86fa-4f40-4b8d-dddc-2fcdfe337de7"
      },
      "source": [
        "df2.columns"
      ],
      "execution_count": null,
      "outputs": [
        {
          "output_type": "execute_result",
          "data": {
            "text/plain": [
              "Index(['title', 'authors', 'n_citation', 'doi', 'url', 'pdf', 'conf', 'fos',\n",
              "       'year', 'pool', 'topic', 'labels', 'bib name', 'dIDs', 'ddIDs',\n",
              "       'kc len', 'ref int', 'semantic score', 'base heats', 'der heats'],\n",
              "      dtype='object')"
            ]
          },
          "metadata": {
            "tags": []
          },
          "execution_count": 42
        }
      ]
    },
    {
      "cell_type": "code",
      "metadata": {
        "id": "IVrV2W2HYJUX"
      },
      "source": [
        "df2 = df2.drop(['doi','url','pdf','bib name','topic'],axis=1)"
      ],
      "execution_count": null,
      "outputs": []
    },
    {
      "cell_type": "code",
      "metadata": {
        "id": "2QevJBqbX-3B"
      },
      "source": [
        "df2.to_csv('/content/drive/MyDrive/SAHA PROJECT - connectedpapers zip files/Semantic scores/scores_dataset.csv',index=False)"
      ],
      "execution_count": null,
      "outputs": []
    },
    {
      "cell_type": "markdown",
      "metadata": {
        "id": "5VYig4pdZnyu"
      },
      "source": [
        "## Separating pool scores"
      ]
    },
    {
      "cell_type": "code",
      "metadata": {
        "id": "KPyyl6VWYSC1"
      },
      "source": [
        "df = pd.read_csv('/content/drive/MyDrive/SAHA PROJECT - connectedpapers zip files/one_dataset_complete2_norm_3wts.csv')\n",
        "\n",
        "df_ml = df[df['labels']=='ml']\n",
        "# df_ml = df_ml.drop(['topic','bib name','pdf'],axis=1)\n",
        "\n",
        "df_mo = df[df['labels']=='mo']\n",
        "# df_mo = df_mo.drop(['topic','bib name','pdf'],axis=1)\n",
        "\n",
        "df_dl = df[df['labels']=='dl']\n",
        "# df_dl = df_dl.drop(['topic','bib name','pdf'],axis=1)"
      ],
      "execution_count": 4,
      "outputs": []
    },
    {
      "cell_type": "code",
      "metadata": {
        "id": "Q_ehJshXZ6kb"
      },
      "source": [
        "df_ml.to_csv('/content/drive/MyDrive/SAHA PROJECT - connectedpapers zip files/Semantic scores/ML.csv',index=False)"
      ],
      "execution_count": 5,
      "outputs": []
    },
    {
      "cell_type": "code",
      "metadata": {
        "id": "kWn8DR5yaQ5I"
      },
      "source": [
        "df_mo.to_csv('/content/drive/MyDrive/SAHA PROJECT - connectedpapers zip files/Semantic scores/MO.csv',index=False)\n",
        "df_dl.to_csv('/content/drive/MyDrive/SAHA PROJECT - connectedpapers zip files/Semantic scores/DL.csv',index=False)"
      ],
      "execution_count": 6,
      "outputs": []
    },
    {
      "cell_type": "code",
      "metadata": {
        "id": "LHYZEslraXkf"
      },
      "source": [
        ""
      ],
      "execution_count": null,
      "outputs": []
    },
    {
      "cell_type": "markdown",
      "metadata": {
        "id": "bMkw8oHPTObt"
      },
      "source": [
        "## Looking at data"
      ]
    },
    {
      "cell_type": "code",
      "metadata": {
        "id": "xyqWde2sTNQX"
      },
      "source": [
        "df1 = pd.read_csv('/content/drive/MyDrive/SAHA PROJECT - connectedpapers zip files/one_dataset_complete.csv')\n",
        "df2 = pd.read_csv('/content/drive/MyDrive/SAHA PROJECT - connectedpapers zip files/one_dataset_complete2.csv')\n",
        "\n",
        "s1 = list(df1['semantic score'])\n",
        "s2 = list(df2['semantic score'])"
      ],
      "execution_count": 94,
      "outputs": []
    },
    {
      "cell_type": "code",
      "metadata": {
        "colab": {
          "base_uri": "https://localhost:8080/",
          "height": 315
        },
        "id": "uxIxpctcT7Nu",
        "outputId": "80333823-e4a2-4842-b6c8-f89ee47971c0"
      },
      "source": [
        "%matplotlib inline\n",
        "import numpy as np\n",
        "import random\n",
        "from matplotlib import pyplot as plt\n",
        "import math\n",
        "\n",
        "# data = np.random.normal(0, 20, 1000) \n",
        "data = s1\n",
        "\n",
        "bins = np.linspace(math.ceil(min(data)), \n",
        "                   math.floor(max(data)),\n",
        "                   20) # fixed number of bins\n",
        "\n",
        "plt.xlim([min(data)-5, max(data)+5])\n",
        "\n",
        "plt.hist(data, bins=bins, alpha=0.5)\n",
        "plt.title('Random Gaussian data (fixed bin size)')\n",
        "plt.xlabel('variable X (bin size = 5)')\n",
        "plt.ylabel('count')\n",
        "\n",
        "plt.show()"
      ],
      "execution_count": 97,
      "outputs": [
        {
          "output_type": "display_data",
          "data": {
            "image/png": "[encoded data removed]",
            "text/plain": [
              "<Figure size 432x288 with 1 Axes>"
            ]
          },
          "metadata": {
            "tags": [],
            "needs_background": "light"
          }
        }
      ]
    },
    {
      "cell_type": "code",
      "metadata": {
        "colab": {
          "base_uri": "https://localhost:8080/",
          "height": 315
        },
        "id": "nCgJpLFHUoFh",
        "outputId": "d5770f04-7262-4138-99ab-f6576f546387"
      },
      "source": [
        "data = s2\n",
        "\n",
        "bins = np.linspace(math.ceil(min(data)), \n",
        "                   math.floor(max(data)),\n",
        "                   20) # fixed number of bins\n",
        "\n",
        "plt.xlim([min(data)-5, max(data)+5])\n",
        "\n",
        "plt.hist(data, bins=bins, alpha=0.5)\n",
        "plt.title('Random Gaussian data (fixed bin size)')\n",
        "plt.xlabel('variable X (bin size = 5)')\n",
        "plt.ylabel('count')\n",
        "\n",
        "plt.show()"
      ],
      "execution_count": 98,
      "outputs": [
        {
          "output_type": "display_data",
          "data": {
            "image/png": "[encoded data removed]",
            "text/plain": [
              "<Figure size 432x288 with 1 Axes>"
            ]
          },
          "metadata": {
            "tags": [],
            "needs_background": "light"
          }
        }
      ]
    },
    {
      "cell_type": "code",
      "metadata": {
        "id": "2pvii8hKU4k-"
      },
      "source": [
        ""
      ],
      "execution_count": null,
      "outputs": []
    }
  ]
}
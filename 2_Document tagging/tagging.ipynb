{
 "cells": [
  {
   "cell_type": "markdown",
   "metadata": {},
   "source": [
    "# Tagging of Papers\n",
    "#### Tasks:\n",
    "a) SciBERT encoding + Cosine similarity<br>\n",
    "b) Hierarchical tagging"
   ]
  },
  {
   "cell_type": "code",
   "execution_count": 37,
   "metadata": {},
   "outputs": [],
   "source": [
    "import scispacy\n",
    "import spacy\n",
    "import pandas as pd\n",
    "from wmd import WMD"
   ]
  },
  {
   "cell_type": "code",
   "execution_count": 40,
   "metadata": {},
   "outputs": [],
   "source": [
    "nlp = spacy.load('en_core_sci_lg')"
   ]
  },
  {
   "cell_type": "code",
   "execution_count": 11,
   "metadata": {},
   "outputs": [],
   "source": [
    "df = pd.read_csv('test_ijcnn.csv')\n",
    "fos = list(df['fos'])\n",
    "# fos = [x.split(' ; ') for x in fos]\n",
    "# fos = [[x.split('=')[0].lower() for x in y[:-1]] for y in fos]"
   ]
  },
  {
   "cell_type": "code",
   "execution_count": 46,
   "metadata": {},
   "outputs": [],
   "source": [
    "def bertSimilarity1(fields):\n",
    "  fields = fields.split(' ; ')\n",
    "  ml = 0 #classical machine learning\n",
    "  mo = 0 #met opt\n",
    "\n",
    "  classes = ['machine learning','metaheuristic optimization']\n",
    "  classes_vec = [nlp(x) for x in classes]\n",
    "  for f in fields[:-1]:\n",
    "    f = f.split('=')\n",
    "    query = f[0].lower()\n",
    "    weight = float(f[1])\n",
    "    query_vec = nlp(query)\n",
    "\n",
    "    sim = classes_vec[0].similarity(query_vec)\n",
    "    ml+=(weight*sim)\n",
    "    sim = classes_vec[1].similarity(query_vec)\n",
    "    mo+=(weight*sim)\n",
    "\n",
    "  m = max([ml,mo])\n",
    "  if(m==ml):\n",
    "    return('ml',ml)\n",
    "  elif(m==mo):\n",
    "    return('mo',mo)"
   ]
  },
  {
   "cell_type": "code",
   "execution_count": null,
   "metadata": {},
   "outputs": [],
   "source": [
    "def bertSimilarity2(fields):\n",
    "  fields = fields.split(' ; ')\n",
    "  ml = 0 #classical machine learning\n",
    "  dl = 0 #deep learning\n",
    "\n",
    "  classes = ['machine learning','deep learning']\n",
    "  classes_vec = [nlp(x) for x in classes]\n",
    "  for f in fields[:-1]:\n",
    "    f = f.split('=')\n",
    "    query = f[0].lower()\n",
    "    weight = float(f[1])\n",
    "    query_vec = nlp(query)\n",
    "\n",
    "    sim = classes_vec[0].similarity(query_vec)\n",
    "    ml+=(weight*sim)\n",
    "    sim = classes_vec[1].similarity(query_vec)\n",
    "    dl+=(weight*sim)\n",
    "\n",
    "  m = max([ml,dl])\n",
    "  if(m==ml):\n",
    "    return('ml',ml)\n",
    "  elif(m==dl):\n",
    "    return('dl',dl)"
   ]
  },
  {
   "cell_type": "code",
   "execution_count": 47,
   "metadata": {},
   "outputs": [
    {
     "name": "stderr",
     "output_type": "stream",
     "text": [
      "/opt/anaconda3/lib/python3.7/site-packages/ipykernel_launcher.py:15: UserWarning: [W008] Evaluating Doc.similarity based on empty vectors.\n",
      "  from ipykernel import kernelapp as app\n",
      "/opt/anaconda3/lib/python3.7/site-packages/ipykernel_launcher.py:17: UserWarning: [W008] Evaluating Doc.similarity based on empty vectors.\n",
      "/opt/anaconda3/lib/python3.7/site-packages/ipykernel_launcher.py:19: UserWarning: [W008] Evaluating Doc.similarity based on empty vectors.\n"
     ]
    },
    {
     "name": "stdout",
     "output_type": "stream",
     "text": [
      "0.0\n",
      "0.01756543123133673\n",
      "0.03513086246267346\n",
      "0.05269629369401019\n",
      "0.07026172492534692\n",
      "0.08782715615668364\n",
      "0.10539258738802038\n",
      "0.12295801861935711\n",
      "0.14052344985069384\n",
      "0.15808888108203056\n",
      "0.17565431231336728\n",
      "0.19321974354470403\n",
      "0.21078517477604075\n",
      "0.22835060600737747\n",
      "0.24591603723871422\n",
      "0.26348146847005094\n",
      "0.2810468997013877\n",
      "0.2986123309327244\n",
      "0.3161777621640611\n",
      "0.3337431933953979\n",
      "0.35130862462673457\n",
      "0.3688740558580713\n",
      "0.38643948708940806\n",
      "0.40400491832074475\n",
      "0.4215703495520815\n",
      "0.43913578078341825\n",
      "0.45670121201475494\n",
      "0.4742666432460917\n",
      "0.49183207447742844\n",
      "0.5093975057087652\n",
      "0.5269629369401019\n",
      "0.5445283681714386\n",
      "0.5620937994027754\n",
      "0.5796592306341121\n",
      "0.5972246618654488\n",
      "0.6147900930967856\n",
      "0.6323555243281223\n",
      "0.649920955559459\n",
      "0.6674863867907957\n",
      "0.6850518180221324\n",
      "0.7026172492534691\n",
      "0.7201826804848059\n",
      "0.7377481117161426\n",
      "0.7553135429474793\n",
      "0.7728789741788161\n",
      "0.7904444054101528\n",
      "0.8080098366414895\n",
      "0.8255752678728263\n",
      "0.843140699104163\n",
      "0.8607061303354997\n",
      "0.8782715615668365\n",
      "0.8958369927981732\n",
      "0.9134024240295099\n",
      "0.9309678552608467\n",
      "0.9485332864921834\n",
      "0.9660987177235201\n",
      "0.9836641489548569\n",
      "mo: 1800\n",
      "dl: 52\n",
      "ml: 3841\n"
     ]
    }
   ],
   "source": [
    "df_test = pd.read_csv('filtered_Aminer_dataset.csv')\n",
    "# df_test = df_test[df_test['n_citation']>=100]\n",
    "fos_test = list(df_test['fos'])\n",
    "labels = []\n",
    "i=0\n",
    "# telegram_send.send(messages=['Starting'])\n",
    "for fields in fos_test:\n",
    "  labels.append(bertSimilarity(fields)[0])\n",
    "  # i+=1\n",
    "  if(i%100==0):\n",
    "    print(i/len(df_test))\n",
    "  i+=1\n",
    "  #   telegram_send.send(messages=[str(i/len(fos_test))])\n",
    "# telegram_send.send(messages=['Done'])\n",
    "df_test['labels'] = labels\n",
    "df_test.to_csv('filtered_Aminer_dataset.csv')\n",
    "labels = list(df_test['labels'])\n",
    "labels_set = set(labels)\n",
    "\n",
    "# telegram_send.send(messages=['Results:'])\n",
    "\n",
    "for l in labels_set:\n",
    "  print(l,labels.count(l),sep= ': ')\n",
    "  # try:\n",
    "  #   telegram_send.send(messages=[l+': '+str(labels.count(l))])\n",
    "  # except:\n",
    "  #   pass"
   ]
  },
  {
   "cell_type": "code",
   "execution_count": 26,
   "metadata": {},
   "outputs": [
    {
     "data": {
      "text/plain": [
       "1"
      ]
     },
     "execution_count": 26,
     "metadata": {},
     "output_type": "execute_result"
    }
   ],
   "source": [
    "df_ml = df_test[df_test['labels']=='ml']\n",
    "len(df_ml)"
   ]
  },
  {
   "cell_type": "code",
   "execution_count": 11,
   "metadata": {},
   "outputs": [
    {
     "name": "stderr",
     "output_type": "stream",
     "text": [
      "/opt/anaconda3/lib/python3.7/site-packages/ipykernel_launcher.py:15: UserWarning: [W008] Evaluating Doc.similarity based on empty vectors.\n",
      "  from ipykernel import kernelapp as app\n",
      "/opt/anaconda3/lib/python3.7/site-packages/ipykernel_launcher.py:19: UserWarning: [W008] Evaluating Doc.similarity based on empty vectors.\n"
     ]
    },
    {
     "name": "stdout",
     "output_type": "stream",
     "text": [
      "dl: 2\n",
      "ml: 57\n"
     ]
    },
    {
     "name": "stderr",
     "output_type": "stream",
     "text": [
      "/opt/anaconda3/lib/python3.7/site-packages/ipykernel_launcher.py:9: SettingWithCopyWarning: \n",
      "A value is trying to be set on a copy of a slice from a DataFrame.\n",
      "Try using .loc[row_indexer,col_indexer] = value instead\n",
      "\n",
      "See the caveats in the documentation: http://pandas.pydata.org/pandas-docs/stable/user_guide/indexing.html#returning-a-view-versus-a-copy\n",
      "  if __name__ == '__main__':\n"
     ]
    }
   ],
   "source": [
    "fos_test = list(df_ml['fos'])\n",
    "labels = []\n",
    "for fields in fos_test:\n",
    "  labels.append(similarity_wmd3(fields)[0])\n",
    "  # i+=1\n",
    "  # if(i%50==0):\n",
    "  #   telegram_send.send(messages=[str(i/len(fos_test))])\n",
    "# telegram_send.send(messages=['Done'])\n",
    "df_ml['labels'] = labels\n",
    "\n",
    "labels = list(df_ml['labels'])\n",
    "labels_set = set(labels)\n",
    "\n",
    "# telegram_send.send(messages=['Results:'])\n",
    "\n",
    "for l in labels_set:\n",
    "  print(l,labels.count(l),sep= ': ')\n",
    "  # try:\n",
    "  #   telegram_send.send(messages=[l+': '+str(labels.count(l))])\n",
    "  # except:\n",
    "  #   pass"
   ]
  },
  {
   "cell_type": "code",
   "execution_count": null,
   "metadata": {},
   "outputs": [],
   "source": []
  }
 ],
 "metadata": {
  "kernelspec": {
   "display_name": "Python 3",
   "language": "python",
   "name": "python3"
  },
  "language_info": {
   "codemirror_mode": {
    "name": "ipython",
    "version": 3
   },
   "file_extension": ".py",
   "mimetype": "text/x-python",
   "name": "python",
   "nbconvert_exporter": "python",
   "pygments_lexer": "ipython3",
   "version": "3.7.4"
  }
 },
 "nbformat": 4,
 "nbformat_minor": 2
}

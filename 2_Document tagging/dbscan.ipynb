{
  "nbformat": 4,
  "nbformat_minor": 0,
  "metadata": {
    "colab": {
      "name": "CN:dbscan.ipynb",
      "provenance": []
    },
    "kernelspec": {
      "name": "python3",
      "display_name": "Python 3"
    }
  },
  "cells": [
    {
      "cell_type": "markdown",
      "metadata": {
        "id": "h9XbV2bJlkb5"
      },
      "source": [
        "### DBSCAN Clustering\n",
        "This is done to find out how many clusters exist in dataset"
      ]
    },
    {
      "cell_type": "code",
      "metadata": {
        "id": "Jn4GwoUufp8F"
      },
      "source": [
        "import pandas as pd\n",
        "import copy\n",
        "\n",
        "from sklearn.cluster import DBSCAN"
      ],
      "execution_count": 7,
      "outputs": []
    },
    {
      "cell_type": "code",
      "metadata": {
        "colab": {
          "base_uri": "https://localhost:8080/"
        },
        "id": "M743MRKegA2F",
        "outputId": "6578e25c-2947-440f-fa78-af8a1ec2f7d9"
      },
      "source": [
        "df = pd.read_csv('/content/drive/MyDrive/Citation/test_ijcnn.csv')\n",
        "df = df[df['n_citation']>=100]\n",
        "fos = list(df['fos'])\n",
        "fos = [x.split(' ; ') for x in fos]\n",
        "fos = [[x.split('=')[0] for x in y[:-1]] for y in fos]\n",
        "len(fos)"
      ],
      "execution_count": 8,
      "outputs": [
        {
          "output_type": "execute_result",
          "data": {
            "text/plain": [
              "65"
            ]
          },
          "metadata": {
            "tags": []
          },
          "execution_count": 8
        }
      ]
    },
    {
      "cell_type": "code",
      "metadata": {
        "colab": {
          "base_uri": "https://localhost:8080/"
        },
        "id": "SJ6_FaHdgjHB",
        "outputId": "8fc072e9-ff5d-4dcb-ed81-005a9b2abc90"
      },
      "source": [
        "# OHE\n",
        "vocab = [x for y in fos for x in y]\n",
        "vocab = list(set(vocab))\n",
        "vocab = [x.lower() for x in vocab]\n",
        "print(len(vocab))"
      ],
      "execution_count": 9,
      "outputs": [
        {
          "output_type": "stream",
          "text": [
            "343\n"
          ],
          "name": "stdout"
        }
      ]
    },
    {
      "cell_type": "code",
      "metadata": {
        "id": "R51LRjzJiKZN"
      },
      "source": [
        "vocab_dict = dict()\n",
        "\n",
        "for i in range(len(vocab)):\n",
        "  vocab_dict[vocab[i]] = i"
      ],
      "execution_count": 10,
      "outputs": []
    },
    {
      "cell_type": "code",
      "metadata": {
        "id": "QhVfvw2EhN7P"
      },
      "source": [
        "ohe = []\n",
        "fos = [[x.lower() for x in y] for y in fos]\n",
        "\n",
        "for row in fos:\n",
        "  row_ohe = [0 for i in range(len(vocab))]\n",
        "  for field in row:\n",
        "    row_ohe[vocab_dict[field]]+=1\n",
        "  ohe.append(copy.deepcopy(row_ohe))"
      ],
      "execution_count": 11,
      "outputs": []
    },
    {
      "cell_type": "code",
      "metadata": {
        "id": "M51q19Mjh3dV"
      },
      "source": [
        "clustering = DBSCAN(3,).fit(ohe)"
      ],
      "execution_count": 14,
      "outputs": []
    },
    {
      "cell_type": "code",
      "metadata": {
        "colab": {
          "base_uri": "https://localhost:8080/"
        },
        "id": "jCgeTdNeiiDY",
        "outputId": "d8062c15-a852-4d9e-c696-2629cdb51506"
      },
      "source": [
        "np.unique(clustering.labels_)"
      ],
      "execution_count": 15,
      "outputs": [
        {
          "output_type": "execute_result",
          "data": {
            "text/plain": [
              "array([ 0, -1, -1,  1, -1,  0,  0,  0,  0,  0,  0,  0,  1, -1, -1,  0, -1,\n",
              "        0, -1, -1, -1, -1, -1,  0, -1, -1, -1, -1, -1, -1, -1,  0, -1,  0,\n",
              "        0, -1, -1, -1, -1,  0,  0,  0, -1, -1, -1, -1, -1,  0,  0,  0, -1,\n",
              "        0,  0, -1, -1, -1, -1,  0, -1, -1, -1,  0,  0, -1, -1])"
            ]
          },
          "metadata": {
            "tags": []
          },
          "execution_count": 15
        }
      ]
    }
  ]
}
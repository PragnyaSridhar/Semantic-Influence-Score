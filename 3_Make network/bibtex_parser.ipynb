{
  "nbformat": 4,
  "nbformat_minor": 0,
  "metadata": {
    "accelerator": "GPU",
    "colab": {
      "name": "bibtex_parser.ipynb",
      "provenance": [],
      "collapsed_sections": [
        "XaSusOXhMupX"
      ]
    },
    "kernelspec": {
      "display_name": "Python 3",
      "name": "python3"
    }
  },
  "cells": [
    {
      "cell_type": "code",
      "metadata": {
        "colab": {
          "base_uri": "https://localhost:8080/"
        },
        "id": "akxaNeDoXeKX",
        "outputId": "dbd7d565-5952-44a8-f447-b622a64b4dff"
      },
      "source": [
        "!pip install bibtexparser"
      ],
      "execution_count": null,
      "outputs": [
        {
          "output_type": "stream",
          "text": [
            "Collecting bibtexparser\n",
            "\u001b[?25l  Downloading https://files.pythonhosted.org/packages/7c/c3/c184a4460ba2f4877e3389e2d63479f642d0d3bdffeeffee0723d3b0156d/bibtexparser-1.2.0.tar.gz (46kB)\n",
            "\r\u001b[K     |███████                         | 10kB 15.6MB/s eta 0:00:01\r\u001b[K     |██████████████                  | 20kB 16.2MB/s eta 0:00:01\r\u001b[K     |█████████████████████           | 30kB 13.5MB/s eta 0:00:01\r\u001b[K     |████████████████████████████    | 40kB 12.4MB/s eta 0:00:01\r\u001b[K     |████████████████████████████████| 51kB 4.2MB/s \n",
            "\u001b[?25hRequirement already satisfied: pyparsing>=2.0.3 in /usr/local/lib/python3.7/dist-packages (from bibtexparser) (2.4.7)\n",
            "Requirement already satisfied: future>=0.16.0 in /usr/local/lib/python3.7/dist-packages (from bibtexparser) (0.16.0)\n",
            "Building wheels for collected packages: bibtexparser\n",
            "  Building wheel for bibtexparser (setup.py) ... \u001b[?25l\u001b[?25hdone\n",
            "  Created wheel for bibtexparser: filename=bibtexparser-1.2.0-cp37-none-any.whl size=36712 sha256=f4d72a727e06bca08e4befe867a367463db017050c8cdcdf57c69cb3fe4a0556\n",
            "  Stored in directory: /root/.cache/pip/wheels/b2/5a/e7/867bcbc3a81c15b675b931aa19b6698375c5a5e90419a366db\n",
            "Successfully built bibtexparser\n",
            "Installing collected packages: bibtexparser\n",
            "Successfully installed bibtexparser-1.2.0\n"
          ],
          "name": "stdout"
        }
      ]
    },
    {
      "cell_type": "code",
      "metadata": {
        "id": "7z0zfH-1WgMa"
      },
      "source": [
        "import bibtexparser\n",
        "import os\n",
        "import pandas as pd"
      ],
      "execution_count": null,
      "outputs": []
    },
    {
      "cell_type": "code",
      "metadata": {
        "colab": {
          "base_uri": "https://localhost:8080/"
        },
        "id": "dDT445ztVNv0",
        "outputId": "d56c0e52-e0a0-4300-9afb-e5a6ea1233f2"
      },
      "source": [
        "from google.colab import drive\n",
        "drive.mount('/content/drive',force_remount=True)"
      ],
      "execution_count": null,
      "outputs": [
        {
          "output_type": "stream",
          "text": [
            "Mounted at /content/drive\n"
          ],
          "name": "stdout"
        }
      ]
    },
    {
      "cell_type": "code",
      "metadata": {
        "id": "LzkLEQRdVal8"
      },
      "source": [
        "dir_poolA = '/content/drive/MyDrive/SAHA PROJECT - connectedpapers zip files/Derivative Works (Task 1)/Pool A'"
      ],
      "execution_count": null,
      "outputs": []
    },
    {
      "cell_type": "code",
      "metadata": {
        "id": "VCb4JPflWSYI"
      },
      "source": [
        "poolA_bibs = os.listdir(dir_poolA)"
      ],
      "execution_count": null,
      "outputs": []
    },
    {
      "cell_type": "code",
      "metadata": {
        "colab": {
          "base_uri": "https://localhost:8080/"
        },
        "id": "MftaM9CkWbk6",
        "outputId": "6e8a1395-d0ab-4c31-b765-b20dbd0d72a6"
      },
      "source": [
        "print(len(poolA_bibs))"
      ],
      "execution_count": null,
      "outputs": [
        {
          "output_type": "stream",
          "text": [
            "3818\n"
          ],
          "name": "stdout"
        }
      ]
    },
    {
      "cell_type": "code",
      "metadata": {
        "id": "S_FnBUobXP4g"
      },
      "source": [
        "def knowledge_chain_length(dir,bib):\n",
        "  with open(dir+'/'+bib,'r') as bibtex_file:\n",
        "      bib_database = bibtexparser.load(bibtex_file)\n",
        "\n",
        "  return(len(bib_database.entries))"
      ],
      "execution_count": null,
      "outputs": []
    },
    {
      "cell_type": "code",
      "metadata": {
        "id": "XTJwOHEMX80b"
      },
      "source": [
        "def get_all_lengths(dir):\n",
        "  res = []\n",
        "  bib_list = os.listdir(dir)\n",
        "  for bib in bib_list:\n",
        "    res.append(knowledge_chain_length(dir,bib))\n",
        "\n",
        "  return(res)"
      ],
      "execution_count": null,
      "outputs": []
    },
    {
      "cell_type": "code",
      "metadata": {
        "id": "q11cmjQnYBFL"
      },
      "source": [
        "poolA = get_all_lengths(dir_poolA)"
      ],
      "execution_count": null,
      "outputs": []
    },
    {
      "cell_type": "code",
      "metadata": {
        "id": "DIA-_4UzjgHY"
      },
      "source": [
        "def get_derivative_works(dir,bib):\n",
        "  res = []\n",
        "  with open(dir+'/'+bib,'r') as bibtex_file:\n",
        "      bib_database = bibtexparser.load(bibtex_file)\n",
        "\n",
        "      for di in bib_database.entries:\n",
        "        res.append(di['title'])\n",
        "  return(res)"
      ],
      "execution_count": null,
      "outputs": []
    },
    {
      "cell_type": "code",
      "metadata": {
        "id": "1kxnmXsdhdka"
      },
      "source": [
        "def get_all_derivative_works(dir):\n",
        "  res = []\n",
        "  bib_list = os.listdir(dir)\n",
        "  for bib in bib_list:\n",
        "    res.append(get_derivative_works(dir,bib))\n",
        "\n",
        "  return(res)"
      ],
      "execution_count": null,
      "outputs": []
    },
    {
      "cell_type": "code",
      "metadata": {
        "id": "GxQ6y_pvix0F"
      },
      "source": [
        "derA = get_all_derivative_works(dir_poolA)"
      ],
      "execution_count": null,
      "outputs": []
    },
    {
      "cell_type": "code",
      "metadata": {
        "id": "whYB6KTsi7pP",
        "colab": {
          "base_uri": "https://localhost:8080/"
        },
        "outputId": "4a6a729b-3b59-4925-d794-58f40b368fde"
      },
      "source": [
        "print(len(derA))"
      ],
      "execution_count": null,
      "outputs": [
        {
          "output_type": "stream",
          "text": [
            "3818\n"
          ],
          "name": "stdout"
        }
      ]
    },
    {
      "cell_type": "code",
      "metadata": {
        "id": "joeC8PoiqFST"
      },
      "source": [
        "def get_derivative_works_ID(dir,bib):\n",
        "  res = []\n",
        "  with open(dir+'/'+bib,'r') as bibtex_file:\n",
        "      bib_database = bibtexparser.load(bibtex_file)\n",
        "\n",
        "      for di in bib_database.entries:\n",
        "        res.append(di['Journal'])\n",
        "  return(res)"
      ],
      "execution_count": null,
      "outputs": []
    },
    {
      "cell_type": "code",
      "metadata": {
        "id": "sdxOwunAre6f"
      },
      "source": [
        "# x = get_derivative_works_ID(dir_poolA,poolA_bibs[0])"
      ],
      "execution_count": null,
      "outputs": []
    },
    {
      "cell_type": "code",
      "metadata": {
        "id": "Z_tU-Qgbrmdo"
      },
      "source": [
        "# print(x)"
      ],
      "execution_count": null,
      "outputs": []
    },
    {
      "cell_type": "code",
      "metadata": {
        "id": "hD6dNZQxrnVQ"
      },
      "source": [
        "# poolA_bibs[0]"
      ],
      "execution_count": null,
      "outputs": []
    },
    {
      "cell_type": "code",
      "metadata": {
        "id": "WycxvX0HshmR"
      },
      "source": [
        "def get_all_derivative_works_ID(dir):\n",
        "  res = []\n",
        "  bib_list = os.listdir(dir)\n",
        "  for bib in bib_list:\n",
        "    res.append(get_derivative_works_ID(dir,bib))\n",
        "\n",
        "  return(res)"
      ],
      "execution_count": null,
      "outputs": []
    },
    {
      "cell_type": "code",
      "metadata": {
        "id": "dZMjvApQDYoX"
      },
      "source": [
        "a = get_all_derivative_works_ID(dir_poolA)"
      ],
      "execution_count": null,
      "outputs": []
    },
    {
      "cell_type": "code",
      "metadata": {
        "id": "tQwnNwy3i-Mf"
      },
      "source": [
        "da = dict()\n",
        "da = {'name':os.listdir(dir_poolA),'knowledge_chain_lengths':poolA,'derivative works':derA,'derivative works ID':a}\n",
        "df = pd.DataFrame(da)\n",
        "df.to_csv('/content/drive/MyDrive/SAHA PROJECT - connectedpapers zip files/Derivative_works_of_derivative_works_Task1.5/poolC_derworks_above.csv',index=False)\n",
        "# !cp poolA_derworks.csv \"/content/drive/My Drive/SAHA PROJECT - connectedpapers zip files/Derivative Works (Task 1)/\""
      ],
      "execution_count": null,
      "outputs": []
    },
    {
      "cell_type": "code",
      "metadata": {
        "colab": {
          "base_uri": "https://localhost:8080/"
        },
        "id": "T9HevkuZMipJ",
        "outputId": "3872c87c-6f0b-455c-f587-ecbd08adc165"
      },
      "source": [
        "print('really done pool C above')"
      ],
      "execution_count": null,
      "outputs": [
        {
          "output_type": "stream",
          "text": [
            "really done pool C above\n"
          ],
          "name": "stdout"
        }
      ]
    },
    {
      "cell_type": "code",
      "metadata": {
        "id": "8wu57U9mMuWf"
      },
      "source": [
        ""
      ],
      "execution_count": null,
      "outputs": []
    }
  ]
}
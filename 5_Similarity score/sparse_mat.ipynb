{
  "nbformat": 4,
  "nbformat_minor": 0,
  "metadata": {
    "colab": {
      "name": "CN:sparse_mat.ipynb",
      "provenance": [],
      "collapsed_sections": []
    },
    "kernelspec": {
      "name": "python3",
      "display_name": "Python 3"
    },
    "language_info": {
      "name": "python"
    }
  },
  "cells": [
    {
      "cell_type": "code",
      "metadata": {
        "id": "3dK_84heHAZ6"
      },
      "source": [
        "import pandas as pd\n",
        "import csv"
      ],
      "execution_count": null,
      "outputs": []
    },
    {
      "cell_type": "code",
      "metadata": {
        "colab": {
          "base_uri": "https://localhost:8080/"
        },
        "id": "hTmHVig5JSgB",
        "outputId": "ea4b0b4f-11f7-431c-e95c-4b21730f20b7"
      },
      "source": [
        "df = pd.read_csv('/content/drive/MyDrive/SAHA PROJECT - connectedpapers zip files/one_dataset_w_refint.csv')\n",
        "df.columns"
      ],
      "execution_count": null,
      "outputs": [
        {
          "output_type": "execute_result",
          "data": {
            "text/plain": [
              "Index(['Unnamed: 0', 'title', 'authors', 'n_citation', 'doi', 'url', 'pdf',\n",
              "       'conf', 'fos', 'year', 'pool', 'topic', 'labels', 'bib name', 'dIDs',\n",
              "       'ddIDs', 'kc len', 'ref int', 'semantic score', 'base heats',\n",
              "       'der heats', 'ref int d_dd'],\n",
              "      dtype='object')"
            ]
          },
          "metadata": {
            "tags": []
          },
          "execution_count": 5
        }
      ]
    },
    {
      "cell_type": "code",
      "metadata": {
        "id": "Uh3uklFCLy2z"
      },
      "source": [
        "def make_list(string,spl = ' #;# ',Type = ''):\n",
        "  if(isinstance(string,str)):\n",
        "    string = string.split(spl)\n",
        "    string = [x.replace(\"'\",'') for x in string]\n",
        "    if(Type!=''):\n",
        "      string = [Type(x) for x in string]\n",
        "  else:\n",
        "    string = []\n",
        "  return(string)"
      ],
      "execution_count": null,
      "outputs": []
    },
    {
      "cell_type": "code",
      "metadata": {
        "id": "fcW6NdiSKS0l"
      },
      "source": [
        "b = list(df['Unnamed: 0'])\n",
        "\n",
        "d = [make_list(x) for x in list(df['dIDs'])]\n",
        "dr = [make_list(x,Type=float) for x in list(df['ref int'])]\n",
        "\n",
        "dd = [make_list(x) for x in list(df['ddIDs'])]\n",
        "dd = [[make_list(x,' #$# ') for x in y] for y in dd]\n",
        "\n",
        "ddr = [make_list(x) for x in list(df['ref int d_dd'])]\n",
        "ddr = [[make_list(x,' #$# ',Type=float) for x in y] for y in ddr]"
      ],
      "execution_count": null,
      "outputs": []
    },
    {
      "cell_type": "code",
      "metadata": {
        "colab": {
          "base_uri": "https://localhost:8080/"
        },
        "id": "oa7Di52lNZo6",
        "outputId": "76ea9f1d-d487-4a58-b47b-9bd538f3e15e"
      },
      "source": [
        "ddr[0][0]"
      ],
      "execution_count": null,
      "outputs": [
        {
          "output_type": "execute_result",
          "data": {
            "text/plain": [
              "[0.14615384615384616,\n",
              " 0.17647058823529413,\n",
              " 0.8095238095238095,\n",
              " 0.0625,\n",
              " 0.09345794392523364,\n",
              " 0.2926829268292683,\n",
              " 0.037037037037037035,\n",
              " 0.22727272727272727,\n",
              " 0.0,\n",
              " 0.06779661016949153]"
            ]
          },
          "metadata": {
            "tags": []
          },
          "execution_count": 6
        }
      ]
    },
    {
      "cell_type": "markdown",
      "metadata": {
        "id": "UIwDu0k2PRfS"
      },
      "source": [
        "# L1 sparse matrix"
      ]
    },
    {
      "cell_type": "code",
      "metadata": {
        "id": "PXNd-gFzeuks"
      },
      "source": [
        "def clean(s):\n",
        "  s = s.strip()\n",
        "  s = s.replace('\\n','')\n",
        "\n",
        "  return(s)"
      ],
      "execution_count": null,
      "outputs": []
    },
    {
      "cell_type": "code",
      "metadata": {
        "id": "qyEeBhW6OgaS"
      },
      "source": [
        "with open('/content/drive/MyDrive/SAHA PROJECT - connectedpapers zip files/sparse_mat.csv','w+') as f:\n",
        "  w = csv.writer(f)\n",
        "  w.writerow(['parent','child','ref_int','base_flag'])\n",
        "\n",
        "  for i in range(len(b)):\n",
        "    base = clean(str(b[i]))\n",
        "\n",
        "    for j in range(len(d[i])):\n",
        "      der = clean(d[i][j])\n",
        "      ri = dr[i][j]\n",
        "      w.writerow([base,der,ri,1])"
      ],
      "execution_count": null,
      "outputs": []
    },
    {
      "cell_type": "code",
      "metadata": {
        "colab": {
          "base_uri": "https://localhost:8080/",
          "height": 221
        },
        "id": "Tb2A-UtiPO4N",
        "outputId": "c2708481-4ef2-4953-d02b-ed39879ec800"
      },
      "source": [
        "df = pd.read_csv('/content/drive/MyDrive/SAHA PROJECT - connectedpapers zip files/sparse_mat.csv')\n",
        "df.head()"
      ],
      "execution_count": null,
      "outputs": [
        {
          "output_type": "execute_result",
          "data": {
            "text/html": [
              "<div>\n",
              "<style scoped>\n",
              "    .dataframe tbody tr th:only-of-type {\n",
              "        vertical-align: middle;\n",
              "    }\n",
              "\n",
              "    .dataframe tbody tr th {\n",
              "        vertical-align: top;\n",
              "    }\n",
              "\n",
              "    .dataframe thead th {\n",
              "        text-align: right;\n",
              "    }\n",
              "</style>\n",
              "<table border=\"1\" class=\"dataframe\">\n",
              "  <thead>\n",
              "    <tr style=\"text-align: right;\">\n",
              "      <th></th>\n",
              "      <th>parent</th>\n",
              "      <th>child</th>\n",
              "      <th>ref_int</th>\n",
              "      <th>base_flag</th>\n",
              "    </tr>\n",
              "  </thead>\n",
              "  <tbody>\n",
              "    <tr>\n",
              "      <th>0</th>\n",
              "      <td>1</td>\n",
              "      <td>f8b4151335847dae10fa6266cad3ec4f6595ba6d</td>\n",
              "      <td>0.076923</td>\n",
              "      <td>1</td>\n",
              "    </tr>\n",
              "    <tr>\n",
              "      <th>1</th>\n",
              "      <td>1</td>\n",
              "      <td>7a9ff95c64f65399e49bdbbd76b3a4714dd905bd</td>\n",
              "      <td>0.076923</td>\n",
              "      <td>1</td>\n",
              "    </tr>\n",
              "    <tr>\n",
              "      <th>2</th>\n",
              "      <td>1</td>\n",
              "      <td>34303fbbeb7c1ea8f5655d03e4e7c9785eb3a2d1</td>\n",
              "      <td>0.076923</td>\n",
              "      <td>1</td>\n",
              "    </tr>\n",
              "    <tr>\n",
              "      <th>3</th>\n",
              "      <td>1</td>\n",
              "      <td>bbec373b69f92022ccfb87a6aadc0ce0d9c7bbd6</td>\n",
              "      <td>0.000000</td>\n",
              "      <td>1</td>\n",
              "    </tr>\n",
              "    <tr>\n",
              "      <th>4</th>\n",
              "      <td>1</td>\n",
              "      <td>410aeffff60c9cd637986c48598c2f9fa5ed1923</td>\n",
              "      <td>0.076923</td>\n",
              "      <td>1</td>\n",
              "    </tr>\n",
              "  </tbody>\n",
              "</table>\n",
              "</div>"
            ],
            "text/plain": [
              "   parent                                     child   ref_int  base_flag\n",
              "0       1  f8b4151335847dae10fa6266cad3ec4f6595ba6d  0.076923          1\n",
              "1       1  7a9ff95c64f65399e49bdbbd76b3a4714dd905bd  0.076923          1\n",
              "2       1  34303fbbeb7c1ea8f5655d03e4e7c9785eb3a2d1  0.076923          1\n",
              "3       1  bbec373b69f92022ccfb87a6aadc0ce0d9c7bbd6  0.000000          1\n",
              "4       1  410aeffff60c9cd637986c48598c2f9fa5ed1923  0.076923          1"
            ]
          },
          "metadata": {
            "tags": []
          },
          "execution_count": 13
        }
      ]
    },
    {
      "cell_type": "code",
      "metadata": {
        "colab": {
          "base_uri": "https://localhost:8080/"
        },
        "id": "LD9QBW_Rfl4Z",
        "outputId": "61f3f8af-cefb-4da8-c117-50c088ac647f"
      },
      "source": [
        "len(df)"
      ],
      "execution_count": null,
      "outputs": [
        {
          "output_type": "execute_result",
          "data": {
            "text/plain": [
              "12564"
            ]
          },
          "metadata": {
            "tags": []
          },
          "execution_count": 14
        }
      ]
    },
    {
      "cell_type": "markdown",
      "metadata": {
        "id": "HFAx_WlFQfip"
      },
      "source": [
        "## L2 sparse matrix"
      ]
    },
    {
      "cell_type": "code",
      "metadata": {
        "id": "q1VLlJatQbf_"
      },
      "source": [
        "with open('/content/drive/MyDrive/SAHA PROJECT - connectedpapers zip files/sparse_mat.csv','a') as f:\n",
        "  w = csv.writer(f)\n",
        "  # w.writerow(['parent','child','ref_int'])\n",
        "\n",
        "  for r in range(len(d)):\n",
        "    row = d[r]\n",
        "    for i in range(len(row)):\n",
        "      base = clean(row[i])\n",
        "      for j in range(len(dd[r][i])):\n",
        "        der = clean(dd[r][i][j])\n",
        "        ri = ddr[r][i][j]\n",
        "\n",
        "        w.writerow([base,der,ri,0])"
      ],
      "execution_count": null,
      "outputs": []
    },
    {
      "cell_type": "code",
      "metadata": {
        "colab": {
          "base_uri": "https://localhost:8080/"
        },
        "id": "VmZvZl-zRSam",
        "outputId": "876b5b60-e009-48ef-dc1d-a3a98ae69774"
      },
      "source": [
        "df = pd.read_csv('/content/drive/MyDrive/SAHA PROJECT - connectedpapers zip files/sparse_mat.csv')\n",
        "len(df)"
      ],
      "execution_count": null,
      "outputs": [
        {
          "output_type": "execute_result",
          "data": {
            "text/plain": [
              "90678"
            ]
          },
          "metadata": {
            "tags": []
          },
          "execution_count": 16
        }
      ]
    },
    {
      "cell_type": "code",
      "metadata": {
        "colab": {
          "base_uri": "https://localhost:8080/"
        },
        "id": "0FUK5JNbRWQW",
        "outputId": "86673d8a-3726-4326-e73e-15cc07e5d9c6"
      },
      "source": [
        "df = df[df['ref_int']!=-1]\n",
        "len(df)"
      ],
      "execution_count": null,
      "outputs": [
        {
          "output_type": "execute_result",
          "data": {
            "text/plain": [
              "85410"
            ]
          },
          "metadata": {
            "tags": []
          },
          "execution_count": 17
        }
      ]
    },
    {
      "cell_type": "code",
      "metadata": {
        "id": "Qt9XgXnYRsWQ"
      },
      "source": [
        "df.to_csv('/content/drive/MyDrive/SAHA PROJECT - connectedpapers zip files/sparse_mat.csv',index=False)"
      ],
      "execution_count": null,
      "outputs": []
    },
    {
      "cell_type": "code",
      "metadata": {
        "colab": {
          "base_uri": "https://localhost:8080/"
        },
        "id": "i1pklNRUR5jU",
        "outputId": "78999753-c521-478a-e26b-ad1850049138"
      },
      "source": [
        "len(set(b))"
      ],
      "execution_count": null,
      "outputs": [
        {
          "output_type": "execute_result",
          "data": {
            "text/plain": [
              "1258"
            ]
          },
          "metadata": {
            "tags": []
          },
          "execution_count": 20
        }
      ]
    },
    {
      "cell_type": "code",
      "metadata": {
        "id": "d1PZfeK9izoo"
      },
      "source": [
        "ds = set([clean(x) for y in d for x in y])"
      ],
      "execution_count": null,
      "outputs": []
    },
    {
      "cell_type": "code",
      "metadata": {
        "colab": {
          "base_uri": "https://localhost:8080/"
        },
        "id": "TtqYidlVi8XM",
        "outputId": "338a9cdd-b639-4a9e-a07b-9a092bb6e1af"
      },
      "source": [
        "dds = [x for y in dd for x in y]\n",
        "dds = [clean(x) for y in dds for x in y]\n",
        "dds = set(dds)\n",
        "len(dds)"
      ],
      "execution_count": null,
      "outputs": [
        {
          "output_type": "execute_result",
          "data": {
            "text/plain": [
              "32920"
            ]
          },
          "metadata": {
            "tags": []
          },
          "execution_count": 9
        }
      ]
    },
    {
      "cell_type": "code",
      "metadata": {
        "colab": {
          "base_uri": "https://localhost:8080/"
        },
        "id": "B8rkAK4ujL1t",
        "outputId": "06e791b4-7181-4fd1-a349-3fdea1645e2d"
      },
      "source": [
        "1258+12183+32920"
      ],
      "execution_count": null,
      "outputs": [
        {
          "output_type": "execute_result",
          "data": {
            "text/plain": [
              "46361"
            ]
          },
          "metadata": {
            "tags": []
          },
          "execution_count": 24
        }
      ]
    },
    {
      "cell_type": "code",
      "metadata": {
        "colab": {
          "base_uri": "https://localhost:8080/"
        },
        "id": "hfeXeMlRjO7e",
        "outputId": "fb359c8c-a48d-4fd3-81c4-54474a6d8f8d"
      },
      "source": [
        "len(ds.union(dds))"
      ],
      "execution_count": null,
      "outputs": [
        {
          "output_type": "execute_result",
          "data": {
            "text/plain": [
              "39047"
            ]
          },
          "metadata": {
            "tags": []
          },
          "execution_count": 10
        }
      ]
    },
    {
      "cell_type": "code",
      "metadata": {
        "colab": {
          "base_uri": "https://localhost:8080/"
        },
        "id": "zNjMLEM3jXUT",
        "outputId": "6fdd9e62-53a8-406b-ae41-293962713aa9"
      },
      "source": [
        "p = set(df['parent'])\n",
        "c = set(df['child'])\n",
        "len(p.union(c))"
      ],
      "execution_count": null,
      "outputs": [
        {
          "output_type": "execute_result",
          "data": {
            "text/plain": [
              "40304"
            ]
          },
          "metadata": {
            "tags": []
          },
          "execution_count": 31
        }
      ]
    },
    {
      "cell_type": "code",
      "metadata": {
        "id": "LDjGvptCcuB2"
      },
      "source": [
        ""
      ],
      "execution_count": null,
      "outputs": []
    }
  ]
}
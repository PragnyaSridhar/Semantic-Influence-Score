{
  "nbformat": 4,
  "nbformat_minor": 0,
  "metadata": {
    "colab": {
      "name": "CN:filter_ders.ipynb",
      "provenance": []
    },
    "kernelspec": {
      "name": "python3",
      "display_name": "Python 3"
    }
  },
  "cells": [
    {
      "cell_type": "markdown",
      "metadata": {
        "id": "AT9yyZjgSgue"
      },
      "source": [
        "if intersection of refs of derworks > median put in above\n",
        "<br>\n",
        "use only above median dworks for getting the refs of ddworks"
      ]
    },
    {
      "cell_type": "code",
      "metadata": {
        "id": "z9yR1JqVpDgF"
      },
      "source": [
        "%matplotlib inline\n",
        "import pandas as pd\n",
        "import numpy as np\n",
        "import matplotlib.pyplot as plt\n",
        "import statistics"
      ],
      "execution_count": null,
      "outputs": []
    },
    {
      "cell_type": "code",
      "metadata": {
        "id": "xABCpBd5pIIq"
      },
      "source": [
        "def clean(name):\n",
        "  to_remove = ['-',',',':',';','.','?','(',')','/']\n",
        "  name = name.lower()\n",
        "  name = name.strip()\n",
        "\n",
        "  for char in to_remove:\n",
        "    name = name.replace(char,'')\n",
        "  name = name.replace('&','and')\n",
        "\n",
        "  return(name)\n",
        "\n",
        "def check_intersection2(t1,t2,thresh=0.8):\n",
        "  t1 = set(t1.split(' '))\n",
        "  t2 = set(t2.split(' '))\n",
        "\n",
        "  intersect = len(t1.intersection(t2))\n",
        "  if(intersect/len(t2))>=thresh and (intersect/len(t1))>=thresh:\n",
        "    return(1)\n",
        "  return(0)\n",
        "\n",
        "def check_nameInList(name,nameList):\n",
        "  for n in nameList:\n",
        "    if(len(name) in range(len(n)-2,len(n)+3) and check_intersection2(name,n)):\n",
        "      return(n)\n",
        "  return(0)"
      ],
      "execution_count": null,
      "outputs": []
    },
    {
      "cell_type": "code",
      "metadata": {
        "id": "jvtNLc64pQIx"
      },
      "source": [
        "def make_list(string):\n",
        "  # print(string)\n",
        "  if(isinstance(string,str)):\n",
        "    string = string.split(' #;# ')\n",
        "  else:\n",
        "    string = []\n",
        "  # string = [int(x) for x in string]\n",
        "  return(string)\n",
        "\n",
        "def base_refs(base_path):\n",
        "  df_base = pd.read_csv(base_path)\n",
        "\n",
        "  d = dict()\n",
        "  for index,rows in df_base.iterrows():\n",
        "    d[clean(rows['title s2orc'])] = make_list(rows['Ref IDs'])\n",
        "\n",
        "  return(d)\n",
        "\n",
        "def der_base_dict(base_path, der_path):\n",
        "  df_base = pd.read_csv(base_path)\n",
        "  df_der = pd.read_csv(der_path) \n",
        "  \n",
        "  base = list(df_base['title s2orc'])\n",
        "  base = [clean(x) for x in base]\n",
        "  base = set(base)\n",
        "\n",
        "  d = dict()\n",
        "  for index,rows in df_der.iterrows():\n",
        "    # der = rows['ID']\n",
        "    der = rows['ddId']\n",
        "\n",
        "    par = clean(rows['Parent'])\n",
        "\n",
        "    n = check_nameInList(par,base)\n",
        "    if (n!=0):\n",
        "      if (n in d.keys()):\n",
        "        d[n].append(der)\n",
        "      else:\n",
        "        d[n] = [der]\n",
        "\n",
        "  base_wo_ders = base - set(d.keys())\n",
        "  # print(base_wo_ders)\n",
        "  for b in base_wo_ders:\n",
        "    d[b] = []\n",
        "\n",
        "\n",
        "  return(d)\n",
        "\n",
        "\n",
        "def der_refs(der_path):\n",
        "  df_ref = pd.read_csv(der_path)\n",
        "\n",
        "  d = dict()\n",
        "  for index,rows in df_ref.iterrows():\n",
        "    # d[rows['ID']] = make_list(rows['Ref IDs'])\n",
        "    d[rows['ddId']] = make_list(rows['Ref IDs'])\n",
        "\n",
        "  return(d)\n",
        "\n",
        "def score(dref,bref):\n",
        "  # perc of papers cited by base that are cited by dref with respect to base\n",
        "  # print('%',dref)\n",
        "  dref = set(dref)\n",
        "  bref = set(bref)\n",
        "  # print(dref)\n",
        "  # print(bref)\n",
        "  intersect = bref.intersection(dref)\n",
        "  # return(len(intersect))\n",
        "  if(len(bref)==0):\n",
        "    return(0)\n",
        "  return(len(intersect)/len(bref))\n",
        "\n",
        "def get_base_edgewts(base_path,der_path):\n",
        "  der_dict = der_refs(der_path)\n",
        "  base_dict = base_refs(base_path)\n",
        "  der_base = der_base_dict(base_path,der_path)\n",
        "\n",
        "  wts = {}\n",
        "\n",
        "  for paper in list(base_dict.keys()):\n",
        "    ders = der_base[paper]\n",
        "    baserefs = base_dict[paper]\n",
        "\n",
        "    scores = []\n",
        "    for d in ders:\n",
        "      # if(d in der_dict.keys()):\n",
        "      derrefs = der_dict[d]\n",
        "      s = score(derrefs,baserefs)\n",
        "      scores.append(s)\n",
        "\n",
        "    scores = [str(x) for x in scores]\n",
        "    # wts.append(' #;# '.join(scores))\n",
        "    wts[paper] = ' #;# '.join(scores)\n",
        "\n",
        "  return(wts)\n",
        "\n",
        "def filter_der(base_path,der_path,thresh=0.5):\n",
        "  der_dict = der_refs(der_path)\n",
        "  base_dict = base_refs(base_path)\n",
        "  der_base = der_base_dict(base_path,der_path)\n",
        "\n",
        "  i=0\n",
        "  scores = []\n",
        "\n",
        "  new_ders = dict()\n",
        "\n",
        "  for paper in list(base_dict.keys()):\n",
        "    i+=1\n",
        "    ders = der_base[paper]\n",
        "    baserefs = base_dict[paper]\n",
        "    ders_filtered = []\n",
        "    for d in ders:\n",
        "      # if(d in der_dict.keys()):\n",
        "      derrefs = der_dict[d]\n",
        "      s = score(derrefs,baserefs)\n",
        "      if(not np.isnan(s)):\n",
        "        scores.append(s)\n",
        "        if (s>=thresh):\n",
        "          ders_filtered.append(d)\n",
        "    new_ders[paper] = ders_filtered\n",
        "\n",
        "  return(new_ders,scores)\n",
        "\n",
        "\n",
        "def filter_der_below(base_path,der_path,thresh=0.5):\n",
        "  der_dict = der_refs(der_path)\n",
        "  base_dict = base_refs(base_path)\n",
        "  der_base = der_base_dict(base_path,der_path)\n",
        "\n",
        "  i=0\n",
        "  scores = []\n",
        "\n",
        "  new_ders = dict()\n",
        "\n",
        "  for paper in list(base_dict.keys()):\n",
        "    i+=1\n",
        "    ders = der_base[paper]\n",
        "    baserefs = base_dict[paper]\n",
        "    ders_filtered = []\n",
        "    for d in ders:\n",
        "      # if(d in der_dict.keys()):\n",
        "      derrefs = der_dict[d]\n",
        "      s = score(derrefs,baserefs)\n",
        "      if(not np.isnan(s)):\n",
        "        scores.append(s)\n",
        "        if (s<thresh):\n",
        "          ders_filtered.append(d)\n",
        "    new_ders[paper] = ders_filtered\n",
        "\n",
        "  return(new_ders,scores)\n"
      ],
      "execution_count": null,
      "outputs": []
    },
    {
      "cell_type": "code",
      "metadata": {
        "id": "AtkBOCLYqYi_"
      },
      "source": [
        "def get_scoredist(pool,thresh=0.2):\n",
        "  base = '/content/drive/MyDrive/SAHA PROJECT - connectedpapers zip files/Derivative Works (Task 1)/References/baseRefs_Pool'+pool.upper()+'.csv'\n",
        "  der = '/content/drive/MyDrive/SAHA PROJECT - connectedpapers zip files/Derivative Works (Task 1)/References/derRefs_Pool'+pool.upper()+'.csv'\n",
        "  new_ders,scores = filter_der(base,der,thresh)\n",
        "  lens = [len(value) for key,value in new_ders.items()]\n",
        "  lens = scores\n",
        "  mean = sum(lens)/len(lens)\n",
        "  print('Mean: ',mean)\n",
        "  variance = [(x-mean)**2 for x in lens]\n",
        "  std_dev = (sum(variance)/len(lens))**0.5\n",
        "  print('Std Dev: ',std_dev)\n",
        "  median = statistics.median(scores)\n",
        "  print('Median: ',median)\n",
        "  print('\\nHistogram')\n",
        "  plt.hist(np.array(lens), bins=10, histtype ='bar')\n",
        "  plt.show()"
      ],
      "execution_count": null,
      "outputs": []
    },
    {
      "cell_type": "code",
      "metadata": {
        "colab": {
          "base_uri": "https://localhost:8080/",
          "height": 350
        },
        "id": "U_lsm_H_6llK",
        "outputId": "75c1c9dd-0a45-4c94-c6cc-825854ab497b"
      },
      "source": [
        "get_scoredist('A')"
      ],
      "execution_count": null,
      "outputs": [
        {
          "output_type": "stream",
          "text": [
            "Mean:  0.19750451293092644\n",
            "Std Dev:  0.16613115282181035\n",
            "Median:  0.16129032258064516\n",
            "\n",
            "Histogram\n"
          ],
          "name": "stdout"
        },
        {
          "output_type": "display_data",
          "data": {
            "image/png": "[encoded data removed]",
            "text/plain": [
              "<Figure size 432x288 with 1 Axes>"
            ]
          },
          "metadata": {
            "tags": [],
            "needs_background": "light"
          }
        }
      ]
    },
    {
      "cell_type": "code",
      "metadata": {
        "colab": {
          "base_uri": "https://localhost:8080/",
          "height": 350
        },
        "id": "vSrkiQ9o6qY9",
        "outputId": "5a53899e-8104-4dab-ac20-eb64b23dd1a4"
      },
      "source": [
        "get_scoredist('B')"
      ],
      "execution_count": null,
      "outputs": [
        {
          "output_type": "stream",
          "text": [
            "Mean:  0.17301451159085826\n",
            "Std Dev:  0.1606234772126844\n",
            "Median:  0.13333333333333333\n",
            "\n",
            "Histogram\n"
          ],
          "name": "stdout"
        },
        {
          "output_type": "display_data",
          "data": {
            "image/png": "[encoded data removed]",
            "text/plain": [
              "<Figure size 432x288 with 1 Axes>"
            ]
          },
          "metadata": {
            "tags": [],
            "needs_background": "light"
          }
        }
      ]
    },
    {
      "cell_type": "code",
      "metadata": {
        "colab": {
          "base_uri": "https://localhost:8080/",
          "height": 350
        },
        "id": "E76chtHB6svL",
        "outputId": "09a2b105-cf98-471b-90ef-a03e462e319f"
      },
      "source": [
        "get_scoredist('C')"
      ],
      "execution_count": null,
      "outputs": [
        {
          "output_type": "stream",
          "text": [
            "Mean:  0.19233862852039232\n",
            "Std Dev:  0.17126462443524285\n",
            "Median:  0.15\n",
            "\n",
            "Histogram\n"
          ],
          "name": "stdout"
        },
        {
          "output_type": "display_data",
          "data": {
            "image/png": "[encoded data removed]",
            "text/plain": [
              "<Figure size 432x288 with 1 Axes>"
            ]
          },
          "metadata": {
            "tags": [],
            "needs_background": "light"
          }
        }
      ]
    },
    {
      "cell_type": "code",
      "metadata": {
        "id": "hLYGUo0q6uoZ"
      },
      "source": [
        "def filter_dercount(pool,thresh=0.2):\n",
        "  fil_der_names = []\n",
        "  base = '/content/drive/MyDrive/SAHA PROJECT - connectedpapers zip files/Derivative Works (Task 1)/References/baseRefs_Pool'+pool.upper()+'.csv'\n",
        "  der = '/content/drive/MyDrive/SAHA PROJECT - connectedpapers zip files/Derivative Works (Task 1)/References/derRefs_Pool'+pool.upper()+'.csv'\n",
        "  new_ders,scores = filter_der_below(base,der,thresh)\n",
        "  lens = [len(value) for key,value in new_ders.items()]\n",
        "  for key,values in new_ders.items():\n",
        "    fil_der_names.extend(values)\n",
        "  mean = sum(lens)/len(lens)\n",
        "  print('Mean: ',mean)\n",
        "  variance = [(x-mean)**2 for x in lens]\n",
        "  std_dev = (sum(variance)/len(lens))**0.5\n",
        "  print('Std Dev: ',std_dev)\n",
        "  median = statistics.median(lens)\n",
        "  print('Median: ',median)\n",
        "  print('\\nHistogram')\n",
        "  plt.hist(np.array(lens), bins=10, histtype ='bar')\n",
        "  plt.show()\n",
        "  return(fil_der_names)"
      ],
      "execution_count": null,
      "outputs": []
    },
    {
      "cell_type": "code",
      "metadata": {
        "colab": {
          "base_uri": "https://localhost:8080/",
          "height": 350
        },
        "id": "N8_EM3-YrEWf",
        "outputId": "1385677b-0bcf-4ed8-f1db-189f56866830"
      },
      "source": [
        "fil_A = filter_dercount('A',0.16129032258064516)"
      ],
      "execution_count": null,
      "outputs": [
        {
          "output_type": "stream",
          "text": [
            "Mean:  3.4134615384615383\n",
            "Std Dev:  3.1800032385104404\n",
            "Median:  3.0\n",
            "\n",
            "Histogram\n"
          ],
          "name": "stdout"
        },
        {
          "output_type": "display_data",
          "data": {
            "image/png": "[encoded data removed]",
            "text/plain": [
              "<Figure size 432x288 with 1 Axes>"
            ]
          },
          "metadata": {
            "tags": [],
            "needs_background": "light"
          }
        }
      ]
    },
    {
      "cell_type": "code",
      "metadata": {
        "colab": {
          "base_uri": "https://localhost:8080/"
        },
        "id": "3waBF40-fIju",
        "outputId": "06645999-e1e6-41ea-85b2-be9a1d747333"
      },
      "source": [
        "len(fil_A)"
      ],
      "execution_count": null,
      "outputs": [
        {
          "output_type": "execute_result",
          "data": {
            "text/plain": [
              "6035"
            ]
          },
          "metadata": {
            "tags": []
          },
          "execution_count": 8
        }
      ]
    },
    {
      "cell_type": "code",
      "metadata": {
        "id": "KNB4uiizfltG"
      },
      "source": [
        "with open('/content/drive/MyDrive/SAHA PROJECT - connectedpapers zip files/Derivative works of derivative works (Task 1.5)/belowMed_derworks_A.txt','w+') as f:\n",
        "  for paper in fil_A:\n",
        "    f.write(paper+'\\n')"
      ],
      "execution_count": null,
      "outputs": []
    },
    {
      "cell_type": "code",
      "metadata": {
        "colab": {
          "base_uri": "https://localhost:8080/",
          "height": 352
        },
        "id": "_hcAWnfkrHLD",
        "outputId": "82451c66-a5f1-454b-8662-0dbb576e99f1"
      },
      "source": [
        "fil_B = filter_dercount('B',0.13333333333333333)"
      ],
      "execution_count": null,
      "outputs": [
        {
          "output_type": "stream",
          "text": [
            "Mean:  3.566852886405959\n",
            "Std Dev:  3.2642325465601134\n",
            "Median:  3\n",
            "\n",
            "Histogram\n"
          ],
          "name": "stdout"
        },
        {
          "output_type": "display_data",
          "data": {
            "image/png": "[encoded data removed]",
            "text/plain": [
              "<Figure size 432x288 with 1 Axes>"
            ]
          },
          "metadata": {
            "tags": [],
            "needs_background": "light"
          }
        }
      ]
    },
    {
      "cell_type": "code",
      "metadata": {
        "colab": {
          "base_uri": "https://localhost:8080/"
        },
        "id": "5U873sItffha",
        "outputId": "aa7ed54e-6c36-4d25-efa3-ee711a693782"
      },
      "source": [
        "len(fil_B)"
      ],
      "execution_count": null,
      "outputs": [
        {
          "output_type": "execute_result",
          "data": {
            "text/plain": [
              "9577"
            ]
          },
          "metadata": {
            "tags": []
          },
          "execution_count": 11
        }
      ]
    },
    {
      "cell_type": "code",
      "metadata": {
        "id": "Euq_v3z5f_wn"
      },
      "source": [
        "with open('/content/drive/MyDrive/SAHA PROJECT - connectedpapers zip files/Derivative works of derivative works (Task 1.5)/belowMed_derworks_B.txt','w+') as f:\n",
        "  for paper in fil_B:\n",
        "    f.write(paper+'\\n')"
      ],
      "execution_count": null,
      "outputs": []
    },
    {
      "cell_type": "code",
      "metadata": {
        "colab": {
          "base_uri": "https://localhost:8080/",
          "height": 350
        },
        "id": "83DAD4fmrJiT",
        "outputId": "9716856e-598c-4054-c12f-48f299884559"
      },
      "source": [
        "fil_C = filter_dercount('C',0.15)"
      ],
      "execution_count": null,
      "outputs": [
        {
          "output_type": "stream",
          "text": [
            "Mean:  4.029850746268656\n",
            "Std Dev:  3.448138076792867\n",
            "Median:  3\n",
            "\n",
            "Histogram\n"
          ],
          "name": "stdout"
        },
        {
          "output_type": "display_data",
          "data": {
            "image/png": "[encoded data removed]",
            "text/plain": [
              "<Figure size 432x288 with 1 Axes>"
            ]
          },
          "metadata": {
            "tags": [],
            "needs_background": "light"
          }
        }
      ]
    },
    {
      "cell_type": "code",
      "metadata": {
        "colab": {
          "base_uri": "https://localhost:8080/"
        },
        "id": "XUXuw_REfi3D",
        "outputId": "bc1f7f72-881b-4b08-a31e-dc82e3b56742"
      },
      "source": [
        "len(fil_C)"
      ],
      "execution_count": null,
      "outputs": [
        {
          "output_type": "execute_result",
          "data": {
            "text/plain": [
              "4050"
            ]
          },
          "metadata": {
            "tags": []
          },
          "execution_count": 14
        }
      ]
    },
    {
      "cell_type": "code",
      "metadata": {
        "id": "62QOD5JlgDI4"
      },
      "source": [
        "with open('/content/drive/MyDrive/SAHA PROJECT - connectedpapers zip files/Derivative works of derivative works (Task 1.5)/belowMed_derworks_C.txt','w+') as f:\n",
        "  for paper in fil_C:\n",
        "    f.write(paper+'\\n')"
      ],
      "execution_count": null,
      "outputs": []
    },
    {
      "cell_type": "markdown",
      "metadata": {
        "id": "BwnS0MINuM7m"
      },
      "source": [
        "### Results:\n",
        "<p> On average, about 2-3 derivative works of a paper cite more than 20% of the references of the base paper</p>\n",
        "<p> On average, 0 derivative works of a paper cite more than 50% of the references of the base paper</p>\n",
        "<hr>\n",
        "<p> On combining the references of all the derivative works of papers, there is 50% intersection. However individually, the derivative works papers cite about 15-17% of the references of the paper</p>\n",
        "<br>\n",
        "<hr>\n",
        "<p> Total 20060 deriavtive works to get derivative works of using download bib code</p>"
      ]
    },
    {
      "cell_type": "code",
      "metadata": {
        "id": "81hPMmVZt1LZ"
      },
      "source": [
        "def filter_der(base_path,der_path):\n",
        "  der_dict = der_refs(der_path)\n",
        "  base_dict = base_refs(base_path)\n",
        "  der_base = der_base_dict(base_path,der_path)\n",
        "\n",
        "  i=0\n",
        "  scores = dict()\n",
        "\n",
        "  # new_ders = dict()\n",
        "\n",
        "  for paper in list(base_dict.keys()):\n",
        "    scores[paper] = []\n",
        "    i+=1\n",
        "    ders = der_base[paper]\n",
        "    baserefs = base_dict[paper]\n",
        "    # ders_filtered = []\n",
        "    for d in ders:\n",
        "      # if(d in der_dict.keys()):\n",
        "      derrefs = der_dict[d]\n",
        "      s = score(derrefs,baserefs)\n",
        "      scores[paper].append(s)\n",
        "      # if(not np.isnan(s)):\n",
        "      #   scores.append(s)\n",
        "      #   if (s>=thresh):\n",
        "      #     ders_filtered.append(d)\n",
        "    # new_ders[paper] = ders_filtered\n",
        "\n",
        "  return(scores)"
      ],
      "execution_count": null,
      "outputs": []
    },
    {
      "cell_type": "code",
      "metadata": {
        "id": "QdX703eNpr8r"
      },
      "source": [
        "pool = 'C'\n",
        "base = '/content/drive/MyDrive/SAHA PROJECT - connectedpapers zip files/Derivative Works (Task 1)/References/baseRefs_Pool'+pool.upper()+'.csv'\n",
        "der = '/content/drive/MyDrive/SAHA PROJECT - connectedpapers zip files/Derivative Works (Task 1)/References/derRefs_Pool'+pool.upper()+'.csv'\n",
        "scores = filter_der(base,der)"
      ],
      "execution_count": null,
      "outputs": []
    },
    {
      "cell_type": "code",
      "metadata": {
        "colab": {
          "base_uri": "https://localhost:8080/"
        },
        "id": "FtiOvT1EqY2F",
        "outputId": "8ba87b04-38de-44f2-d352-e2779d4207b6"
      },
      "source": [
        "names = scores.keys()\n",
        "ref = scores.values()\n",
        "\n",
        "df = pd.DataFrame({'names':names,'ref':ref})\n",
        "len(df)"
      ],
      "execution_count": null,
      "outputs": [
        {
          "output_type": "execute_result",
          "data": {
            "text/plain": [
              "1005"
            ]
          },
          "metadata": {
            "tags": []
          },
          "execution_count": 28
        }
      ]
    },
    {
      "cell_type": "code",
      "metadata": {
        "id": "ktWhznaKq-76"
      },
      "source": [
        "df.to_csv('/content/drive/MyDrive/SAHA PROJECT - connectedpapers zip files/ref_int(b_d)_pool'+pool.upper()+'.csv',index=False)"
      ],
      "execution_count": null,
      "outputs": []
    },
    {
      "cell_type": "markdown",
      "metadata": {
        "id": "03A7NMOTD096"
      },
      "source": [
        "## Get edge weights"
      ]
    },
    {
      "cell_type": "code",
      "metadata": {
        "id": "d9V4YKUirj5P"
      },
      "source": [
        "def get_edgewts(pool):\n",
        "  base = '/content/drive/MyDrive/SAHA PROJECT - connectedpapers zip files/Derivative Works (Task 1)/References/baseRefs_Pool'+pool.upper()+'.csv'\n",
        "  der = '/content/drive/MyDrive/SAHA PROJECT - connectedpapers zip files/Derivative Works (Task 1)/References/derRefs_Pool'+pool.upper()+'.csv'\n",
        "\n",
        "  wts = get_base_edgewts(base,der)\n",
        "  \n",
        "  df = pd.DataFrame({'name':wts.keys(),'scores':wts.values()})\n",
        "  # df['wts'] = wts\n",
        "  df.to_csv('/content/drive/MyDrive/SAHA PROJECT - connectedpapers zip files/Derivative Works (Task 1)/References/pool'+pool.upper()+'_base_edgewts.csv',index=False)"
      ],
      "execution_count": null,
      "outputs": []
    },
    {
      "cell_type": "code",
      "metadata": {
        "id": "qaw4Z0FbEWli"
      },
      "source": [
        "get_edgewts('A')"
      ],
      "execution_count": null,
      "outputs": []
    },
    {
      "cell_type": "code",
      "metadata": {
        "id": "A1rIUVZqEinR"
      },
      "source": [
        "get_edgewts('B')"
      ],
      "execution_count": null,
      "outputs": []
    },
    {
      "cell_type": "code",
      "metadata": {
        "id": "Xwy0sROqGQuY"
      },
      "source": [
        "get_edgewts('C')"
      ],
      "execution_count": null,
      "outputs": []
    },
    {
      "cell_type": "code",
      "metadata": {
        "id": "zfSWTY14GRll"
      },
      "source": [
        "def get_edgewts(pool):\n",
        "  der_ab = '/content/drive/MyDrive/SAHA PROJECT - connectedpapers zip files/Derivative_works_of_derivative_works_Task1.5/ddWorks_refs/'+pool.upper()+'/above/ddRefs_Pool'+pool.upper()+'_above.csv'\n",
        "  der_be = '/content/drive/MyDrive/SAHA PROJECT - connectedpapers zip files/Derivative_works_of_derivative_works_Task1.5/ddWorks_refs/'+pool.upper()+'/below/ddRefs_Pool'+pool.upper()+'_below.csv'\n",
        "  \n",
        "  der_ab = pd.read_csv(der_ab)\n",
        "  der_be = pd.read_csv(der_be)\n",
        "\n",
        "  der = pd.concat([der_ab,der_be],ignore_index=True)\n",
        "  der.to_csv('temp.csv',index=False)\n",
        "\n",
        "  print(der.head())\n",
        "  \n",
        "  der = 'temp.csv'\n",
        "  base = '/content/drive/MyDrive/SAHA PROJECT - connectedpapers zip files/Derivative Works (Task 1)/References/derRefs_Pool'+pool.upper()+'.csv'\n",
        "\n",
        "  wts = get_base_edgewts(base,der)\n",
        "  \n",
        "  df = pd.DataFrame({'name':wts.keys(),'scores':wts.values()})\n",
        "  # df['wts'] = wts\n",
        "  df.to_csv('/content/drive/MyDrive/SAHA PROJECT - connectedpapers zip files/Derivative Works (Task 1)/References/pool'+pool.upper()+'_der_edgewts.csv',index=False)"
      ],
      "execution_count": null,
      "outputs": []
    },
    {
      "cell_type": "code",
      "metadata": {
        "id": "NgUVUr8JIbVO"
      },
      "source": [
        "get_edgewts('A')"
      ],
      "execution_count": null,
      "outputs": []
    },
    {
      "cell_type": "code",
      "metadata": {
        "colab": {
          "base_uri": "https://localhost:8080/",
          "height": 552
        },
        "id": "9PqzsR1HIebO",
        "outputId": "18c12b10-f7d7-4438-c06d-9522b10d4cf6"
      },
      "source": [
        "df = pd.read_csv('/content/drive/MyDrive/SAHA PROJECT - connectedpapers zip files/Derivative_works_of_derivative_works_Task1.5/ddWorks_refs/A/above/ddRefs_PoolA_above.csv')\n",
        "df.head()"
      ],
      "execution_count": null,
      "outputs": [
        {
          "output_type": "execute_result",
          "data": {
            "text/html": [
              "<div>\n",
              "<style scoped>\n",
              "    .dataframe tbody tr th:only-of-type {\n",
              "        vertical-align: middle;\n",
              "    }\n",
              "\n",
              "    .dataframe tbody tr th {\n",
              "        vertical-align: top;\n",
              "    }\n",
              "\n",
              "    .dataframe thead th {\n",
              "        text-align: right;\n",
              "    }\n",
              "</style>\n",
              "<table border=\"1\" class=\"dataframe\">\n",
              "  <thead>\n",
              "    <tr style=\"text-align: right;\">\n",
              "      <th></th>\n",
              "      <th>ddName</th>\n",
              "      <th>ddId</th>\n",
              "      <th>Ref IDs</th>\n",
              "      <th>Ref Names</th>\n",
              "    </tr>\n",
              "  </thead>\n",
              "  <tbody>\n",
              "    <tr>\n",
              "      <th>0</th>\n",
              "      <td>An Update on Statistical Boosting in Biomedicine</td>\n",
              "      <td>b14623ee36097b99b04a2865dcf988085f38fea8</td>\n",
              "      <td>79c7d6903e12e1b45bb3f8bc6ca862fed92b06ea #;# c...</td>\n",
              "      <td>Estimating High-Dimensional Directed Acyclic G...</td>\n",
              "    </tr>\n",
              "    <tr>\n",
              "      <th>1</th>\n",
              "      <td>Significance Tests for Boosted Location and Sc...</td>\n",
              "      <td>1ae94b179b099fdba5b306d3941831c23cdaf108</td>\n",
              "      <td>906569bb9f527aa1f73f38526ada9abe666f2cf8 #;# 7...</td>\n",
              "      <td>Pairwise likelihood ratios for estimation of n...</td>\n",
              "    </tr>\n",
              "    <tr>\n",
              "      <th>2</th>\n",
              "      <td>Boosting for statistical modelling-A non-techn...</td>\n",
              "      <td>f426918080b3a91207b6c4b1a641a5198aa0c8b8</td>\n",
              "      <td>0d86fbca1fbdb7c8e5a10c2d2c5a0ff3e07eea15 #;# a...</td>\n",
              "      <td>A Kernel Statistical Test of Independence #;# ...</td>\n",
              "    </tr>\n",
              "    <tr>\n",
              "      <th>3</th>\n",
              "      <td>Boosting joint models for longitudinal and tim...</td>\n",
              "      <td>e774e704898d6292a03ee38e022872c52c6bf272</td>\n",
              "      <td>478e3b41718d8abcd7492a0dd4d18ae63e6709ab #;# 7...</td>\n",
              "      <td>A Linear Non-Gaussian Acyclic Model for Causal...</td>\n",
              "    </tr>\n",
              "    <tr>\n",
              "      <th>4</th>\n",
              "      <td>Boosting functional regression models</td>\n",
              "      <td>9d2aa689305a0fb4230af70c7e05fdcb030aa182</td>\n",
              "      <td>9773ad3ab86b7f8205ff0774bef6fabeeb417075 #;# f...</td>\n",
              "      <td>Computing the Multinomial Stochastic Complexit...</td>\n",
              "    </tr>\n",
              "  </tbody>\n",
              "</table>\n",
              "</div>"
            ],
            "text/plain": [
              "                                              ddName  ...                                          Ref Names\n",
              "0   An Update on Statistical Boosting in Biomedicine  ...  Estimating High-Dimensional Directed Acyclic G...\n",
              "1  Significance Tests for Boosted Location and Sc...  ...  Pairwise likelihood ratios for estimation of n...\n",
              "2  Boosting for statistical modelling-A non-techn...  ...  A Kernel Statistical Test of Independence #;# ...\n",
              "3  Boosting joint models for longitudinal and tim...  ...  A Linear Non-Gaussian Acyclic Model for Causal...\n",
              "4              Boosting functional regression models  ...  Computing the Multinomial Stochastic Complexit...\n",
              "\n",
              "[5 rows x 4 columns]"
            ]
          },
          "metadata": {
            "tags": []
          },
          "execution_count": 23
        }
      ]
    },
    {
      "cell_type": "code",
      "metadata": {
        "colab": {
          "base_uri": "https://localhost:8080/",
          "height": 519
        },
        "id": "0EmqJAj3JB1l",
        "outputId": "9f98385b-a8ca-4f0a-86a5-c87106dfff0b"
      },
      "source": [
        "df = pd.read_csv('/content/drive/MyDrive/SAHA PROJECT - connectedpapers zip files/Derivative Works (Task 1)/References/derRefs_PoolC.csv')\n",
        "df.head()"
      ],
      "execution_count": null,
      "outputs": [
        {
          "output_type": "execute_result",
          "data": {
            "text/html": [
              "<div>\n",
              "<style scoped>\n",
              "    .dataframe tbody tr th:only-of-type {\n",
              "        vertical-align: middle;\n",
              "    }\n",
              "\n",
              "    .dataframe tbody tr th {\n",
              "        vertical-align: top;\n",
              "    }\n",
              "\n",
              "    .dataframe thead th {\n",
              "        text-align: right;\n",
              "    }\n",
              "</style>\n",
              "<table border=\"1\" class=\"dataframe\">\n",
              "  <thead>\n",
              "    <tr style=\"text-align: right;\">\n",
              "      <th></th>\n",
              "      <th>ID</th>\n",
              "      <th>Name</th>\n",
              "      <th>Parent</th>\n",
              "      <th>Ref IDs</th>\n",
              "      <th>Ref Names</th>\n",
              "    </tr>\n",
              "  </thead>\n",
              "  <tbody>\n",
              "    <tr>\n",
              "      <th>0</th>\n",
              "      <td>3267276d0bff217e9a3d6b1b107d063c2e2f39dc</td>\n",
              "      <td>Role of CaMKII and the GluN2B subunit of the N...</td>\n",
              "      <td>Dopaminedependent plasticity of corticostriata...</td>\n",
              "      <td>f1c159ae0ff82ad097d179c14612c2bd17647e65 #;# 4...</td>\n",
              "      <td>Inhibition of voltage-gated Ca2+ channels and ...</td>\n",
              "    </tr>\n",
              "    <tr>\n",
              "      <th>1</th>\n",
              "      <td>8247e7fad552649d1e7165366a13f12bdb9f643b</td>\n",
              "      <td>Transmission et plasticité activité-dépendant...</td>\n",
              "      <td>Dopaminedependent plasticity of corticostriata...</td>\n",
              "      <td>46638846cac171bfa7a787f6cfe27a6385ac0c95 #;# f...</td>\n",
              "      <td>Cortical Slow Oscillatory Activity Is Reflecte...</td>\n",
              "    </tr>\n",
              "    <tr>\n",
              "      <th>2</th>\n",
              "      <td>2a9f29979701340a64bad9ccb60fd33108333e29</td>\n",
              "      <td>Synaptic plasticity in the basal ganglia</td>\n",
              "      <td>Dopaminedependent plasticity of corticostriata...</td>\n",
              "      <td>cb0c11f3015507af6cad34aaa4905f8eacf7027e #;# 2...</td>\n",
              "      <td>Neuronal activity in monkey ventral striatum r...</td>\n",
              "    </tr>\n",
              "    <tr>\n",
              "      <th>3</th>\n",
              "      <td>47bedbee48d649fa2a978340805b25bdee32855a</td>\n",
              "      <td>Synaptic plasticity in the basal ganglia: A s...</td>\n",
              "      <td>Dopaminedependent plasticity of corticostriata...</td>\n",
              "      <td>2f373b9574ff6a90e5b3cec3c78dc29e283395c5 #;# 6...</td>\n",
              "      <td>An experimental test of the role of postsynapt...</td>\n",
              "    </tr>\n",
              "    <tr>\n",
              "      <th>4</th>\n",
              "      <td>a3e1cb8e3a30e1f39e7a06bd3442d8771549ee1c</td>\n",
              "      <td>Synaptic Triad in the Neostriatum: Dopamine, ...</td>\n",
              "      <td>Dopaminedependent plasticity of corticostriata...</td>\n",
              "      <td>2d1914856b6cfb4065b2aa27240b36a0c0f44ae4 #;# c...</td>\n",
              "      <td>Postsynaptic endocannabinoid release is critic...</td>\n",
              "    </tr>\n",
              "  </tbody>\n",
              "</table>\n",
              "</div>"
            ],
            "text/plain": [
              "                                           ID  ...                                          Ref Names\n",
              "0   3267276d0bff217e9a3d6b1b107d063c2e2f39dc   ...  Inhibition of voltage-gated Ca2+ channels and ...\n",
              "1   8247e7fad552649d1e7165366a13f12bdb9f643b   ...  Cortical Slow Oscillatory Activity Is Reflecte...\n",
              "2   2a9f29979701340a64bad9ccb60fd33108333e29   ...  Neuronal activity in monkey ventral striatum r...\n",
              "3   47bedbee48d649fa2a978340805b25bdee32855a   ...  An experimental test of the role of postsynapt...\n",
              "4   a3e1cb8e3a30e1f39e7a06bd3442d8771549ee1c   ...  Postsynaptic endocannabinoid release is critic...\n",
              "\n",
              "[5 rows x 5 columns]"
            ]
          },
          "metadata": {
            "tags": []
          },
          "execution_count": 24
        }
      ]
    },
    {
      "cell_type": "code",
      "metadata": {
        "id": "geWPjnT2JqNI"
      },
      "source": [
        ""
      ],
      "execution_count": null,
      "outputs": []
    }
  ]
}
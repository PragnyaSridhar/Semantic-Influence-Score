{
  "nbformat": 4,
  "nbformat_minor": 0,
  "metadata": {
    "kernelspec": {
      "display_name": "Python 3",
      "language": "python",
      "name": "python3"
    },
    "language_info": {
      "codemirror_mode": {
        "name": "ipython",
        "version": 3
      },
      "file_extension": ".py",
      "mimetype": "text/x-python",
      "name": "python",
      "nbconvert_exporter": "python",
      "pygments_lexer": "ipython3",
      "version": "3.7.1"
    },
    "colab": {
      "name": "Similarity Measure.ipynb",
      "provenance": []
    }
  },
  "cells": [
    {
      "cell_type": "code",
      "metadata": {
        "id": "hv9lCUTEgZ5h"
      },
      "source": [
        "# Import Standard Libraries\n",
        "\n",
        "import csv\n",
        "import pandas as pd\n",
        "import numpy as np\n",
        "\n",
        "from scipy.sparse import coo_matrix\n"
      ],
      "execution_count": null,
      "outputs": []
    },
    {
      "cell_type": "code",
      "metadata": {
        "colab": {
          "base_uri": "https://localhost:8080/"
        },
        "id": "h0PII7r3hdpG",
        "outputId": "4d297f55-d214-4662-f648-569a441103ac"
      },
      "source": [
        "from google.colab import drive\n",
        "drive.mount('/content/drive')"
      ],
      "execution_count": null,
      "outputs": [
        {
          "output_type": "stream",
          "text": [
            "Mounted at /content/drive\n"
          ],
          "name": "stdout"
        }
      ]
    },
    {
      "cell_type": "code",
      "metadata": {
        "id": "cb-BHo04gZ5s"
      },
      "source": [
        "# Read the raw data and preliminary checks\n",
        "\n",
        "df = pd.read_csv('/content/drive/MyDrive/SAHA PROJECT - connectedpapers zip files/SimilarityCodes/1.RawData/sparse_mat.csv')\n",
        "source = np.array(df.parent)\n",
        "dest = np.array(df.child)\n",
        "wt = np.array(df.ref_int)\n",
        "is_base = np.array(df.base_flag)\n",
        "\n",
        "\n",
        "# print(type(source))\n",
        "# print(source[:15])\n",
        "# print(dest[:15])\n",
        "# print(wt[:15])\n",
        "# print(is_base[:15])\n",
        "\n",
        "# print(dest[0:3])\n",
        "\n",
        "# print(dest[0])\n",
        "# print(dest[1][0:2])\n",
        "# print(dest[0][-2:])\n",
        "\n"
      ],
      "execution_count": null,
      "outputs": []
    },
    {
      "cell_type": "code",
      "metadata": {
        "colab": {
          "base_uri": "https://localhost:8080/"
        },
        "id": "ssGgfduzgZ5t",
        "outputId": "0fb4f890-28d5-45e4-b10a-c846c9cbf2a1"
      },
      "source": [
        "# Create mappings (both ways) for all the strings in the 'parent' and 'child' columns\n",
        "\n",
        "NodesWithDups = np.concatenate((source,dest), axis=0)\n",
        "AllNodes = np.unique(NodesWithDups)\n",
        "\n",
        "num_nodes = len(AllNodes)\n",
        "print(\"Number of distinct nodes:\", num_nodes)\n",
        "\n",
        "\n",
        "StringToNode = dict([(y,x) for x,y in enumerate(sorted(set(AllNodes)))])\n",
        "NodeToString = dict([(x,y) for x,y in enumerate(sorted(set(AllNodes)))])\n",
        "\n",
        "print(\"\\nChecking the mappings:\")\n",
        "\n",
        "print(StringToNode.get('000080c0dc8267f4b588d8c52c5157498e05f9de'))\n",
        "print(StringToNode.get('6904f4bcd9572918f8c618c38f0915f135322d9e'))\n",
        "print(StringToNode.get('c5e2d66939c2df6e4ef7f2bec4d9879e9b2151b2'))\n",
        "print(StringToNode.get('1'))\n",
        "\n",
        "print(NodeToString.get(0))\n",
        "print(NodeToString.get(16844))\n",
        "print(NodeToString.get(31306))\n",
        "print(NodeToString.get(2329))"
      ],
      "execution_count": null,
      "outputs": [
        {
          "output_type": "stream",
          "text": [
            "Number of distinct nodes: 40304\n",
            "\n",
            "Checking the mappings:\n",
            "0\n",
            "16844\n",
            "31306\n",
            "2329\n",
            "000080c0dc8267f4b588d8c52c5157498e05f9de\n",
            "6904f4bcd9572918f8c618c38f0915f135322d9e\n",
            "c5e2d66939c2df6e4ef7f2bec4d9879e9b2151b2\n",
            "1\n"
          ],
          "name": "stdout"
        }
      ]
    },
    {
      "cell_type": "code",
      "metadata": {
        "colab": {
          "base_uri": "https://localhost:8080/"
        },
        "id": "rvW4vvMggZ5v",
        "outputId": "472f21b7-abfb-49c5-f0a2-afc62ef9eb0e"
      },
      "source": [
        "# Some snippets\n",
        "\n",
        "rows = np.array(list([StringToNode[x] for x in source]))\n",
        "cols = np.array(list([StringToNode[x] for x in dest]))\n",
        "data = np.array(wt, dtype=np.float64)\n",
        "\n",
        "print(rows[:10])\n",
        "print(cols[:10])\n",
        "print(data[:10])"
      ],
      "execution_count": null,
      "outputs": [
        {
          "output_type": "stream",
          "text": [
            "[2329 2329 2329 2329 2329 2329 2329 2329 2329 2329]\n",
            "[39134 19586  8425 29791 10553 20528  2464 31306 36467 13377]\n",
            "[0.07692308 0.07692308 0.07692308 0.         0.07692308 0.15384615\n",
            " 0.         0.         0.         0.07692308]\n"
          ],
          "name": "stdout"
        }
      ]
    },
    {
      "cell_type": "code",
      "metadata": {
        "id": "I8jwYE4lgZ5w",
        "outputId": "be6a82c4-718d-4896-bc4c-65086cfcd694"
      },
      "source": [
        "# Compute the similarities between base articles and its `derivatives of derivatives'\n",
        "\n",
        "OneHopSim = coo_matrix((data, (rows, cols)), shape=(num_nodes, num_nodes))\n",
        "TwoHopSim = OneHopSim*OneHopSim\n",
        "Sims = OneHopSim + TwoHopSim\n",
        "\n",
        "# rows, columns and similarities of the final sparse similarity matrix\n",
        "row, col = Sims.nonzero()\n",
        "wt_new = Sims.data\n",
        "\n",
        "# obtaining string representation of nodes \n",
        "ancestor = np.array(list([NodeToString[x] for x in row]))\n",
        "descendant = np.array(list([NodeToString[x] for x in col]))\n",
        "similarity = np.array(wt_new, dtype=np.float64)\n",
        "\n",
        "print(ancestor[:5])\n",
        "print(descendant[:5])\n",
        "print(similarity[:5], \"\\n\")\n",
        "\n",
        "\n",
        "# Saving the final similarities\n",
        "Final = np.asarray([ancestor, descendant, similarity])\n",
        "# print(Final)\n",
        "\n",
        "FinalData = {'ancestor': ancestor, 'descendant': descendant, 'similarity': similarity}\n",
        "df = pd.DataFrame(FinalData)\n",
        "\n",
        "df.to_csv(\"../2.ProcessedData/Similarity.csv\")"
      ],
      "execution_count": null,
      "outputs": [
        {
          "output_type": "stream",
          "text": [
            "['000080c0dc8267f4b588d8c52c5157498e05f9de'\n",
            " '000080c0dc8267f4b588d8c52c5157498e05f9de'\n",
            " '000080c0dc8267f4b588d8c52c5157498e05f9de'\n",
            " '000080c0dc8267f4b588d8c52c5157498e05f9de'\n",
            " '000080c0dc8267f4b588d8c52c5157498e05f9de']\n",
            "['1678789a14ef705a40950d3cb1ce060c4fba8cdb'\n",
            " '174f4d775bbe08dc3e61164605292c6c09bce0d4'\n",
            " '3e7b41d1a042c293f68192b6d149228415387722'\n",
            " '9d799c24bd6a0489c77fa4a1299baae79b8e21d8'\n",
            " 'bf302b7a3c1ad43a4bc8e4d19724fc6b150b75d9']\n",
            "[0.07220666 0.06169203 0.01398755 0.01131928 0.03479144] \n",
            "\n"
          ],
          "name": "stdout"
        }
      ]
    },
    {
      "cell_type": "code",
      "metadata": {
        "id": "P-Ryb2J-gZ5w",
        "outputId": "7297ea2d-fe1c-4a3e-dea5-58fec2977cd8"
      },
      "source": [
        "# Sanity check\n",
        "\n",
        "# libraries\n",
        "import csv\n",
        "import pandas as pd\n",
        "import numpy as np\n",
        "\n",
        "from scipy.sparse import coo_matrix\n",
        "\n",
        "\n",
        "# dummy string-node mapping\n",
        "StringToNode = {'zero': 0, 'one': 1,'two': 2, 'three': 3, 'four': 4}\n",
        "NodeToString = {0:'zero', 1: 'one', 2: 'two', 3: 'three', 4: 'four'}\n",
        "\n",
        "# dummy data\n",
        "source = np.array(['zero', 'one','two', 'three'])\n",
        "dest = np.array(['one','two', 'three', 'four'])\n",
        "wt = np.array([1., 2., 3., 4.], dtype=np.float64)\n",
        "num_nodes = 5\n",
        "\n",
        "# create sparse matrices for computation\n",
        "rows = np.array(list([StringToNode[x] for x in source]))\n",
        "cols = np.array(list([StringToNode[x] for x in dest]))\n",
        "data = np.array(wt, dtype=np.float64)\n",
        "\n",
        "\n",
        "# similarity computations\n",
        "OneHopSim = coo_matrix((data, (rows, cols)), shape=(num_nodes, num_nodes))\n",
        "TwoHopSim = OneHopSim*OneHopSim\n",
        "Sims = OneHopSim + TwoHopSim\n",
        "\n",
        "# rows, columns and similarities of the final sparse similarity matrix\n",
        "row, col = Sims.nonzero()\n",
        "wt_new = Sims.data\n",
        "\n",
        "print(row)\n",
        "print(col)\n",
        "print(Sims.data,\"\\n\")\n",
        "print(Sims.toarray(),\"\\n\")\n",
        "\n",
        "\n",
        "# obtaining string representation of nodes \n",
        "ancestor = np.array(list([NodeToString[x] for x in row]))\n",
        "descendant = np.array(list([NodeToString[x] for x in col]))\n",
        "similarity = np.array(wt_new, dtype=np.float64)\n",
        "\n",
        "print(ancestor)\n",
        "print(descendant)\n",
        "print(similarity, \"\\n\")\n",
        "\n",
        "\n",
        "# Saving the final similarities\n",
        "Final = np.asarray([ancestor, descendant, similarity])\n",
        "print(Final,\"\\n\")\n",
        "\n",
        "FinalData = {'ancestor': ancestor, 'descendant': descendant, 'similarity': similarity}\n",
        "df = pd.DataFrame(FinalData)\n",
        "print(df)\n",
        "\n",
        "df.to_csv(\"../2.ProcessedData/Similarity_dummy.csv\")"
      ],
      "execution_count": null,
      "outputs": [
        {
          "output_type": "stream",
          "text": [
            "[0 0 1 1 2 2 3]\n",
            "[1 2 2 3 3 4 4]\n",
            "[ 1.  2.  2.  6.  3. 12.  4.] \n",
            "\n",
            "[[ 0.  1.  2.  0.  0.]\n",
            " [ 0.  0.  2.  6.  0.]\n",
            " [ 0.  0.  0.  3. 12.]\n",
            " [ 0.  0.  0.  0.  4.]\n",
            " [ 0.  0.  0.  0.  0.]] \n",
            "\n",
            "['zero' 'zero' 'one' 'one' 'two' 'two' 'three']\n",
            "['one' 'two' 'two' 'three' 'three' 'four' 'four']\n",
            "[ 1.  2.  2.  6.  3. 12.  4.] \n",
            "\n",
            "[['zero' 'zero' 'one' 'one' 'two' 'two' 'three']\n",
            " ['one' 'two' 'two' 'three' 'three' 'four' 'four']\n",
            " ['1.0' '2.0' '2.0' '6.0' '3.0' '12.0' '4.0']] \n",
            "\n",
            "  ancestor descendant  similarity\n",
            "0     zero        one         1.0\n",
            "1     zero        two         2.0\n",
            "2      one        two         2.0\n",
            "3      one      three         6.0\n",
            "4      two      three         3.0\n",
            "5      two       four        12.0\n",
            "6    three       four         4.0\n"
          ],
          "name": "stdout"
        }
      ]
    }
  ]
}
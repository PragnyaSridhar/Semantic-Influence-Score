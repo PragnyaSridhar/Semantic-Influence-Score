{
  "nbformat": 4,
  "nbformat_minor": 0,
  "metadata": {
    "colab": {
      "name": "CN:similarity_score_onedataset.ipynb",
      "provenance": []
    },
    "kernelspec": {
      "name": "python3",
      "display_name": "Python 3"
    },
    "language_info": {
      "name": "python"
    }
  },
  "cells": [
    {
      "cell_type": "code",
      "metadata": {
        "id": "q9yMROztZXaa"
      },
      "source": [
        "import pandas as pd"
      ],
      "execution_count": null,
      "outputs": []
    },
    {
      "cell_type": "markdown",
      "metadata": {
        "id": "jh91tOtrarLF"
      },
      "source": [
        "## Make dictionary from similarity.csv"
      ]
    },
    {
      "cell_type": "code",
      "metadata": {
        "colab": {
          "base_uri": "https://localhost:8080/"
        },
        "id": "2ICcBVXYZdh_",
        "outputId": "3ed77260-0e60-4b97-cbd6-0ba5b41407fb"
      },
      "source": [
        "df = pd.read_csv('/content/drive/MyDrive/SAHA PROJECT - connectedpapers zip files/SimilarityCodes/2.ProcessedData/Similarity.csv')\n",
        "df.columns"
      ],
      "execution_count": null,
      "outputs": [
        {
          "output_type": "execute_result",
          "data": {
            "text/plain": [
              "Index(['Unnamed: 0', 'ancestor', 'descendant', 'similarity'], dtype='object')"
            ]
          },
          "metadata": {
            "tags": []
          },
          "execution_count": 2
        }
      ]
    },
    {
      "cell_type": "code",
      "metadata": {
        "id": "Y4lX-NGradmL"
      },
      "source": [
        "def clean(s):\n",
        "  s = s.strip()\n",
        "  s = s.replace('\\n','')\n",
        "  s = s.replace(\"'\",'')\n",
        "\n",
        "  return(s)"
      ],
      "execution_count": null,
      "outputs": []
    },
    {
      "cell_type": "code",
      "metadata": {
        "id": "n3bPU8aNZpF3"
      },
      "source": [
        "sim_dict = dict()\n",
        "for index,row in df.iterrows():\n",
        "  sim_dict[(clean(row['ancestor']),clean(row['descendant']))] = row['similarity']"
      ],
      "execution_count": null,
      "outputs": []
    },
    {
      "cell_type": "markdown",
      "metadata": {
        "id": "4vulJ8vbavLx"
      },
      "source": [
        "## Use dict to fill rows of one_dataset_w_refint"
      ]
    },
    {
      "cell_type": "code",
      "metadata": {
        "colab": {
          "base_uri": "https://localhost:8080/"
        },
        "id": "voRBXWiQak3A",
        "outputId": "91289202-6e94-46c3-fc28-bcf015e5df95"
      },
      "source": [
        "df = pd.read_csv('/content/drive/MyDrive/SAHA PROJECT - connectedpapers zip files/one_dataset_complete.csv')\n",
        "df.columns"
      ],
      "execution_count": null,
      "outputs": [
        {
          "output_type": "execute_result",
          "data": {
            "text/plain": [
              "Index(['Unnamed: 0', 'title', 'authors', 'n_citation', 'doi', 'url', 'pdf',\n",
              "       'conf', 'fos', 'year', 'pool', 'topic', 'labels', 'bib name', 'dIDs',\n",
              "       'ddIDs', 'kc len', 'ref int', 'semantic score', 'base heats',\n",
              "       'der heats', 'ref int d_dd', 'sim L1', 'sim L2', 'derofder heats'],\n",
              "      dtype='object')"
            ]
          },
          "metadata": {
            "tags": []
          },
          "execution_count": 5
        }
      ]
    },
    {
      "cell_type": "code",
      "metadata": {
        "colab": {
          "base_uri": "https://localhost:8080/"
        },
        "id": "-9zSx0fya6eT",
        "outputId": "e707d054-e9b9-48db-8b7f-adf71383fba7"
      },
      "source": [
        "sim1 = []\n",
        "count = []\n",
        "\n",
        "for index,row in df.iterrows():\n",
        "  # print(index)\n",
        "  B = row['Unnamed: 0']\n",
        "  D = row['dIDs'].split(' #;# ')\n",
        "  dr = row['ref int'].split(' #;# ')\n",
        "  D = [clean(x) for x in D]\n",
        "\n",
        "  # for i in range(len(D)):\n",
        "  #   print(D[i],dr[i])\n",
        "  # break\n",
        "  s = []\n",
        "\n",
        "  # print(D)\n",
        "  for d in D:\n",
        "    try:\n",
        "      s.append(sim_dict[(str(B),d)])\n",
        "    except:\n",
        "      s.append(0)\n",
        "      count.append((str(B),d))\n",
        "      # print()\n",
        "      # print(dr[D.index(d)])\n",
        "  s = [str(x) for x in s]\n",
        "  s = ' #;# '.join(s)\n",
        "  sim1.append(s)\n",
        "  # print(s)\n",
        "  # break\n",
        "\n",
        "print(len(sim1))"
      ],
      "execution_count": null,
      "outputs": [
        {
          "output_type": "stream",
          "text": [
            "1258\n"
          ],
          "name": "stdout"
        }
      ]
    },
    {
      "cell_type": "code",
      "metadata": {
        "colab": {
          "base_uri": "https://localhost:8080/",
          "height": 91
        },
        "id": "VLpAkKD2ITRE",
        "outputId": "7f49bdbb-a642-4b9d-dd01-e78ce764ae61"
      },
      "source": [
        "sim1[0]"
      ],
      "execution_count": null,
      "outputs": [
        {
          "output_type": "execute_result",
          "data": {
            "application/vnd.google.colaboratory.intrinsic+json": {
              "type": "string"
            },
            "text/plain": [
              "'0.2396449704142012 #;# 0.138763197586727 #;# 0.3136094674556213 #;# 0.31135531135531136 #;# 0.07692307692307693 #;# 0.16534867002156722 #;# 0.0450281425891182 #;# 0 #;# 0.016483516483516484 #;# 0.10256410256410256'"
            ]
          },
          "metadata": {
            "tags": []
          },
          "execution_count": 7
        }
      ]
    },
    {
      "cell_type": "code",
      "metadata": {
        "colab": {
          "base_uri": "https://localhost:8080/"
        },
        "id": "P7ArBFSlbmi2",
        "outputId": "799e405d-76fc-4b81-ebbf-77cb7a25e779"
      },
      "source": [
        "len(count)"
      ],
      "execution_count": null,
      "outputs": [
        {
          "output_type": "execute_result",
          "data": {
            "text/plain": [
              "1448"
            ]
          },
          "metadata": {
            "tags": []
          },
          "execution_count": 8
        }
      ]
    },
    {
      "cell_type": "code",
      "metadata": {
        "colab": {
          "base_uri": "https://localhost:8080/"
        },
        "id": "m7KxpL5jrQ6W",
        "outputId": "913b2c1a-078b-44b6-fd7e-b29a98482714"
      },
      "source": [
        "count[:10]"
      ],
      "execution_count": null,
      "outputs": [
        {
          "output_type": "execute_result",
          "data": {
            "text/plain": [
              "[('1', 'c5e2d66939c2df6e4ef7f2bec4d9879e9b2151b2'),\n",
              " ('11', 'cd3dbda1f969b7f80c44c7ef0ca054f866c18e58'),\n",
              " ('11', 'b59d6a8f4acaa63d773356fe320368b9f76a15cf'),\n",
              " ('11', '5b6239bc21fa9aabfba93f4d7677dc23aa8e5661'),\n",
              " ('11', 'f6db6933cc84a040f1a77cae6159c841b876dd41'),\n",
              " ('18', 'cff1bd09a19af3ccf6c2d461e9ee04ec54a663f7'),\n",
              " ('19', 'b8c9653a52d17f5e3495b12ef43c5885a7139290'),\n",
              " ('19', 'efc9cebad0825c6776d90643902cfcf0eea5a555'),\n",
              " ('19', '31eee68aa21258e3c33a5b8a38833d378ef4934e'),\n",
              " ('31', 'ad49104d10f26524a2624723b23c0f6173fe5ea2')]"
            ]
          },
          "metadata": {
            "tags": []
          },
          "execution_count": 33
        }
      ]
    },
    {
      "cell_type": "code",
      "metadata": {
        "colab": {
          "base_uri": "https://localhost:8080/"
        },
        "id": "daY63o_urS0y",
        "outputId": "422fbc2c-0704-468c-de21-7079aaf5557e"
      },
      "source": [
        "len(sim_dict)"
      ],
      "execution_count": null,
      "outputs": [
        {
          "output_type": "execute_result",
          "data": {
            "text/plain": [
              "144486"
            ]
          },
          "metadata": {
            "tags": []
          },
          "execution_count": 22
        }
      ]
    },
    {
      "cell_type": "code",
      "metadata": {
        "id": "rWq02Q-0rZ6n"
      },
      "source": [
        "base_paps = set([x[0] for x in count])"
      ],
      "execution_count": null,
      "outputs": []
    },
    {
      "cell_type": "code",
      "metadata": {
        "colab": {
          "base_uri": "https://localhost:8080/"
        },
        "id": "vdxCTlf6rzOJ",
        "outputId": "6c20b2af-2ce9-4b5f-dd0c-07dc46356166"
      },
      "source": [
        "len(base_paps)"
      ],
      "execution_count": null,
      "outputs": [
        {
          "output_type": "execute_result",
          "data": {
            "text/plain": [
              "366"
            ]
          },
          "metadata": {
            "tags": []
          },
          "execution_count": 25
        }
      ]
    },
    {
      "cell_type": "code",
      "metadata": {
        "colab": {
          "base_uri": "https://localhost:8080/"
        },
        "id": "BchOlR5Kr4E_",
        "outputId": "3bd624bc-1c2c-4a13-82bd-edeeea34124a"
      },
      "source": [
        "print(base_paps)"
      ],
      "execution_count": null,
      "outputs": [
        {
          "output_type": "stream",
          "text": [
            "{'3975', '1239', '4527', '361', '1225', '1349', '2363', '1436', '1830', '1843', '2826', '962', '5078', '157', '1419', '652', '1234', '2358', '1024', '4337', '712', '691', '2557', '1583', '2739', '2899', '4828', '3769', '3249', '1327', '1483', '534', '5508', '5490', '2944', '2640', '3932', '3040', '1425', '2503', '1430', '2936', '3100', '2527', '1388', '2397', '41', '1956', '333', '1374', '4209', '316', '377', '988', '2842', '1380', '1805', '1825', '1774', '1025', '2076', '2746', '4309', '5334', '149', '2702', '1999', '4238', '730', '3994', '1489', '3496', '1567', '983', '549', '1879', '2086', '2696', '2277', '1272', '2109', '5183', '2621', '5596', '1647', '2179', '5201', '4082', '4653', '1929', '826', '3422', '5664', '841', '870', '2729', '3720', '496', '3954', '3161', '4233', '518', '3815', '1695', '5652', '1569', '2809', '1578', '3986', '971', '2699', '635', '4288', '1342', '3036', '3780', '3505', '749', '1004', '1446', '4342', '18', '2355', '5588', '5207', '5602', '1373', '1894', '3577', '2933', '2176', '2938', '4372', '2214', '11', '998', '4197', '336', '161', '2241', '4838', '2884', '1984', '3035', '3452', '3933', '2610', '3099', '5348', '3043', '1394', '2576', '2011', '1454', '934', '1401', '1899', '2748', '5357', '1524', '1369', '4464', '3038', '3907', '5335', '1800', '1092', '1', '731', '1384', '5585', '1744', '3598', '4021', '3124', '118', '5298', '1548', '1983', '451', '4502', '2335', '5633', '1237', '1118', '682', '1950', '3203', '2299', '4912', '3211', '3888', '1897', '1562', '4416', '1179', '5100', '2651', '4350', '2044', '3415', '4951', '4187', '3143', '348', '2570', '3803', '3273', '3470', '2417', '4253', '5272', '1305', '3993', '86', '3199', '4266', '32', '5514', '2475', '256', '2119', '711', '2013', '5684', '685', '2908', '1528', '2735', '3573', '1967', '4495', '399', '3777', '5459', '2975', '3050', '1089', '3628', '1812', '783', '4671', '3062', '3856', '4331', '2038', '1324', '4927', '1729', '1876', '93', '1620', '1613', '2244', '5550', '1360', '2037', '1042', '5464', '855', '4073', '2955', '19', '1301', '647', '1233', '3614', '5107', '5209', '2156', '332', '305', '2508', '2288', '779', '4212', '985', '2160', '2096', '5009', '813', '3291', '672', '2289', '4067', '3363', '2784', '5525', '4921', '1555', '5126', '492', '5440', '5413', '31', '3951', '5255', '3959', '1220', '5087', '194', '2769', '3506', '797', '3727', '1749', '1513', '3796', '2896', '812', '926', '2927', '4745', '2548', '2221', '3369', '1354', '3137', '3502', '3570', '1509', '5645', '5247', '3125', '1873', '2308', '4116', '5259', '4132', '1245', '2247', '5491', '2822', '4071', '251', '5086', '5397', '3876', '3616', '4436', '3306', '5350', '912', '1764', '4100', '5604', '814', '3667', '1484', '5108', '5000', '2167', '254', '344', '1783', '1604', '1135', '5023', '5375', '624', '5565', '3482', '2838', '1039', '1921', '613'}\n"
          ],
          "name": "stdout"
        }
      ]
    },
    {
      "cell_type": "code",
      "metadata": {
        "colab": {
          "base_uri": "https://localhost:8080/"
        },
        "id": "k_bi8zzYr76a",
        "outputId": "fbeecbe5-0c4e-45de-fd6a-0828f5aade23"
      },
      "source": [
        "type(sim_dict[('1', '3d98e9b725d92dc995e2e4d993bb2c5948e6a1e0')])"
      ],
      "execution_count": null,
      "outputs": [
        {
          "output_type": "execute_result",
          "data": {
            "text/plain": [
              "float"
            ]
          },
          "metadata": {
            "tags": []
          },
          "execution_count": 28
        }
      ]
    },
    {
      "cell_type": "code",
      "metadata": {
        "id": "-i207V99tJxS"
      },
      "source": [
        "sim2 = []\n",
        "count2 = []\n",
        "\n",
        "def clean_rowstr(l):\n",
        "  r = [clean(x) for x in l]\n",
        "  return(r)\n",
        "\n",
        "for index,row in df.iterrows():\n",
        "  # if index<2:\n",
        "  #   continue\n",
        "  D = row['dIDs'].split(' #;# ')\n",
        "  D = [clean(x) for x in D]\n",
        "  DD = row['ddIDs'].split(' #;# ')\n",
        "  DD = [x.split(' #$# ') for x in DD]\n",
        "  DD = [clean_rowstr(x) for x in DD]\n",
        "  # DD = [[clean(x) for x in y] for y in DD]\n",
        "  # print(DD)\n",
        "  # break\n",
        "  s = []\n",
        "\n",
        "  for i in range(len(D)):\n",
        "    d = D[i]\n",
        "    s1 = []\n",
        "    if(DD[i][0]==''):\n",
        "      # print('inside')\n",
        "      s1.append(0)\n",
        "      # print(s1)\n",
        "    else:\n",
        "      for j in range(len(DD[i])):\n",
        "        dd = DD[i][j]\n",
        "        try:\n",
        "          s1.append(sim_dict[(d,dd)])\n",
        "        except:\n",
        "          s1.append(0)\n",
        "          count.append((d,dd))\n",
        "    # print(s1)\n",
        "    s1 = [str(x) for x in s1]\n",
        "   \n",
        "    s1 = ' #$# '.join(s1)\n",
        "    s.append(s1)\n",
        "    # break\n",
        "  s = ' #;# '.join(s)\n",
        "  sim2.append(s)\n",
        "  # break\n",
        "# print(len(sim2))"
      ],
      "execution_count": null,
      "outputs": []
    },
    {
      "cell_type": "code",
      "metadata": {
        "id": "L27UtJRtCr1j"
      },
      "source": [
        "df['sim L1'] = sim1\n",
        "df['sim L2'] = sim2"
      ],
      "execution_count": null,
      "outputs": []
    },
    {
      "cell_type": "code",
      "metadata": {
        "id": "hUWME3ezHhc3"
      },
      "source": [
        "df.to_csv('/content/drive/MyDrive/SAHA PROJECT - connectedpapers zip files/one_dataset_complete.csv',index=False)"
      ],
      "execution_count": null,
      "outputs": []
    },
    {
      "cell_type": "code",
      "metadata": {
        "id": "40yudUGBHiON"
      },
      "source": [
        ""
      ],
      "execution_count": null,
      "outputs": []
    }
  ]
}
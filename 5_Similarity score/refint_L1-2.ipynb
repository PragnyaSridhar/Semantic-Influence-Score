{
  "nbformat": 4,
  "nbformat_minor": 0,
  "metadata": {
    "colab": {
      "name": "CN:d_dd_refint.ipynb",
      "provenance": []
    },
    "kernelspec": {
      "name": "python3",
      "display_name": "Python 3"
    },
    "language_info": {
      "name": "python"
    }
  },
  "cells": [
    {
      "cell_type": "code",
      "metadata": {
        "id": "1kqD-uC8K434"
      },
      "source": [
        "import pandas as pd"
      ],
      "execution_count": null,
      "outputs": []
    },
    {
      "cell_type": "markdown",
      "metadata": {
        "id": "qApH_58YK-Jl"
      },
      "source": [
        "# Dict1\n",
        "dID:ref_d"
      ]
    },
    {
      "cell_type": "code",
      "metadata": {
        "id": "di6oJ73qK9Jf"
      },
      "source": [
        "path = '/content/drive/MyDrive/SAHA PROJECT - connectedpapers zip files/one_dataset_v2.csv'\n",
        "df = pd.read_csv(path)\n",
        "df.to_csv(path)"
      ],
      "execution_count": null,
      "outputs": []
    },
    {
      "cell_type": "code",
      "metadata": {
        "colab": {
          "base_uri": "https://localhost:8080/"
        },
        "id": "87Vdat5iHezP",
        "outputId": "c0f3e0b5-c15a-4db2-e20a-370b8d1c1570"
      },
      "source": [
        "df = pd.read_csv(path)\n",
        "\n",
        "df = df[df['semantic score']!=-1]\n",
        "df.columns"
      ],
      "execution_count": null,
      "outputs": [
        {
          "output_type": "execute_result",
          "data": {
            "text/plain": [
              "Index(['Unnamed: 0', 'title', 'authors', 'n_citation', 'doi', 'url', 'pdf',\n",
              "       'conf', 'fos', 'year', 'pool', 'topic', 'labels', 'bib name', 'dIDs',\n",
              "       'ddIDs', 'kc len', 'ref int', 'semantic score', 'base heats',\n",
              "       'der heats'],\n",
              "      dtype='object')"
            ]
          },
          "metadata": {
            "tags": []
          },
          "execution_count": 42
        }
      ]
    },
    {
      "cell_type": "code",
      "metadata": {
        "id": "V7KXzPaILz57"
      },
      "source": [
        "def make_list(string,spl = ' #;# '):\n",
        "  if(isinstance(string,str)):\n",
        "    string = string.split(spl)\n",
        "  else:\n",
        "    string = []\n",
        "  return(string)"
      ],
      "execution_count": null,
      "outputs": []
    },
    {
      "cell_type": "code",
      "metadata": {
        "colab": {
          "base_uri": "https://localhost:8080/"
        },
        "id": "ZyfbsjI7LfdQ",
        "outputId": "0501ab16-b3ff-4f0f-c697-20fb14828e41"
      },
      "source": [
        "dIDs = []\n",
        "\n",
        "for index,row in df.iterrows():\n",
        "  dIDs.extend(make_list(row['dIDs']))\n",
        "\n",
        "len(dIDs)"
      ],
      "execution_count": null,
      "outputs": [
        {
          "output_type": "execute_result",
          "data": {
            "text/plain": [
              "12564"
            ]
          },
          "metadata": {
            "tags": []
          },
          "execution_count": 43
        }
      ]
    },
    {
      "cell_type": "code",
      "metadata": {
        "id": "R5cb-aFkMY6x"
      },
      "source": [
        "a = '/content/drive/MyDrive/SAHA PROJECT - connectedpapers zip files/Derivative Works (Task 1)/References/derRefs_PoolA.csv'\n",
        "b = '/content/drive/MyDrive/SAHA PROJECT - connectedpapers zip files/Derivative Works (Task 1)/References/derRefs_PoolB.csv'\n",
        "c = '/content/drive/MyDrive/SAHA PROJECT - connectedpapers zip files/Derivative Works (Task 1)/References/derRefs_PoolC.csv'\n",
        "\n",
        "a = pd.read_csv(a)\n",
        "b = pd.read_csv(b)\n",
        "c = pd.read_csv(c)\n",
        "\n",
        "drefs = pd.concat([a,b,c],ignore_index=True)\n",
        "\n",
        "dref_dict = {}\n",
        "\n",
        "for index,row in drefs.iterrows():\n",
        "  dref_dict[row['ID'].strip()] = make_list(row['Ref IDs'])"
      ],
      "execution_count": null,
      "outputs": []
    },
    {
      "cell_type": "markdown",
      "metadata": {
        "id": "wroHWdRjM6-n"
      },
      "source": [
        "## Dict2:\n",
        "ddID: ref_dd"
      ]
    },
    {
      "cell_type": "code",
      "metadata": {
        "id": "YtUPaj90M6dQ"
      },
      "source": [
        "aa = '/content/drive/MyDrive/SAHA PROJECT - connectedpapers zip files/Derivative_works_of_derivative_works_Task1.5/ddWorks_refs/A/above/ddRefs_PoolA_above.csv'\n",
        "ab = '/content/drive/MyDrive/SAHA PROJECT - connectedpapers zip files/Derivative_works_of_derivative_works_Task1.5/ddWorks_refs/A/below/ddRefs_PoolA_below.csv'\n",
        "\n",
        "ba = '/content/drive/MyDrive/SAHA PROJECT - connectedpapers zip files/Derivative_works_of_derivative_works_Task1.5/ddWorks_refs/B/above/ddRefs_PoolB_above.csv'\n",
        "bb = '/content/drive/MyDrive/SAHA PROJECT - connectedpapers zip files/Derivative_works_of_derivative_works_Task1.5/ddWorks_refs/B/below/ddRefs_PoolB_below.csv'\n",
        "\n",
        "ca = '/content/drive/MyDrive/SAHA PROJECT - connectedpapers zip files/Derivative_works_of_derivative_works_Task1.5/ddWorks_refs/C/above/ddRefs_PoolC_above.csv'\n",
        "cb = '/content/drive/MyDrive/SAHA PROJECT - connectedpapers zip files/Derivative_works_of_derivative_works_Task1.5/ddWorks_refs/to_get_refs.csv'\n",
        "\n",
        "aa = pd.read_csv(aa)\n",
        "ab = pd.read_csv(ab)\n",
        "ba = pd.read_csv(ba)\n",
        "bb = pd.read_csv(bb)\n",
        "ca = pd.read_csv(ca)\n",
        "cb = pd.read_csv(cb)\n",
        "\n",
        "ddrefs = pd.concat([aa,ab,ba,bb,ca,cb],ignore_index=True)\n",
        "\n",
        "\n",
        "ddref_dict = {}\n",
        "\n",
        "for index,row in ddrefs.iterrows():\n",
        "  if(isinstance(row['ddId'],str)):\n",
        "    ddref_dict[row['ddId'].strip()] = make_list(row['Ref IDs'])\n"
      ],
      "execution_count": null,
      "outputs": []
    },
    {
      "cell_type": "markdown",
      "metadata": {
        "id": "gBzO5axtN7gL"
      },
      "source": [
        "## Dict 3:\n",
        "dID: ddID"
      ]
    },
    {
      "cell_type": "code",
      "metadata": {
        "colab": {
          "base_uri": "https://localhost:8080/"
        },
        "id": "CgDm9FMbN6x4",
        "outputId": "eafa34ca-e3c0-414f-8aa2-b2575e4015d1"
      },
      "source": [
        "path = '/content/drive/MyDrive/SAHA PROJECT - connectedpapers zip files/one_dataset_v2.csv'\n",
        "df = pd.read_csv(path)\n",
        "\n",
        "df = df[df['semantic score']!=-1]\n",
        "df.columns"
      ],
      "execution_count": null,
      "outputs": [
        {
          "output_type": "execute_result",
          "data": {
            "text/plain": [
              "Index(['Unnamed: 0', 'title', 'authors', 'n_citation', 'doi', 'url', 'pdf',\n",
              "       'conf', 'fos', 'year', 'pool', 'topic', 'labels', 'bib name', 'dIDs',\n",
              "       'ddIDs', 'kc len', 'ref int', 'semantic score', 'base heats',\n",
              "       'der heats'],\n",
              "      dtype='object')"
            ]
          },
          "metadata": {
            "tags": []
          },
          "execution_count": 46
        }
      ]
    },
    {
      "cell_type": "code",
      "metadata": {
        "colab": {
          "base_uri": "https://localhost:8080/"
        },
        "id": "MrSjhqfgNZsX",
        "outputId": "fe157fa2-ce47-43e6-86f9-c672c74d8da1"
      },
      "source": [
        "df.columns"
      ],
      "execution_count": null,
      "outputs": [
        {
          "output_type": "execute_result",
          "data": {
            "text/plain": [
              "Index(['title', 'authors', 'n_citation', 'doi', 'url', 'pdf', 'conf', 'fos',\n",
              "       'year', 'pool', 'topic', 'labels', 'bib name', 'dIDs', 'ddIDs',\n",
              "       'kc len', 'ref int', 'semantic score', 'base heats', 'der heats'],\n",
              "      dtype='object')"
            ]
          },
          "metadata": {
            "tags": []
          },
          "execution_count": 25
        }
      ]
    },
    {
      "cell_type": "code",
      "metadata": {
        "id": "2Q1HQZElPhPD"
      },
      "source": [
        "def score(dref,bref):\n",
        "  dref = set(dref)\n",
        "  bref = set(bref)\n",
        "\n",
        "  intersect = bref.intersection(dref)\n",
        "  if(len(bref)==0):\n",
        "    return(0)\n",
        "  return(len(intersect)/len(bref))"
      ],
      "execution_count": null,
      "outputs": []
    },
    {
      "cell_type": "code",
      "metadata": {
        "id": "-pNJo0PUOF6R"
      },
      "source": [
        "d_dd_dict = {}\n",
        "\n",
        "d_dd_ref_int = []\n",
        "no_key = 0\n",
        "\n",
        "all_dd = []\n",
        "all_d = []\n",
        "\n",
        "def clean(s,chars):\n",
        "  for c in chars:\n",
        "    s = s.replace(c,'')\n",
        "\n",
        "  return(s)\n",
        "\n",
        "chars = [\"'\",'\"']\n",
        "\n",
        "for index,row in df.iterrows():\n",
        "  dIDs = make_list(row['dIDs'])\n",
        "  ddIDs = make_list(row['ddIDs'])\n",
        "\n",
        "  intersections = []\n",
        "\n",
        "  for i in range(len(dIDs)):\n",
        "    scores = []\n",
        "    d = dIDs[i]\n",
        "    d = clean(d,chars)\n",
        "    d = d.strip()\n",
        "    all_d.append(d)\n",
        "\n",
        "    dds = make_list(ddIDs[i],' #$# ')\n",
        "    # all_dd.extend(dds)\n",
        "\n",
        "    for dd in dds:\n",
        "      dd = clean(dd,chars)\n",
        "      all_dd.append(dd)\n",
        "      try:\n",
        "        scores.append(score(dref_dict[d.strip()],ddref_dict[dd.strip()]))\n",
        "      except:\n",
        "        print(dd)\n",
        "        scores.append(-1)\n",
        "\n",
        "    scores = [str(x) for x in scores]\n",
        "    scores = ' #$# '.join(scores)\n",
        "\n",
        "    intersections.append(scores)\n",
        "\n",
        "  intersections = ' #;# '.join(intersections)\n",
        "  if('-1' in intersections):\n",
        "    no_key+=1\n",
        "  d_dd_ref_int.append(intersections)\n",
        "\n",
        "len(d_dd_ref_int)"
      ],
      "execution_count": null,
      "outputs": []
    },
    {
      "cell_type": "code",
      "metadata": {
        "colab": {
          "base_uri": "https://localhost:8080/"
        },
        "id": "s2110tqqRJ-y",
        "outputId": "d436fc4b-013a-4fd6-8ed2-e2271c4842e9"
      },
      "source": [
        "no_key"
      ],
      "execution_count": null,
      "outputs": [
        {
          "output_type": "execute_result",
          "data": {
            "text/plain": [
              "1017"
            ]
          },
          "metadata": {
            "tags": []
          },
          "execution_count": 28
        }
      ]
    },
    {
      "cell_type": "code",
      "metadata": {
        "id": "4MtU9kY4OVbc"
      },
      "source": [
        "df['ref int d_dd'] = d_dd_ref_int\n",
        "df.to_csv('/content/drive/MyDrive/SAHA PROJECT - connectedpapers zip files/one_dataset_w_refint.csv',index=False)"
      ],
      "execution_count": null,
      "outputs": []
    },
    {
      "cell_type": "code",
      "metadata": {
        "colab": {
          "base_uri": "https://localhost:8080/"
        },
        "id": "PWuHBdOASJmZ",
        "outputId": "9cedaaf5-7b17-4fd7-feb6-42d179e2cd59"
      },
      "source": [
        "1258 - 1188"
      ],
      "execution_count": null,
      "outputs": [
        {
          "output_type": "execute_result",
          "data": {
            "text/plain": [
              "70"
            ]
          },
          "metadata": {
            "tags": []
          },
          "execution_count": 38
        }
      ]
    },
    {
      "cell_type": "markdown",
      "metadata": {
        "id": "HGFFG0x8aHOF"
      },
      "source": [
        "## All d papers have references. references of some of the dd papers are missing. Need to get it."
      ]
    },
    {
      "cell_type": "code",
      "metadata": {
        "id": "XeoJhMoTXhyt"
      },
      "source": [
        "with open('/content/drive/MyDrive/SAHA PROJECT - connectedpapers zip files/to_get_refs.txt','w+') as f:\n",
        "  for id in (a-a2):\n",
        "    f.write(id+'\\n')"
      ],
      "execution_count": null,
      "outputs": []
    },
    {
      "cell_type": "code",
      "metadata": {
        "id": "e5W1hmODXwxV"
      },
      "source": [
        "df = pd.DataFrame({'ddId':list(a-a2)})\n",
        "df.to_csv('/content/drive/MyDrive/SAHA PROJECT - connectedpapers zip files/to_get_refs.csv',index=False)"
      ],
      "execution_count": null,
      "outputs": []
    },
    {
      "cell_type": "code",
      "metadata": {
        "id": "QQVSKqgmYtWT"
      },
      "source": [
        "df = pd.read_csv('/content/drive/MyDrive/SAHA PROJECT - connectedpapers zip files/one_dataset_w_refint.csv')\n",
        "ref_int = list(df['ref int'])"
      ],
      "execution_count": null,
      "outputs": []
    },
    {
      "cell_type": "code",
      "metadata": {
        "colab": {
          "base_uri": "https://localhost:8080/",
          "height": 71
        },
        "id": "a4SnJiQHEQ9u",
        "outputId": "238fc9b7-6c87-46d4-b09c-ed4503e0316e"
      },
      "source": [
        "def make_str(s):\n",
        "  s = s.strip()\n",
        "  s = s[1:-1]\n",
        "  s = s.split(', ')\n",
        "\n",
        "  s = ' #;# '.join(s)\n",
        "  # print(s)\n",
        "  return(s)\n",
        "\n",
        "make_str(ref_int[0])"
      ],
      "execution_count": null,
      "outputs": [
        {
          "output_type": "execute_result",
          "data": {
            "application/vnd.google.colaboratory.intrinsic+json": {
              "type": "string"
            },
            "text/plain": [
              "'0.07692307692307693 #;# 0.07692307692307693 #;# 0.07692307692307693 #;# 0.0 #;# 0.07692307692307693 #;# 0.15384615384615385 #;# 0.0 #;# 0.0 #;# 0.0 #;# 0.07692307692307693'"
            ]
          },
          "metadata": {
            "tags": []
          },
          "execution_count": 38
        }
      ]
    },
    {
      "cell_type": "code",
      "metadata": {
        "id": "M9S78POSEkgI"
      },
      "source": [
        "ref_int2 = [make_str(x) for x in ref_int]\n",
        "ref_int2[0]\n",
        "df['ref int'] = ref_int2\n",
        "\n",
        "df.to_csv('/content/drive/MyDrive/SAHA PROJECT - connectedpapers zip files/one_dataset_w_refint.csv',index=False)"
      ],
      "execution_count": null,
      "outputs": []
    },
    {
      "cell_type": "code",
      "metadata": {
        "id": "NvJqPY8zFN0o"
      },
      "source": [
        ""
      ],
      "execution_count": null,
      "outputs": []
    }
  ]
}